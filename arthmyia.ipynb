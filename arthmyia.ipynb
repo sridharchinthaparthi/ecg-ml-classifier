{
 "cells": [
  {
   "cell_type": "code",
   "execution_count": 34,
   "metadata": {
    "_cell_guid": "b1076dfc-b9ad-4769-8c92-a6c4dae69d19",
    "_uuid": "8f2839f25d086af736a60e9eeb907d3b93b6e0e5",
    "execution": {
     "iopub.execute_input": "2025-03-02T06:58:06.198280Z",
     "iopub.status.busy": "2025-03-02T06:58:06.197011Z",
     "iopub.status.idle": "2025-03-02T06:58:06.205378Z",
     "shell.execute_reply": "2025-03-02T06:58:06.204512Z",
     "shell.execute_reply.started": "2025-03-02T06:58:06.198238Z"
    },
    "trusted": true
   },
   "outputs": [
    {
     "name": "stdout",
     "output_type": "stream",
     "text": [
      "/kaggle/input/ecg-arrhythmia-mitbih-dataset/mitbih_test.csv\n",
      "/kaggle/input/ecg-arrhythmia-mitbih-dataset/mitbih_train.csv\n"
     ]
    }
   ],
   "source": [
    "import numpy as np \n",
    "import pandas as pd \n",
    "import os\n",
    "for dirname, _, filenames in os.walk('/kaggle/input/ecg-arrhythmia-mitbih-dataset'):\n",
    "    for filename in filenames:\n",
    "        print(os.path.join(dirname, filename))"
   ]
  },
  {
   "cell_type": "markdown",
   "metadata": {},
   "source": [
    "**Import all libraries**"
   ]
  },
  {
   "cell_type": "code",
   "execution_count": 35,
   "metadata": {
    "execution": {
     "iopub.execute_input": "2025-03-02T06:58:06.422411Z",
     "iopub.status.busy": "2025-03-02T06:58:06.421779Z",
     "iopub.status.idle": "2025-03-02T06:58:06.428186Z",
     "shell.execute_reply": "2025-03-02T06:58:06.427284Z",
     "shell.execute_reply.started": "2025-03-02T06:58:06.422383Z"
    },
    "trusted": true
   },
   "outputs": [],
   "source": [
    "import numpy as np\n",
    "import pandas as pd\n",
    "import seaborn as sns\n",
    "import matplotlib.pyplot as plt\n",
    "from sklearn.metrics import classification_report\n",
    "from sklearn.model_selection import train_test_split\n",
    "from sklearn.metrics import f1_score\n",
    "from sklearn.metrics import confusion_matrix,accuracy_score, precision_score, recall_score, f1_score\n",
    "from keras.utils.np_utils import to_categorical\n",
    "from sklearn.utils import class_weight\n",
    "import warnings\n",
    "from sklearn.metrics import roc_curve, auc\n",
    "import csv\n",
    "import cv2\n",
    "from keras.callbacks import EarlyStopping, ModelCheckpoint\n",
    "import tensorflow as tf\n",
    "import time\n",
    "import psutil\n",
    "warnings.filterwarnings('ignore')"
   ]
  },
  {
   "cell_type": "markdown",
   "metadata": {},
   "source": [
    "**Read the train and test data**"
   ]
  },
  {
   "cell_type": "code",
   "execution_count": 36,
   "metadata": {
    "execution": {
     "iopub.execute_input": "2025-03-02T06:58:06.430957Z",
     "iopub.status.busy": "2025-03-02T06:58:06.430035Z",
     "iopub.status.idle": "2025-03-02T06:58:10.750936Z",
     "shell.execute_reply": "2025-03-02T06:58:10.750139Z",
     "shell.execute_reply.started": "2025-03-02T06:58:06.430920Z"
    },
    "trusted": true
   },
   "outputs": [],
   "source": [
    "df_train=pd.read_csv('/kaggle/input/ecg-arrhythmia-mitbih-dataset/mitbih_train.csv',header=None)\n",
    "df_test=pd.read_csv('/kaggle/input/ecg-arrhythmia-mitbih-dataset/mitbih_test.csv',header=None)"
   ]
  },
  {
   "cell_type": "markdown",
   "metadata": {},
   "source": [
    "**Checking the shape of train and test dataset**"
   ]
  },
  {
   "cell_type": "code",
   "execution_count": 37,
   "metadata": {
    "execution": {
     "iopub.execute_input": "2025-03-02T06:58:10.753511Z",
     "iopub.status.busy": "2025-03-02T06:58:10.752856Z",
     "iopub.status.idle": "2025-03-02T06:58:10.758965Z",
     "shell.execute_reply": "2025-03-02T06:58:10.757977Z",
     "shell.execute_reply.started": "2025-03-02T06:58:10.753471Z"
    },
    "trusted": true
   },
   "outputs": [
    {
     "name": "stdout",
     "output_type": "stream",
     "text": [
      "(87554, 188)\n",
      "(21892, 188)\n"
     ]
    }
   ],
   "source": [
    "print(df_train.shape)\n",
    "print(df_test.shape)"
   ]
  },
  {
   "cell_type": "code",
   "execution_count": 38,
   "metadata": {
    "execution": {
     "iopub.execute_input": "2025-03-02T06:58:10.760466Z",
     "iopub.status.busy": "2025-03-02T06:58:10.760092Z",
     "iopub.status.idle": "2025-03-02T06:58:10.799082Z",
     "shell.execute_reply": "2025-03-02T06:58:10.798225Z",
     "shell.execute_reply.started": "2025-03-02T06:58:10.760420Z"
    },
    "trusted": true
   },
   "outputs": [
    {
     "data": {
      "text/html": [
       "<div>\n",
       "<style scoped>\n",
       "    .dataframe tbody tr th:only-of-type {\n",
       "        vertical-align: middle;\n",
       "    }\n",
       "\n",
       "    .dataframe tbody tr th {\n",
       "        vertical-align: top;\n",
       "    }\n",
       "\n",
       "    .dataframe thead th {\n",
       "        text-align: right;\n",
       "    }\n",
       "</style>\n",
       "<table border=\"1\" class=\"dataframe\">\n",
       "  <thead>\n",
       "    <tr style=\"text-align: right;\">\n",
       "      <th></th>\n",
       "      <th>0</th>\n",
       "      <th>1</th>\n",
       "      <th>2</th>\n",
       "      <th>3</th>\n",
       "      <th>4</th>\n",
       "      <th>5</th>\n",
       "      <th>6</th>\n",
       "      <th>7</th>\n",
       "      <th>8</th>\n",
       "      <th>9</th>\n",
       "      <th>...</th>\n",
       "      <th>178</th>\n",
       "      <th>179</th>\n",
       "      <th>180</th>\n",
       "      <th>181</th>\n",
       "      <th>182</th>\n",
       "      <th>183</th>\n",
       "      <th>184</th>\n",
       "      <th>185</th>\n",
       "      <th>186</th>\n",
       "      <th>187</th>\n",
       "    </tr>\n",
       "  </thead>\n",
       "  <tbody>\n",
       "    <tr>\n",
       "      <th>0</th>\n",
       "      <td>0.977941</td>\n",
       "      <td>0.926471</td>\n",
       "      <td>0.681373</td>\n",
       "      <td>0.245098</td>\n",
       "      <td>0.154412</td>\n",
       "      <td>0.191176</td>\n",
       "      <td>0.151961</td>\n",
       "      <td>0.085784</td>\n",
       "      <td>0.058824</td>\n",
       "      <td>0.049020</td>\n",
       "      <td>...</td>\n",
       "      <td>0.0</td>\n",
       "      <td>0.0</td>\n",
       "      <td>0.0</td>\n",
       "      <td>0.0</td>\n",
       "      <td>0.0</td>\n",
       "      <td>0.0</td>\n",
       "      <td>0.0</td>\n",
       "      <td>0.0</td>\n",
       "      <td>0.0</td>\n",
       "      <td>0.0</td>\n",
       "    </tr>\n",
       "    <tr>\n",
       "      <th>1</th>\n",
       "      <td>0.960114</td>\n",
       "      <td>0.863248</td>\n",
       "      <td>0.461538</td>\n",
       "      <td>0.196581</td>\n",
       "      <td>0.094017</td>\n",
       "      <td>0.125356</td>\n",
       "      <td>0.099715</td>\n",
       "      <td>0.088319</td>\n",
       "      <td>0.074074</td>\n",
       "      <td>0.082621</td>\n",
       "      <td>...</td>\n",
       "      <td>0.0</td>\n",
       "      <td>0.0</td>\n",
       "      <td>0.0</td>\n",
       "      <td>0.0</td>\n",
       "      <td>0.0</td>\n",
       "      <td>0.0</td>\n",
       "      <td>0.0</td>\n",
       "      <td>0.0</td>\n",
       "      <td>0.0</td>\n",
       "      <td>0.0</td>\n",
       "    </tr>\n",
       "    <tr>\n",
       "      <th>2</th>\n",
       "      <td>1.000000</td>\n",
       "      <td>0.659459</td>\n",
       "      <td>0.186486</td>\n",
       "      <td>0.070270</td>\n",
       "      <td>0.070270</td>\n",
       "      <td>0.059459</td>\n",
       "      <td>0.056757</td>\n",
       "      <td>0.043243</td>\n",
       "      <td>0.054054</td>\n",
       "      <td>0.045946</td>\n",
       "      <td>...</td>\n",
       "      <td>0.0</td>\n",
       "      <td>0.0</td>\n",
       "      <td>0.0</td>\n",
       "      <td>0.0</td>\n",
       "      <td>0.0</td>\n",
       "      <td>0.0</td>\n",
       "      <td>0.0</td>\n",
       "      <td>0.0</td>\n",
       "      <td>0.0</td>\n",
       "      <td>0.0</td>\n",
       "    </tr>\n",
       "    <tr>\n",
       "      <th>3</th>\n",
       "      <td>0.925414</td>\n",
       "      <td>0.665746</td>\n",
       "      <td>0.541436</td>\n",
       "      <td>0.276243</td>\n",
       "      <td>0.196133</td>\n",
       "      <td>0.077348</td>\n",
       "      <td>0.071823</td>\n",
       "      <td>0.060773</td>\n",
       "      <td>0.066298</td>\n",
       "      <td>0.058011</td>\n",
       "      <td>...</td>\n",
       "      <td>0.0</td>\n",
       "      <td>0.0</td>\n",
       "      <td>0.0</td>\n",
       "      <td>0.0</td>\n",
       "      <td>0.0</td>\n",
       "      <td>0.0</td>\n",
       "      <td>0.0</td>\n",
       "      <td>0.0</td>\n",
       "      <td>0.0</td>\n",
       "      <td>0.0</td>\n",
       "    </tr>\n",
       "    <tr>\n",
       "      <th>4</th>\n",
       "      <td>0.967136</td>\n",
       "      <td>1.000000</td>\n",
       "      <td>0.830986</td>\n",
       "      <td>0.586854</td>\n",
       "      <td>0.356808</td>\n",
       "      <td>0.248826</td>\n",
       "      <td>0.145540</td>\n",
       "      <td>0.089202</td>\n",
       "      <td>0.117371</td>\n",
       "      <td>0.150235</td>\n",
       "      <td>...</td>\n",
       "      <td>0.0</td>\n",
       "      <td>0.0</td>\n",
       "      <td>0.0</td>\n",
       "      <td>0.0</td>\n",
       "      <td>0.0</td>\n",
       "      <td>0.0</td>\n",
       "      <td>0.0</td>\n",
       "      <td>0.0</td>\n",
       "      <td>0.0</td>\n",
       "      <td>0.0</td>\n",
       "    </tr>\n",
       "    <tr>\n",
       "      <th>...</th>\n",
       "      <td>...</td>\n",
       "      <td>...</td>\n",
       "      <td>...</td>\n",
       "      <td>...</td>\n",
       "      <td>...</td>\n",
       "      <td>...</td>\n",
       "      <td>...</td>\n",
       "      <td>...</td>\n",
       "      <td>...</td>\n",
       "      <td>...</td>\n",
       "      <td>...</td>\n",
       "      <td>...</td>\n",
       "      <td>...</td>\n",
       "      <td>...</td>\n",
       "      <td>...</td>\n",
       "      <td>...</td>\n",
       "      <td>...</td>\n",
       "      <td>...</td>\n",
       "      <td>...</td>\n",
       "      <td>...</td>\n",
       "      <td>...</td>\n",
       "    </tr>\n",
       "    <tr>\n",
       "      <th>87549</th>\n",
       "      <td>0.807018</td>\n",
       "      <td>0.494737</td>\n",
       "      <td>0.536842</td>\n",
       "      <td>0.529825</td>\n",
       "      <td>0.491228</td>\n",
       "      <td>0.484211</td>\n",
       "      <td>0.456140</td>\n",
       "      <td>0.396491</td>\n",
       "      <td>0.284211</td>\n",
       "      <td>0.136842</td>\n",
       "      <td>...</td>\n",
       "      <td>0.0</td>\n",
       "      <td>0.0</td>\n",
       "      <td>0.0</td>\n",
       "      <td>0.0</td>\n",
       "      <td>0.0</td>\n",
       "      <td>0.0</td>\n",
       "      <td>0.0</td>\n",
       "      <td>0.0</td>\n",
       "      <td>0.0</td>\n",
       "      <td>4.0</td>\n",
       "    </tr>\n",
       "    <tr>\n",
       "      <th>87550</th>\n",
       "      <td>0.718333</td>\n",
       "      <td>0.605000</td>\n",
       "      <td>0.486667</td>\n",
       "      <td>0.361667</td>\n",
       "      <td>0.231667</td>\n",
       "      <td>0.120000</td>\n",
       "      <td>0.051667</td>\n",
       "      <td>0.001667</td>\n",
       "      <td>0.000000</td>\n",
       "      <td>0.013333</td>\n",
       "      <td>...</td>\n",
       "      <td>0.0</td>\n",
       "      <td>0.0</td>\n",
       "      <td>0.0</td>\n",
       "      <td>0.0</td>\n",
       "      <td>0.0</td>\n",
       "      <td>0.0</td>\n",
       "      <td>0.0</td>\n",
       "      <td>0.0</td>\n",
       "      <td>0.0</td>\n",
       "      <td>4.0</td>\n",
       "    </tr>\n",
       "    <tr>\n",
       "      <th>87551</th>\n",
       "      <td>0.906122</td>\n",
       "      <td>0.624490</td>\n",
       "      <td>0.595918</td>\n",
       "      <td>0.575510</td>\n",
       "      <td>0.530612</td>\n",
       "      <td>0.481633</td>\n",
       "      <td>0.444898</td>\n",
       "      <td>0.387755</td>\n",
       "      <td>0.322449</td>\n",
       "      <td>0.191837</td>\n",
       "      <td>...</td>\n",
       "      <td>0.0</td>\n",
       "      <td>0.0</td>\n",
       "      <td>0.0</td>\n",
       "      <td>0.0</td>\n",
       "      <td>0.0</td>\n",
       "      <td>0.0</td>\n",
       "      <td>0.0</td>\n",
       "      <td>0.0</td>\n",
       "      <td>0.0</td>\n",
       "      <td>4.0</td>\n",
       "    </tr>\n",
       "    <tr>\n",
       "      <th>87552</th>\n",
       "      <td>0.858228</td>\n",
       "      <td>0.645570</td>\n",
       "      <td>0.845570</td>\n",
       "      <td>0.248101</td>\n",
       "      <td>0.167089</td>\n",
       "      <td>0.131646</td>\n",
       "      <td>0.121519</td>\n",
       "      <td>0.121519</td>\n",
       "      <td>0.118987</td>\n",
       "      <td>0.103797</td>\n",
       "      <td>...</td>\n",
       "      <td>0.0</td>\n",
       "      <td>0.0</td>\n",
       "      <td>0.0</td>\n",
       "      <td>0.0</td>\n",
       "      <td>0.0</td>\n",
       "      <td>0.0</td>\n",
       "      <td>0.0</td>\n",
       "      <td>0.0</td>\n",
       "      <td>0.0</td>\n",
       "      <td>4.0</td>\n",
       "    </tr>\n",
       "    <tr>\n",
       "      <th>87553</th>\n",
       "      <td>0.901506</td>\n",
       "      <td>0.845886</td>\n",
       "      <td>0.800695</td>\n",
       "      <td>0.748552</td>\n",
       "      <td>0.687138</td>\n",
       "      <td>0.599073</td>\n",
       "      <td>0.512167</td>\n",
       "      <td>0.427578</td>\n",
       "      <td>0.395133</td>\n",
       "      <td>0.402086</td>\n",
       "      <td>...</td>\n",
       "      <td>0.0</td>\n",
       "      <td>0.0</td>\n",
       "      <td>0.0</td>\n",
       "      <td>0.0</td>\n",
       "      <td>0.0</td>\n",
       "      <td>0.0</td>\n",
       "      <td>0.0</td>\n",
       "      <td>0.0</td>\n",
       "      <td>0.0</td>\n",
       "      <td>4.0</td>\n",
       "    </tr>\n",
       "  </tbody>\n",
       "</table>\n",
       "<p>87554 rows × 188 columns</p>\n",
       "</div>"
      ],
      "text/plain": [
       "            0         1         2         3         4         5         6    \\\n",
       "0      0.977941  0.926471  0.681373  0.245098  0.154412  0.191176  0.151961   \n",
       "1      0.960114  0.863248  0.461538  0.196581  0.094017  0.125356  0.099715   \n",
       "2      1.000000  0.659459  0.186486  0.070270  0.070270  0.059459  0.056757   \n",
       "3      0.925414  0.665746  0.541436  0.276243  0.196133  0.077348  0.071823   \n",
       "4      0.967136  1.000000  0.830986  0.586854  0.356808  0.248826  0.145540   \n",
       "...         ...       ...       ...       ...       ...       ...       ...   \n",
       "87549  0.807018  0.494737  0.536842  0.529825  0.491228  0.484211  0.456140   \n",
       "87550  0.718333  0.605000  0.486667  0.361667  0.231667  0.120000  0.051667   \n",
       "87551  0.906122  0.624490  0.595918  0.575510  0.530612  0.481633  0.444898   \n",
       "87552  0.858228  0.645570  0.845570  0.248101  0.167089  0.131646  0.121519   \n",
       "87553  0.901506  0.845886  0.800695  0.748552  0.687138  0.599073  0.512167   \n",
       "\n",
       "            7         8         9    ...  178  179  180  181  182  183  184  \\\n",
       "0      0.085784  0.058824  0.049020  ...  0.0  0.0  0.0  0.0  0.0  0.0  0.0   \n",
       "1      0.088319  0.074074  0.082621  ...  0.0  0.0  0.0  0.0  0.0  0.0  0.0   \n",
       "2      0.043243  0.054054  0.045946  ...  0.0  0.0  0.0  0.0  0.0  0.0  0.0   \n",
       "3      0.060773  0.066298  0.058011  ...  0.0  0.0  0.0  0.0  0.0  0.0  0.0   \n",
       "4      0.089202  0.117371  0.150235  ...  0.0  0.0  0.0  0.0  0.0  0.0  0.0   \n",
       "...         ...       ...       ...  ...  ...  ...  ...  ...  ...  ...  ...   \n",
       "87549  0.396491  0.284211  0.136842  ...  0.0  0.0  0.0  0.0  0.0  0.0  0.0   \n",
       "87550  0.001667  0.000000  0.013333  ...  0.0  0.0  0.0  0.0  0.0  0.0  0.0   \n",
       "87551  0.387755  0.322449  0.191837  ...  0.0  0.0  0.0  0.0  0.0  0.0  0.0   \n",
       "87552  0.121519  0.118987  0.103797  ...  0.0  0.0  0.0  0.0  0.0  0.0  0.0   \n",
       "87553  0.427578  0.395133  0.402086  ...  0.0  0.0  0.0  0.0  0.0  0.0  0.0   \n",
       "\n",
       "       185  186  187  \n",
       "0      0.0  0.0  0.0  \n",
       "1      0.0  0.0  0.0  \n",
       "2      0.0  0.0  0.0  \n",
       "3      0.0  0.0  0.0  \n",
       "4      0.0  0.0  0.0  \n",
       "...    ...  ...  ...  \n",
       "87549  0.0  0.0  4.0  \n",
       "87550  0.0  0.0  4.0  \n",
       "87551  0.0  0.0  4.0  \n",
       "87552  0.0  0.0  4.0  \n",
       "87553  0.0  0.0  4.0  \n",
       "\n",
       "[87554 rows x 188 columns]"
      ]
     },
     "execution_count": 38,
     "metadata": {},
     "output_type": "execute_result"
    }
   ],
   "source": [
    "df_train"
   ]
  },
  {
   "cell_type": "code",
   "execution_count": 39,
   "metadata": {
    "execution": {
     "iopub.execute_input": "2025-03-02T06:58:10.802581Z",
     "iopub.status.busy": "2025-03-02T06:58:10.801979Z",
     "iopub.status.idle": "2025-03-02T06:58:10.832219Z",
     "shell.execute_reply": "2025-03-02T06:58:10.831196Z",
     "shell.execute_reply.started": "2025-03-02T06:58:10.802544Z"
    },
    "trusted": true
   },
   "outputs": [
    {
     "data": {
      "text/html": [
       "<div>\n",
       "<style scoped>\n",
       "    .dataframe tbody tr th:only-of-type {\n",
       "        vertical-align: middle;\n",
       "    }\n",
       "\n",
       "    .dataframe tbody tr th {\n",
       "        vertical-align: top;\n",
       "    }\n",
       "\n",
       "    .dataframe thead th {\n",
       "        text-align: right;\n",
       "    }\n",
       "</style>\n",
       "<table border=\"1\" class=\"dataframe\">\n",
       "  <thead>\n",
       "    <tr style=\"text-align: right;\">\n",
       "      <th></th>\n",
       "      <th>0</th>\n",
       "      <th>1</th>\n",
       "      <th>2</th>\n",
       "      <th>3</th>\n",
       "      <th>4</th>\n",
       "      <th>5</th>\n",
       "      <th>6</th>\n",
       "      <th>7</th>\n",
       "      <th>8</th>\n",
       "      <th>9</th>\n",
       "      <th>...</th>\n",
       "      <th>178</th>\n",
       "      <th>179</th>\n",
       "      <th>180</th>\n",
       "      <th>181</th>\n",
       "      <th>182</th>\n",
       "      <th>183</th>\n",
       "      <th>184</th>\n",
       "      <th>185</th>\n",
       "      <th>186</th>\n",
       "      <th>187</th>\n",
       "    </tr>\n",
       "  </thead>\n",
       "  <tbody>\n",
       "    <tr>\n",
       "      <th>0</th>\n",
       "      <td>1.000000</td>\n",
       "      <td>0.758264</td>\n",
       "      <td>0.111570</td>\n",
       "      <td>0.000000</td>\n",
       "      <td>0.080579</td>\n",
       "      <td>0.078512</td>\n",
       "      <td>0.066116</td>\n",
       "      <td>0.049587</td>\n",
       "      <td>0.047521</td>\n",
       "      <td>0.035124</td>\n",
       "      <td>...</td>\n",
       "      <td>0.0</td>\n",
       "      <td>0.0</td>\n",
       "      <td>0.0</td>\n",
       "      <td>0.0</td>\n",
       "      <td>0.0</td>\n",
       "      <td>0.0</td>\n",
       "      <td>0.0</td>\n",
       "      <td>0.0</td>\n",
       "      <td>0.0</td>\n",
       "      <td>0.0</td>\n",
       "    </tr>\n",
       "    <tr>\n",
       "      <th>1</th>\n",
       "      <td>0.908425</td>\n",
       "      <td>0.783883</td>\n",
       "      <td>0.531136</td>\n",
       "      <td>0.362637</td>\n",
       "      <td>0.366300</td>\n",
       "      <td>0.344322</td>\n",
       "      <td>0.333333</td>\n",
       "      <td>0.307692</td>\n",
       "      <td>0.296703</td>\n",
       "      <td>0.300366</td>\n",
       "      <td>...</td>\n",
       "      <td>0.0</td>\n",
       "      <td>0.0</td>\n",
       "      <td>0.0</td>\n",
       "      <td>0.0</td>\n",
       "      <td>0.0</td>\n",
       "      <td>0.0</td>\n",
       "      <td>0.0</td>\n",
       "      <td>0.0</td>\n",
       "      <td>0.0</td>\n",
       "      <td>0.0</td>\n",
       "    </tr>\n",
       "    <tr>\n",
       "      <th>2</th>\n",
       "      <td>0.730088</td>\n",
       "      <td>0.212389</td>\n",
       "      <td>0.000000</td>\n",
       "      <td>0.119469</td>\n",
       "      <td>0.101770</td>\n",
       "      <td>0.101770</td>\n",
       "      <td>0.110619</td>\n",
       "      <td>0.123894</td>\n",
       "      <td>0.115044</td>\n",
       "      <td>0.132743</td>\n",
       "      <td>...</td>\n",
       "      <td>0.0</td>\n",
       "      <td>0.0</td>\n",
       "      <td>0.0</td>\n",
       "      <td>0.0</td>\n",
       "      <td>0.0</td>\n",
       "      <td>0.0</td>\n",
       "      <td>0.0</td>\n",
       "      <td>0.0</td>\n",
       "      <td>0.0</td>\n",
       "      <td>0.0</td>\n",
       "    </tr>\n",
       "    <tr>\n",
       "      <th>3</th>\n",
       "      <td>1.000000</td>\n",
       "      <td>0.910417</td>\n",
       "      <td>0.681250</td>\n",
       "      <td>0.472917</td>\n",
       "      <td>0.229167</td>\n",
       "      <td>0.068750</td>\n",
       "      <td>0.000000</td>\n",
       "      <td>0.004167</td>\n",
       "      <td>0.014583</td>\n",
       "      <td>0.054167</td>\n",
       "      <td>...</td>\n",
       "      <td>0.0</td>\n",
       "      <td>0.0</td>\n",
       "      <td>0.0</td>\n",
       "      <td>0.0</td>\n",
       "      <td>0.0</td>\n",
       "      <td>0.0</td>\n",
       "      <td>0.0</td>\n",
       "      <td>0.0</td>\n",
       "      <td>0.0</td>\n",
       "      <td>0.0</td>\n",
       "    </tr>\n",
       "    <tr>\n",
       "      <th>4</th>\n",
       "      <td>0.570470</td>\n",
       "      <td>0.399329</td>\n",
       "      <td>0.238255</td>\n",
       "      <td>0.147651</td>\n",
       "      <td>0.000000</td>\n",
       "      <td>0.003356</td>\n",
       "      <td>0.040268</td>\n",
       "      <td>0.080537</td>\n",
       "      <td>0.070470</td>\n",
       "      <td>0.090604</td>\n",
       "      <td>...</td>\n",
       "      <td>0.0</td>\n",
       "      <td>0.0</td>\n",
       "      <td>0.0</td>\n",
       "      <td>0.0</td>\n",
       "      <td>0.0</td>\n",
       "      <td>0.0</td>\n",
       "      <td>0.0</td>\n",
       "      <td>0.0</td>\n",
       "      <td>0.0</td>\n",
       "      <td>0.0</td>\n",
       "    </tr>\n",
       "    <tr>\n",
       "      <th>...</th>\n",
       "      <td>...</td>\n",
       "      <td>...</td>\n",
       "      <td>...</td>\n",
       "      <td>...</td>\n",
       "      <td>...</td>\n",
       "      <td>...</td>\n",
       "      <td>...</td>\n",
       "      <td>...</td>\n",
       "      <td>...</td>\n",
       "      <td>...</td>\n",
       "      <td>...</td>\n",
       "      <td>...</td>\n",
       "      <td>...</td>\n",
       "      <td>...</td>\n",
       "      <td>...</td>\n",
       "      <td>...</td>\n",
       "      <td>...</td>\n",
       "      <td>...</td>\n",
       "      <td>...</td>\n",
       "      <td>...</td>\n",
       "      <td>...</td>\n",
       "    </tr>\n",
       "    <tr>\n",
       "      <th>21887</th>\n",
       "      <td>0.928736</td>\n",
       "      <td>0.871264</td>\n",
       "      <td>0.804598</td>\n",
       "      <td>0.742529</td>\n",
       "      <td>0.650575</td>\n",
       "      <td>0.535632</td>\n",
       "      <td>0.394253</td>\n",
       "      <td>0.250575</td>\n",
       "      <td>0.140230</td>\n",
       "      <td>0.102299</td>\n",
       "      <td>...</td>\n",
       "      <td>0.0</td>\n",
       "      <td>0.0</td>\n",
       "      <td>0.0</td>\n",
       "      <td>0.0</td>\n",
       "      <td>0.0</td>\n",
       "      <td>0.0</td>\n",
       "      <td>0.0</td>\n",
       "      <td>0.0</td>\n",
       "      <td>0.0</td>\n",
       "      <td>4.0</td>\n",
       "    </tr>\n",
       "    <tr>\n",
       "      <th>21888</th>\n",
       "      <td>0.802691</td>\n",
       "      <td>0.692078</td>\n",
       "      <td>0.587444</td>\n",
       "      <td>0.446936</td>\n",
       "      <td>0.318386</td>\n",
       "      <td>0.189836</td>\n",
       "      <td>0.118087</td>\n",
       "      <td>0.077728</td>\n",
       "      <td>0.112108</td>\n",
       "      <td>0.152466</td>\n",
       "      <td>...</td>\n",
       "      <td>0.0</td>\n",
       "      <td>0.0</td>\n",
       "      <td>0.0</td>\n",
       "      <td>0.0</td>\n",
       "      <td>0.0</td>\n",
       "      <td>0.0</td>\n",
       "      <td>0.0</td>\n",
       "      <td>0.0</td>\n",
       "      <td>0.0</td>\n",
       "      <td>4.0</td>\n",
       "    </tr>\n",
       "    <tr>\n",
       "      <th>21889</th>\n",
       "      <td>1.000000</td>\n",
       "      <td>0.967359</td>\n",
       "      <td>0.620178</td>\n",
       "      <td>0.347181</td>\n",
       "      <td>0.139466</td>\n",
       "      <td>0.089021</td>\n",
       "      <td>0.103858</td>\n",
       "      <td>0.100890</td>\n",
       "      <td>0.106825</td>\n",
       "      <td>0.100890</td>\n",
       "      <td>...</td>\n",
       "      <td>0.0</td>\n",
       "      <td>0.0</td>\n",
       "      <td>0.0</td>\n",
       "      <td>0.0</td>\n",
       "      <td>0.0</td>\n",
       "      <td>0.0</td>\n",
       "      <td>0.0</td>\n",
       "      <td>0.0</td>\n",
       "      <td>0.0</td>\n",
       "      <td>4.0</td>\n",
       "    </tr>\n",
       "    <tr>\n",
       "      <th>21890</th>\n",
       "      <td>0.984127</td>\n",
       "      <td>0.567460</td>\n",
       "      <td>0.607143</td>\n",
       "      <td>0.583333</td>\n",
       "      <td>0.607143</td>\n",
       "      <td>0.575397</td>\n",
       "      <td>0.575397</td>\n",
       "      <td>0.488095</td>\n",
       "      <td>0.392857</td>\n",
       "      <td>0.238095</td>\n",
       "      <td>...</td>\n",
       "      <td>0.0</td>\n",
       "      <td>0.0</td>\n",
       "      <td>0.0</td>\n",
       "      <td>0.0</td>\n",
       "      <td>0.0</td>\n",
       "      <td>0.0</td>\n",
       "      <td>0.0</td>\n",
       "      <td>0.0</td>\n",
       "      <td>0.0</td>\n",
       "      <td>4.0</td>\n",
       "    </tr>\n",
       "    <tr>\n",
       "      <th>21891</th>\n",
       "      <td>0.973970</td>\n",
       "      <td>0.913232</td>\n",
       "      <td>0.865510</td>\n",
       "      <td>0.823210</td>\n",
       "      <td>0.746204</td>\n",
       "      <td>0.642082</td>\n",
       "      <td>0.547722</td>\n",
       "      <td>0.426247</td>\n",
       "      <td>0.325380</td>\n",
       "      <td>0.279826</td>\n",
       "      <td>...</td>\n",
       "      <td>0.0</td>\n",
       "      <td>0.0</td>\n",
       "      <td>0.0</td>\n",
       "      <td>0.0</td>\n",
       "      <td>0.0</td>\n",
       "      <td>0.0</td>\n",
       "      <td>0.0</td>\n",
       "      <td>0.0</td>\n",
       "      <td>0.0</td>\n",
       "      <td>4.0</td>\n",
       "    </tr>\n",
       "  </tbody>\n",
       "</table>\n",
       "<p>21892 rows × 188 columns</p>\n",
       "</div>"
      ],
      "text/plain": [
       "            0         1         2         3         4         5         6    \\\n",
       "0      1.000000  0.758264  0.111570  0.000000  0.080579  0.078512  0.066116   \n",
       "1      0.908425  0.783883  0.531136  0.362637  0.366300  0.344322  0.333333   \n",
       "2      0.730088  0.212389  0.000000  0.119469  0.101770  0.101770  0.110619   \n",
       "3      1.000000  0.910417  0.681250  0.472917  0.229167  0.068750  0.000000   \n",
       "4      0.570470  0.399329  0.238255  0.147651  0.000000  0.003356  0.040268   \n",
       "...         ...       ...       ...       ...       ...       ...       ...   \n",
       "21887  0.928736  0.871264  0.804598  0.742529  0.650575  0.535632  0.394253   \n",
       "21888  0.802691  0.692078  0.587444  0.446936  0.318386  0.189836  0.118087   \n",
       "21889  1.000000  0.967359  0.620178  0.347181  0.139466  0.089021  0.103858   \n",
       "21890  0.984127  0.567460  0.607143  0.583333  0.607143  0.575397  0.575397   \n",
       "21891  0.973970  0.913232  0.865510  0.823210  0.746204  0.642082  0.547722   \n",
       "\n",
       "            7         8         9    ...  178  179  180  181  182  183  184  \\\n",
       "0      0.049587  0.047521  0.035124  ...  0.0  0.0  0.0  0.0  0.0  0.0  0.0   \n",
       "1      0.307692  0.296703  0.300366  ...  0.0  0.0  0.0  0.0  0.0  0.0  0.0   \n",
       "2      0.123894  0.115044  0.132743  ...  0.0  0.0  0.0  0.0  0.0  0.0  0.0   \n",
       "3      0.004167  0.014583  0.054167  ...  0.0  0.0  0.0  0.0  0.0  0.0  0.0   \n",
       "4      0.080537  0.070470  0.090604  ...  0.0  0.0  0.0  0.0  0.0  0.0  0.0   \n",
       "...         ...       ...       ...  ...  ...  ...  ...  ...  ...  ...  ...   \n",
       "21887  0.250575  0.140230  0.102299  ...  0.0  0.0  0.0  0.0  0.0  0.0  0.0   \n",
       "21888  0.077728  0.112108  0.152466  ...  0.0  0.0  0.0  0.0  0.0  0.0  0.0   \n",
       "21889  0.100890  0.106825  0.100890  ...  0.0  0.0  0.0  0.0  0.0  0.0  0.0   \n",
       "21890  0.488095  0.392857  0.238095  ...  0.0  0.0  0.0  0.0  0.0  0.0  0.0   \n",
       "21891  0.426247  0.325380  0.279826  ...  0.0  0.0  0.0  0.0  0.0  0.0  0.0   \n",
       "\n",
       "       185  186  187  \n",
       "0      0.0  0.0  0.0  \n",
       "1      0.0  0.0  0.0  \n",
       "2      0.0  0.0  0.0  \n",
       "3      0.0  0.0  0.0  \n",
       "4      0.0  0.0  0.0  \n",
       "...    ...  ...  ...  \n",
       "21887  0.0  0.0  4.0  \n",
       "21888  0.0  0.0  4.0  \n",
       "21889  0.0  0.0  4.0  \n",
       "21890  0.0  0.0  4.0  \n",
       "21891  0.0  0.0  4.0  \n",
       "\n",
       "[21892 rows x 188 columns]"
      ]
     },
     "execution_count": 39,
     "metadata": {},
     "output_type": "execute_result"
    }
   ],
   "source": [
    "df_test"
   ]
  },
  {
   "cell_type": "markdown",
   "metadata": {},
   "source": [
    "**Check the frequency of each unique classes in train data**"
   ]
  },
  {
   "cell_type": "code",
   "execution_count": 40,
   "metadata": {
    "execution": {
     "iopub.execute_input": "2025-03-02T06:58:10.833472Z",
     "iopub.status.busy": "2025-03-02T06:58:10.833222Z",
     "iopub.status.idle": "2025-03-02T06:58:10.883036Z",
     "shell.execute_reply": "2025-03-02T06:58:10.881948Z",
     "shell.execute_reply.started": "2025-03-02T06:58:10.833447Z"
    },
    "trusted": true
   },
   "outputs": [
    {
     "name": "stdout",
     "output_type": "stream",
     "text": [
      "0    72471\n",
      "4     6431\n",
      "2     5788\n",
      "1     2223\n",
      "3      641\n",
      "Name: 187, dtype: int64\n"
     ]
    }
   ],
   "source": [
    "df_train[187]=df_train[187].astype(int)\n",
    "equilibre=df_train[187].value_counts()\n",
    "print(equilibre)"
   ]
  },
  {
   "cell_type": "code",
   "execution_count": 41,
   "metadata": {
    "execution": {
     "iopub.execute_input": "2025-03-02T06:58:10.884845Z",
     "iopub.status.busy": "2025-03-02T06:58:10.884437Z",
     "iopub.status.idle": "2025-03-02T06:58:11.013728Z",
     "shell.execute_reply": "2025-03-02T06:58:11.012200Z",
     "shell.execute_reply.started": "2025-03-02T06:58:10.884803Z"
    },
    "trusted": true
   },
   "outputs": [
    {
     "data": {
      "image/png": "[encoded data removed]",
      "text/plain": [
       "<Figure size 1000x500 with 1 Axes>"
      ]
     },
     "metadata": {},
     "output_type": "display_data"
    }
   ],
   "source": [
    "plt.figure(figsize=(10,5))\n",
    "my_circle=plt.Circle( (0,0), 0.7, color='white')\n",
    "plt.pie(equilibre, labels=['n','q','v','s','f'], colors=['red','green','blue','skyblue','orange'],autopct='%1.1f%%')\n",
    "p=plt.gcf()\n",
    "p.gca().add_artist(my_circle)\n",
    "plt.show()"
   ]
  },
  {
   "cell_type": "markdown",
   "metadata": {},
   "source": [
    "**The classes are imbalanced. We downsample the '0' class and upsample the other classes**\n",
    "\n",
    "We used random sampling to sample"
   ]
  },
  {
   "cell_type": "code",
   "execution_count": 42,
   "metadata": {
    "execution": {
     "iopub.execute_input": "2025-03-02T06:58:11.016718Z",
     "iopub.status.busy": "2025-03-02T06:58:11.015753Z",
     "iopub.status.idle": "2025-03-02T06:58:11.228571Z",
     "shell.execute_reply": "2025-03-02T06:58:11.227732Z",
     "shell.execute_reply.started": "2025-03-02T06:58:11.016663Z"
    },
    "trusted": true
   },
   "outputs": [],
   "source": [
    "from sklearn.utils import resample\n",
    "df_1=df_train[df_train[187]==1]\n",
    "df_2=df_train[df_train[187]==2]\n",
    "df_3=df_train[df_train[187]==3]\n",
    "df_4=df_train[df_train[187]==4]\n",
    "df_0=(df_train[df_train[187]==0]).sample(n=20000,random_state=42)\n",
    "\n",
    "df_1_upsample=resample(df_1,replace=True,n_samples=20000,random_state=123)\n",
    "df_2_upsample=resample(df_2,replace=True,n_samples=20000,random_state=124)\n",
    "df_3_upsample=resample(df_3,replace=True,n_samples=20000,random_state=125)\n",
    "df_4_upsample=resample(df_4,replace=True,n_samples=20000,random_state=126)\n",
    "\n",
    "df_train=pd.concat([df_0,df_1_upsample,df_2_upsample,df_3_upsample,df_4_upsample])"
   ]
  },
  {
   "cell_type": "markdown",
   "metadata": {},
   "source": [
    "**Now we will see that the classes are balanced**"
   ]
  },
  {
   "cell_type": "code",
   "execution_count": 43,
   "metadata": {
    "execution": {
     "iopub.execute_input": "2025-03-02T06:58:11.229998Z",
     "iopub.status.busy": "2025-03-02T06:58:11.229734Z",
     "iopub.status.idle": "2025-03-02T06:58:11.237020Z",
     "shell.execute_reply": "2025-03-02T06:58:11.235939Z",
     "shell.execute_reply.started": "2025-03-02T06:58:11.229973Z"
    },
    "trusted": true
   },
   "outputs": [
    {
     "name": "stdout",
     "output_type": "stream",
     "text": [
      "0    20000\n",
      "1    20000\n",
      "2    20000\n",
      "3    20000\n",
      "4    20000\n",
      "Name: 187, dtype: int64\n"
     ]
    }
   ],
   "source": [
    "equilibre=df_train[187].value_counts()\n",
    "print(equilibre)"
   ]
  },
  {
   "cell_type": "code",
   "execution_count": 44,
   "metadata": {
    "execution": {
     "iopub.execute_input": "2025-03-02T06:58:11.238900Z",
     "iopub.status.busy": "2025-03-02T06:58:11.238562Z",
     "iopub.status.idle": "2025-03-02T06:58:11.352789Z",
     "shell.execute_reply": "2025-03-02T06:58:11.351402Z",
     "shell.execute_reply.started": "2025-03-02T06:58:11.238859Z"
    },
    "trusted": true
   },
   "outputs": [
    {
     "data": {
      "image/png": "[encoded data removed]",
      "text/plain": [
       "<Figure size 1000x500 with 1 Axes>"
      ]
     },
     "metadata": {},
     "output_type": "display_data"
    }
   ],
   "source": [
    "plt.figure(figsize=(10,5))\n",
    "my_circle=plt.Circle( (0,0), 0.7, color='white')\n",
    "plt.pie(equilibre, labels=['n','q','v','s','f'], colors=['red','green','blue','skyblue','orange'],autopct='%1.1f%%')\n",
    "p=plt.gcf()\n",
    "p.gca().add_artist(my_circle)\n",
    "plt.show()"
   ]
  },
  {
   "cell_type": "markdown",
   "metadata": {},
   "source": [
    "**Check the frequency of each unique classes in test data**"
   ]
  },
  {
   "cell_type": "code",
   "execution_count": 45,
   "metadata": {
    "execution": {
     "iopub.execute_input": "2025-03-02T06:58:11.358790Z",
     "iopub.status.busy": "2025-03-02T06:58:11.357820Z",
     "iopub.status.idle": "2025-03-02T06:58:11.378943Z",
     "shell.execute_reply": "2025-03-02T06:58:11.377921Z",
     "shell.execute_reply.started": "2025-03-02T06:58:11.358760Z"
    },
    "trusted": true
   },
   "outputs": [
    {
     "name": "stdout",
     "output_type": "stream",
     "text": [
      "0    18118\n",
      "4     1608\n",
      "2     1448\n",
      "1      556\n",
      "3      162\n",
      "Name: 187, dtype: int64\n"
     ]
    }
   ],
   "source": [
    "df_test[187]=df_test[187].astype(int)\n",
    "equilibre=df_test[187].value_counts()\n",
    "print(equilibre)"
   ]
  },
  {
   "cell_type": "code",
   "execution_count": 46,
   "metadata": {
    "execution": {
     "iopub.execute_input": "2025-03-02T06:58:11.381037Z",
     "iopub.status.busy": "2025-03-02T06:58:11.379970Z",
     "iopub.status.idle": "2025-03-02T06:58:11.479677Z",
     "shell.execute_reply": "2025-03-02T06:58:11.478645Z",
     "shell.execute_reply.started": "2025-03-02T06:58:11.380995Z"
    },
    "trusted": true
   },
   "outputs": [
    {
     "data": {
      "image/png": "[encoded data removed]",
      "text/plain": [
       "<Figure size 1000x500 with 1 Axes>"
      ]
     },
     "metadata": {},
     "output_type": "display_data"
    }
   ],
   "source": [
    "plt.figure(figsize=(10,5))\n",
    "my_circle=plt.Circle( (0,0), 0.7, color='white')\n",
    "plt.pie(equilibre, labels=['n','q','v','s','f'], colors=['red','green','blue','skyblue','orange'],autopct='%1.1f%%')\n",
    "p=plt.gcf()\n",
    "p.gca().add_artist(my_circle)\n",
    "plt.show()"
   ]
  },
  {
   "cell_type": "markdown",
   "metadata": {},
   "source": [
    "**The classes in test data are also imbalanced. We downsample the '0' class and upsample the other classes**\n",
    "\n",
    "We used random sampling to sample"
   ]
  },
  {
   "cell_type": "code",
   "execution_count": 47,
   "metadata": {
    "execution": {
     "iopub.execute_input": "2025-03-02T06:58:11.480955Z",
     "iopub.status.busy": "2025-03-02T06:58:11.480624Z",
     "iopub.status.idle": "2025-03-02T06:58:11.513157Z",
     "shell.execute_reply": "2025-03-02T06:58:11.512200Z",
     "shell.execute_reply.started": "2025-03-02T06:58:11.480922Z"
    },
    "trusted": true
   },
   "outputs": [],
   "source": [
    "from sklearn.utils import resample\n",
    "df_1=df_test[df_test[187]==1]\n",
    "df_2=df_test[df_test[187]==2]\n",
    "df_3=df_test[df_test[187]==3]\n",
    "df_4=df_test[df_test[187]==4]\n",
    "df_0=(df_test[df_test[187]==0]).sample(n=2000,random_state=42)\n",
    "\n",
    "df_1_upsample=resample(df_1,replace=True,n_samples=2000,random_state=123)\n",
    "df_2_upsample=resample(df_2,replace=True,n_samples=2000,random_state=124)\n",
    "df_3_upsample=resample(df_3,replace=True,n_samples=2000,random_state=125)\n",
    "df_4_upsample=resample(df_4,replace=True,n_samples=2000,random_state=126)\n",
    "\n",
    "df_test=pd.concat([df_0,df_1_upsample,df_2_upsample,df_3_upsample,df_4_upsample])"
   ]
  },
  {
   "cell_type": "markdown",
   "metadata": {},
   "source": []
  },
  {
   "cell_type": "markdown",
   "metadata": {},
   "source": [
    "**Now we will see that the classes are balanced**"
   ]
  },
  {
   "cell_type": "code",
   "execution_count": 48,
   "metadata": {
    "execution": {
     "iopub.execute_input": "2025-03-02T06:58:11.514851Z",
     "iopub.status.busy": "2025-03-02T06:58:11.514376Z",
     "iopub.status.idle": "2025-03-02T06:58:11.522423Z",
     "shell.execute_reply": "2025-03-02T06:58:11.521406Z",
     "shell.execute_reply.started": "2025-03-02T06:58:11.514814Z"
    },
    "trusted": true
   },
   "outputs": [
    {
     "name": "stdout",
     "output_type": "stream",
     "text": [
      "0    2000\n",
      "1    2000\n",
      "2    2000\n",
      "3    2000\n",
      "4    2000\n",
      "Name: 187, dtype: int64\n"
     ]
    }
   ],
   "source": [
    "equilibre=df_test[187].value_counts()\n",
    "print(equilibre)"
   ]
  },
  {
   "cell_type": "markdown",
   "metadata": {},
   "source": [
    "**Now let's check the wave form of each classes**"
   ]
  },
  {
   "cell_type": "code",
   "execution_count": 49,
   "metadata": {
    "execution": {
     "iopub.execute_input": "2025-03-02T06:58:11.523696Z",
     "iopub.status.busy": "2025-03-02T06:58:11.523382Z",
     "iopub.status.idle": "2025-03-02T06:58:11.604209Z",
     "shell.execute_reply": "2025-03-02T06:58:11.602898Z",
     "shell.execute_reply.started": "2025-03-02T06:58:11.523664Z"
    },
    "trusted": true
   },
   "outputs": [],
   "source": [
    "c=df_train.groupby(187,group_keys=False).apply(lambda df_train : df_train.sample(1))"
   ]
  },
  {
   "cell_type": "code",
   "execution_count": 50,
   "metadata": {
    "execution": {
     "iopub.execute_input": "2025-03-02T06:58:11.606135Z",
     "iopub.status.busy": "2025-03-02T06:58:11.605797Z",
     "iopub.status.idle": "2025-03-02T06:58:11.632800Z",
     "shell.execute_reply": "2025-03-02T06:58:11.631605Z",
     "shell.execute_reply.started": "2025-03-02T06:58:11.606103Z"
    },
    "trusted": true
   },
   "outputs": [
    {
     "data": {
      "text/html": [
       "<div>\n",
       "<style scoped>\n",
       "    .dataframe tbody tr th:only-of-type {\n",
       "        vertical-align: middle;\n",
       "    }\n",
       "\n",
       "    .dataframe tbody tr th {\n",
       "        vertical-align: top;\n",
       "    }\n",
       "\n",
       "    .dataframe thead th {\n",
       "        text-align: right;\n",
       "    }\n",
       "</style>\n",
       "<table border=\"1\" class=\"dataframe\">\n",
       "  <thead>\n",
       "    <tr style=\"text-align: right;\">\n",
       "      <th></th>\n",
       "      <th>0</th>\n",
       "      <th>1</th>\n",
       "      <th>2</th>\n",
       "      <th>3</th>\n",
       "      <th>4</th>\n",
       "      <th>5</th>\n",
       "      <th>6</th>\n",
       "      <th>7</th>\n",
       "      <th>8</th>\n",
       "      <th>9</th>\n",
       "      <th>...</th>\n",
       "      <th>178</th>\n",
       "      <th>179</th>\n",
       "      <th>180</th>\n",
       "      <th>181</th>\n",
       "      <th>182</th>\n",
       "      <th>183</th>\n",
       "      <th>184</th>\n",
       "      <th>185</th>\n",
       "      <th>186</th>\n",
       "      <th>187</th>\n",
       "    </tr>\n",
       "  </thead>\n",
       "  <tbody>\n",
       "    <tr>\n",
       "      <th>32765</th>\n",
       "      <td>1.000000</td>\n",
       "      <td>0.745098</td>\n",
       "      <td>0.086275</td>\n",
       "      <td>0.033333</td>\n",
       "      <td>0.115686</td>\n",
       "      <td>0.096078</td>\n",
       "      <td>0.080392</td>\n",
       "      <td>0.078431</td>\n",
       "      <td>0.058824</td>\n",
       "      <td>0.062745</td>\n",
       "      <td>...</td>\n",
       "      <td>0.0</td>\n",
       "      <td>0.0</td>\n",
       "      <td>0.0</td>\n",
       "      <td>0.0</td>\n",
       "      <td>0.0</td>\n",
       "      <td>0.0</td>\n",
       "      <td>0.0</td>\n",
       "      <td>0.0</td>\n",
       "      <td>0.0</td>\n",
       "      <td>0</td>\n",
       "    </tr>\n",
       "    <tr>\n",
       "      <th>74045</th>\n",
       "      <td>1.000000</td>\n",
       "      <td>0.697970</td>\n",
       "      <td>0.020305</td>\n",
       "      <td>0.000000</td>\n",
       "      <td>0.137056</td>\n",
       "      <td>0.164975</td>\n",
       "      <td>0.162437</td>\n",
       "      <td>0.195431</td>\n",
       "      <td>0.200508</td>\n",
       "      <td>0.215736</td>\n",
       "      <td>...</td>\n",
       "      <td>0.0</td>\n",
       "      <td>0.0</td>\n",
       "      <td>0.0</td>\n",
       "      <td>0.0</td>\n",
       "      <td>0.0</td>\n",
       "      <td>0.0</td>\n",
       "      <td>0.0</td>\n",
       "      <td>0.0</td>\n",
       "      <td>0.0</td>\n",
       "      <td>1</td>\n",
       "    </tr>\n",
       "    <tr>\n",
       "      <th>74796</th>\n",
       "      <td>0.016839</td>\n",
       "      <td>0.000000</td>\n",
       "      <td>0.022021</td>\n",
       "      <td>0.132124</td>\n",
       "      <td>0.204663</td>\n",
       "      <td>0.240933</td>\n",
       "      <td>0.305699</td>\n",
       "      <td>0.371762</td>\n",
       "      <td>0.406736</td>\n",
       "      <td>0.509067</td>\n",
       "      <td>...</td>\n",
       "      <td>0.0</td>\n",
       "      <td>0.0</td>\n",
       "      <td>0.0</td>\n",
       "      <td>0.0</td>\n",
       "      <td>0.0</td>\n",
       "      <td>0.0</td>\n",
       "      <td>0.0</td>\n",
       "      <td>0.0</td>\n",
       "      <td>0.0</td>\n",
       "      <td>2</td>\n",
       "    </tr>\n",
       "    <tr>\n",
       "      <th>80772</th>\n",
       "      <td>1.000000</td>\n",
       "      <td>0.863757</td>\n",
       "      <td>0.587302</td>\n",
       "      <td>0.251323</td>\n",
       "      <td>0.079365</td>\n",
       "      <td>0.117725</td>\n",
       "      <td>0.107143</td>\n",
       "      <td>0.063492</td>\n",
       "      <td>0.060847</td>\n",
       "      <td>0.054233</td>\n",
       "      <td>...</td>\n",
       "      <td>0.0</td>\n",
       "      <td>0.0</td>\n",
       "      <td>0.0</td>\n",
       "      <td>0.0</td>\n",
       "      <td>0.0</td>\n",
       "      <td>0.0</td>\n",
       "      <td>0.0</td>\n",
       "      <td>0.0</td>\n",
       "      <td>0.0</td>\n",
       "      <td>3</td>\n",
       "    </tr>\n",
       "    <tr>\n",
       "      <th>82238</th>\n",
       "      <td>0.807933</td>\n",
       "      <td>0.753653</td>\n",
       "      <td>0.685804</td>\n",
       "      <td>0.630480</td>\n",
       "      <td>0.538622</td>\n",
       "      <td>0.448852</td>\n",
       "      <td>0.354906</td>\n",
       "      <td>0.264092</td>\n",
       "      <td>0.160752</td>\n",
       "      <td>0.117954</td>\n",
       "      <td>...</td>\n",
       "      <td>0.0</td>\n",
       "      <td>0.0</td>\n",
       "      <td>0.0</td>\n",
       "      <td>0.0</td>\n",
       "      <td>0.0</td>\n",
       "      <td>0.0</td>\n",
       "      <td>0.0</td>\n",
       "      <td>0.0</td>\n",
       "      <td>0.0</td>\n",
       "      <td>4</td>\n",
       "    </tr>\n",
       "  </tbody>\n",
       "</table>\n",
       "<p>5 rows × 188 columns</p>\n",
       "</div>"
      ],
      "text/plain": [
       "            0         1         2         3         4         5         6    \\\n",
       "32765  1.000000  0.745098  0.086275  0.033333  0.115686  0.096078  0.080392   \n",
       "74045  1.000000  0.697970  0.020305  0.000000  0.137056  0.164975  0.162437   \n",
       "74796  0.016839  0.000000  0.022021  0.132124  0.204663  0.240933  0.305699   \n",
       "80772  1.000000  0.863757  0.587302  0.251323  0.079365  0.117725  0.107143   \n",
       "82238  0.807933  0.753653  0.685804  0.630480  0.538622  0.448852  0.354906   \n",
       "\n",
       "            7         8         9    ...  178  179  180  181  182  183  184  \\\n",
       "32765  0.078431  0.058824  0.062745  ...  0.0  0.0  0.0  0.0  0.0  0.0  0.0   \n",
       "74045  0.195431  0.200508  0.215736  ...  0.0  0.0  0.0  0.0  0.0  0.0  0.0   \n",
       "74796  0.371762  0.406736  0.509067  ...  0.0  0.0  0.0  0.0  0.0  0.0  0.0   \n",
       "80772  0.063492  0.060847  0.054233  ...  0.0  0.0  0.0  0.0  0.0  0.0  0.0   \n",
       "82238  0.264092  0.160752  0.117954  ...  0.0  0.0  0.0  0.0  0.0  0.0  0.0   \n",
       "\n",
       "       185  186  187  \n",
       "32765  0.0  0.0    0  \n",
       "74045  0.0  0.0    1  \n",
       "74796  0.0  0.0    2  \n",
       "80772  0.0  0.0    3  \n",
       "82238  0.0  0.0    4  \n",
       "\n",
       "[5 rows x 188 columns]"
      ]
     },
     "execution_count": 50,
     "metadata": {},
     "output_type": "execute_result"
    }
   ],
   "source": [
    "c"
   ]
  },
  {
   "cell_type": "markdown",
   "metadata": {},
   "source": [
    "**This is a figure of class 0 (Normal Heartbeat)**"
   ]
  },
  {
   "cell_type": "code",
   "execution_count": 51,
   "metadata": {
    "execution": {
     "iopub.execute_input": "2025-03-02T06:58:11.634625Z",
     "iopub.status.busy": "2025-03-02T06:58:11.634261Z",
     "iopub.status.idle": "2025-03-02T06:58:11.779411Z",
     "shell.execute_reply": "2025-03-02T06:58:11.777201Z",
     "shell.execute_reply.started": "2025-03-02T06:58:11.634594Z"
    },
    "trusted": true
   },
   "outputs": [
    {
     "data": {
      "image/png": "[encoded data removed]",
      "text/plain": [
       "<Figure size 640x480 with 1 Axes>"
      ]
     },
     "metadata": {},
     "output_type": "display_data"
    }
   ],
   "source": [
    "plt.plot(c.iloc[0, :186])  \n",
    "plt.xlabel('Time steps')  \n",
    "plt.ylabel('ECG Amplitude')  \n",
    "plt.title('ECG Signal for One Heartbeat')  \n",
    "plt.show()\n"
   ]
  },
  {
   "cell_type": "markdown",
   "metadata": {},
   "source": [
    "**This is a figure of class 1 (Supraventricular Heartbeat)**"
   ]
  },
  {
   "cell_type": "code",
   "execution_count": 52,
   "metadata": {
    "execution": {
     "iopub.execute_input": "2025-03-02T06:58:11.781255Z",
     "iopub.status.busy": "2025-03-02T06:58:11.780723Z",
     "iopub.status.idle": "2025-03-02T06:58:11.995465Z",
     "shell.execute_reply": "2025-03-02T06:58:11.994386Z",
     "shell.execute_reply.started": "2025-03-02T06:58:11.781105Z"
    },
    "trusted": true
   },
   "outputs": [
    {
     "data": {
      "image/png": "[encoded data removed]",
      "text/plain": [
       "<Figure size 640x480 with 1 Axes>"
      ]
     },
     "metadata": {},
     "output_type": "display_data"
    }
   ],
   "source": [
    "plt.plot(c.iloc[1,:186])\n",
    "plt.xlabel('Time steps')  \n",
    "plt.ylabel('ECG Amplitude')  \n",
    "plt.title('ECG Signal for One Heartbeat')  \n",
    "plt.show()"
   ]
  },
  {
   "cell_type": "markdown",
   "metadata": {},
   "source": [
    "**This is a figure of class 2 (Ventricular Heartbeat)**"
   ]
  },
  {
   "cell_type": "code",
   "execution_count": 53,
   "metadata": {
    "execution": {
     "iopub.execute_input": "2025-03-02T06:58:11.997236Z",
     "iopub.status.busy": "2025-03-02T06:58:11.996828Z",
     "iopub.status.idle": "2025-03-02T06:58:12.185315Z",
     "shell.execute_reply": "2025-03-02T06:58:12.184328Z",
     "shell.execute_reply.started": "2025-03-02T06:58:11.997194Z"
    },
    "trusted": true
   },
   "outputs": [
    {
     "data": {
      "image/png": "[encoded data removed]",
      "text/plain": [
       "<Figure size 640x480 with 1 Axes>"
      ]
     },
     "metadata": {},
     "output_type": "display_data"
    }
   ],
   "source": [
    "plt.plot(c.iloc[2,:186])\n",
    "plt.xlabel('Time steps')  \n",
    "plt.ylabel('ECG Amplitude')  \n",
    "plt.title('ECG Signal for One Heartbeat')  \n",
    "plt.show()"
   ]
  },
  {
   "cell_type": "markdown",
   "metadata": {},
   "source": [
    "**This is a figure of class 3 (Fusion Heartbeat)**"
   ]
  },
  {
   "cell_type": "code",
   "execution_count": 54,
   "metadata": {
    "execution": {
     "iopub.execute_input": "2025-03-02T06:58:12.187974Z",
     "iopub.status.busy": "2025-03-02T06:58:12.187627Z",
     "iopub.status.idle": "2025-03-02T06:58:12.371571Z",
     "shell.execute_reply": "2025-03-02T06:58:12.370992Z",
     "shell.execute_reply.started": "2025-03-02T06:58:12.187937Z"
    },
    "trusted": true
   },
   "outputs": [
    {
     "data": {
      "image/png": "[encoded data removed]",
      "text/plain": [
       "<Figure size 640x480 with 1 Axes>"
      ]
     },
     "metadata": {},
     "output_type": "display_data"
    }
   ],
   "source": [
    "plt.plot(c.iloc[3,:186])\n",
    "plt.xlabel('Time steps')  \n",
    "plt.ylabel('ECG Amplitude')  \n",
    "plt.title('ECG Signal for One Heartbeat')  \n",
    "plt.show()"
   ]
  },
  {
   "cell_type": "markdown",
   "metadata": {},
   "source": [
    "**This is a figure of class 4 (Mixed Heartbeat)**"
   ]
  },
  {
   "cell_type": "code",
   "execution_count": 55,
   "metadata": {
    "execution": {
     "iopub.execute_input": "2025-03-02T06:58:12.372497Z",
     "iopub.status.busy": "2025-03-02T06:58:12.372256Z",
     "iopub.status.idle": "2025-03-02T06:58:12.571446Z",
     "shell.execute_reply": "2025-03-02T06:58:12.570293Z",
     "shell.execute_reply.started": "2025-03-02T06:58:12.372473Z"
    },
    "trusted": true
   },
   "outputs": [
    {
     "data": {
      "image/png": "[encoded data removed]",
      "text/plain": [
       "<Figure size 640x480 with 1 Axes>"
      ]
     },
     "metadata": {},
     "output_type": "display_data"
    }
   ],
   "source": [
    "plt.plot(c.iloc[4,:186])\n",
    "plt.xlabel('Time steps')  \n",
    "plt.ylabel('ECG Amplitude')  \n",
    "plt.title('ECG Signal for One Heartbeat')  \n",
    "plt.show()"
   ]
  },
  {
   "cell_type": "code",
   "execution_count": 56,
   "metadata": {
    "execution": {
     "iopub.execute_input": "2025-03-02T06:58:12.573257Z",
     "iopub.status.busy": "2025-03-02T06:58:12.572804Z",
     "iopub.status.idle": "2025-03-02T06:58:12.579738Z",
     "shell.execute_reply": "2025-03-02T06:58:12.578550Z",
     "shell.execute_reply.started": "2025-03-02T06:58:12.573210Z"
    },
    "trusted": true
   },
   "outputs": [],
   "source": [
    "target_train=df_train[187]\n",
    "target_test=df_test[187]\n",
    "\n",
    "y_train=target_train.values\n",
    "y_test=target_test.values\n",
    "\n",
    "y_train = y_train.reshape(len(y_train),1)\n",
    "y_test = y_test.reshape(len(y_test),1)"
   ]
  },
  {
   "cell_type": "code",
   "execution_count": 57,
   "metadata": {
    "execution": {
     "iopub.execute_input": "2025-03-02T06:58:12.581833Z",
     "iopub.status.busy": "2025-03-02T06:58:12.581181Z",
     "iopub.status.idle": "2025-03-02T06:58:12.594400Z",
     "shell.execute_reply": "2025-03-02T06:58:12.593109Z",
     "shell.execute_reply.started": "2025-03-02T06:58:12.581804Z"
    },
    "trusted": true
   },
   "outputs": [],
   "source": [
    "important_cols = [0, 1, 2, 3, 4, 5, 6, 7, 8, 9, 10, 11, 12, 13, 14, 19, 21, 22, 23, 24, 25, 26, 33, 34, 35, 36, 37, 38, 44, 46, 47]\n",
    "df_train = df_train.iloc[:, important_cols]"
   ]
  },
  {
   "cell_type": "code",
   "execution_count": 58,
   "metadata": {
    "execution": {
     "iopub.execute_input": "2025-03-02T06:58:12.595838Z",
     "iopub.status.busy": "2025-03-02T06:58:12.595573Z",
     "iopub.status.idle": "2025-03-02T06:58:12.605704Z",
     "shell.execute_reply": "2025-03-02T06:58:12.604502Z",
     "shell.execute_reply.started": "2025-03-02T06:58:12.595812Z"
    },
    "trusted": true
   },
   "outputs": [],
   "source": [
    "important_cols = [0, 1, 2, 3, 4, 5, 6, 7, 8, 9, 10, 11, 12, 13, 14, 19, 21, 22, 23, 24, 25, 26, 33, 34, 35, 36, 37, 38, 44, 46, 47]\n",
    "df_test = df_test.iloc[:, important_cols]"
   ]
  },
  {
   "cell_type": "code",
   "execution_count": 59,
   "metadata": {
    "execution": {
     "iopub.execute_input": "2025-03-02T06:58:12.607459Z",
     "iopub.status.busy": "2025-03-02T06:58:12.607009Z",
     "iopub.status.idle": "2025-03-02T06:58:12.614682Z",
     "shell.execute_reply": "2025-03-02T06:58:12.613638Z",
     "shell.execute_reply.started": "2025-03-02T06:58:12.607432Z"
    },
    "trusted": true
   },
   "outputs": [],
   "source": [
    "X_train=df_train.iloc[:, :-1].values\n",
    "X_test=df_test.iloc[:,:-1].values\n",
    "X_train = X_train.reshape(len(X_train), X_train.shape[1])\n",
    "X_test = X_test.reshape(len(X_test), X_test.shape[1])"
   ]
  },
  {
   "cell_type": "code",
   "execution_count": 60,
   "metadata": {
    "execution": {
     "iopub.execute_input": "2025-03-02T06:58:12.616799Z",
     "iopub.status.busy": "2025-03-02T06:58:12.615974Z",
     "iopub.status.idle": "2025-03-02T06:58:13.034573Z",
     "shell.execute_reply": "2025-03-02T06:58:13.033528Z",
     "shell.execute_reply.started": "2025-03-02T06:58:12.616759Z"
    },
    "trusted": true
   },
   "outputs": [],
   "source": [
    "import pandas as pd\n",
    "\n",
    "# Save X_test as a CSV file\n",
    "X_test_df = pd.DataFrame(X_test)  # Convert the array to a DataFrame\n",
    "X_test_df.to_csv('X_test.csv', index=False)  # Save as CSV without row indices\n"
   ]
  },
  {
   "cell_type": "markdown",
   "metadata": {},
   "source": [
    "Create a csv file to receive all the performance of the model"
   ]
  },
  {
   "cell_type": "code",
   "execution_count": 61,
   "metadata": {
    "execution": {
     "iopub.execute_input": "2025-03-02T06:58:13.036214Z",
     "iopub.status.busy": "2025-03-02T06:58:13.035861Z",
     "iopub.status.idle": "2025-03-02T06:58:13.043808Z",
     "shell.execute_reply": "2025-03-02T06:58:13.042731Z",
     "shell.execute_reply.started": "2025-03-02T06:58:13.036172Z"
    },
    "trusted": true
   },
   "outputs": [],
   "source": [
    "all_model = pd.DataFrame(columns=['Model', 'Accuracy (Train)', 'Precision (Train)', 'Recall (Train)', 'F1 Score (Train)', 'Accuracy (Test)', 'Precision (Test)', 'Recall (Test)', 'F1 Score (Test)','Training Time','Testing Time','Memory'])"
   ]
  },
  {
   "cell_type": "code",
   "execution_count": 62,
   "metadata": {
    "execution": {
     "iopub.execute_input": "2025-03-02T06:58:13.045589Z",
     "iopub.status.busy": "2025-03-02T06:58:13.045167Z",
     "iopub.status.idle": "2025-03-02T06:58:13.058702Z",
     "shell.execute_reply": "2025-03-02T06:58:13.057693Z",
     "shell.execute_reply.started": "2025-03-02T06:58:13.045562Z"
    },
    "trusted": true
   },
   "outputs": [
    {
     "data": {
      "text/html": [
       "<div>\n",
       "<style scoped>\n",
       "    .dataframe tbody tr th:only-of-type {\n",
       "        vertical-align: middle;\n",
       "    }\n",
       "\n",
       "    .dataframe tbody tr th {\n",
       "        vertical-align: top;\n",
       "    }\n",
       "\n",
       "    .dataframe thead th {\n",
       "        text-align: right;\n",
       "    }\n",
       "</style>\n",
       "<table border=\"1\" class=\"dataframe\">\n",
       "  <thead>\n",
       "    <tr style=\"text-align: right;\">\n",
       "      <th></th>\n",
       "      <th>Model</th>\n",
       "      <th>Accuracy (Train)</th>\n",
       "      <th>Precision (Train)</th>\n",
       "      <th>Recall (Train)</th>\n",
       "      <th>F1 Score (Train)</th>\n",
       "      <th>Accuracy (Test)</th>\n",
       "      <th>Precision (Test)</th>\n",
       "      <th>Recall (Test)</th>\n",
       "      <th>F1 Score (Test)</th>\n",
       "      <th>Training Time</th>\n",
       "      <th>Testing Time</th>\n",
       "      <th>Memory</th>\n",
       "    </tr>\n",
       "  </thead>\n",
       "  <tbody>\n",
       "  </tbody>\n",
       "</table>\n",
       "</div>"
      ],
      "text/plain": [
       "Empty DataFrame\n",
       "Columns: [Model, Accuracy (Train), Precision (Train), Recall (Train), F1 Score (Train), Accuracy (Test), Precision (Test), Recall (Test), F1 Score (Test), Training Time, Testing Time, Memory]\n",
       "Index: []"
      ]
     },
     "execution_count": 62,
     "metadata": {},
     "output_type": "execute_result"
    }
   ],
   "source": [
    "all_model"
   ]
  },
  {
   "cell_type": "markdown",
   "metadata": {},
   "source": [
    "Now preprocessing is done. We train some ML Models"
   ]
  },
  {
   "cell_type": "markdown",
   "metadata": {},
   "source": [
    "**Machine Learning Models**"
   ]
  },
  {
   "cell_type": "markdown",
   "metadata": {},
   "source": [
    "**SVM**"
   ]
  },
  {
   "cell_type": "code",
   "execution_count": 63,
   "metadata": {
    "execution": {
     "iopub.execute_input": "2025-03-02T06:58:13.067786Z",
     "iopub.status.busy": "2025-03-02T06:58:13.067466Z",
     "iopub.status.idle": "2025-03-02T06:58:13.146292Z",
     "shell.execute_reply": "2025-03-02T06:58:13.145452Z",
     "shell.execute_reply.started": "2025-03-02T06:58:13.067762Z"
    },
    "trusted": true
   },
   "outputs": [],
   "source": [
    "from sklearn.model_selection import train_test_split\n",
    "from sklearn.svm import SVC"
   ]
  },
  {
   "cell_type": "code",
   "execution_count": 64,
   "metadata": {
    "execution": {
     "iopub.execute_input": "2025-03-02T06:58:13.147725Z",
     "iopub.status.busy": "2025-03-02T06:58:13.147378Z",
     "iopub.status.idle": "2025-03-02T07:00:50.456378Z",
     "shell.execute_reply": "2025-03-02T07:00:50.455311Z",
     "shell.execute_reply.started": "2025-03-02T06:58:13.147679Z"
    },
    "trusted": true
   },
   "outputs": [],
   "source": [
    "# define the SVM model\n",
    "svm = SVC()\n",
    "\n",
    "# fit the model on the training data\n",
    "start_time = time.time()\n",
    "svm.fit(X_train, y_train)\n",
    "training_time = time.time() - start_time\n",
    "memory_usage = psutil.Process().memory_info().rss / 1024 / 1024"
   ]
  },
  {
   "cell_type": "code",
   "execution_count": 65,
   "metadata": {
    "execution": {
     "iopub.execute_input": "2025-03-02T07:00:50.457923Z",
     "iopub.status.busy": "2025-03-02T07:00:50.457630Z",
     "iopub.status.idle": "2025-03-02T07:01:16.213617Z",
     "shell.execute_reply": "2025-03-02T07:01:16.212620Z",
     "shell.execute_reply.started": "2025-03-02T07:00:50.457895Z"
    },
    "trusted": true
   },
   "outputs": [
    {
     "name": "stdout",
     "output_type": "stream",
     "text": [
      "Model saved as svm_model.pkl\n",
      "Training Time: 157.3040 seconds\n",
      "Testing Time: 25.7337 seconds\n",
      "Memory Usage: 1270.79 MB\n"
     ]
    }
   ],
   "source": [
    "import time  \n",
    "import psutil  \n",
    "import joblib  # For saving the model  \n",
    "\n",
    "# Save the trained model  \n",
    "joblib.dump(svm, \"svm_model.pkl\")  \n",
    "print(\"Model saved as svm_model.pkl\")  \n",
    "\n",
    "# Make predictions on the test data  \n",
    "start_time = time.time()  \n",
    "y_pred = svm.predict(X_test)  \n",
    "testing_time = time.time() - start_time  \n",
    "\n",
    "# Print performance metrics  \n",
    "print(f\"Training Time: {training_time:.4f} seconds\")  \n",
    "print(f\"Testing Time: {testing_time:.4f} seconds\")  \n",
    "print(f\"Memory Usage: {memory_usage:.2f} MB\")  \n"
   ]
  },
  {
   "cell_type": "code",
   "execution_count": 66,
   "metadata": {
    "execution": {
     "iopub.execute_input": "2025-03-02T07:01:16.215536Z",
     "iopub.status.busy": "2025-03-02T07:01:16.215119Z",
     "iopub.status.idle": "2025-03-02T07:01:16.267489Z",
     "shell.execute_reply": "2025-03-02T07:01:16.266519Z",
     "shell.execute_reply.started": "2025-03-02T07:01:16.215494Z"
    },
    "trusted": true
   },
   "outputs": [
    {
     "name": "stdout",
     "output_type": "stream",
     "text": [
      "New Predictions: [0 1 0 0 0 0 0 1 0 0 0 0 0 0 0]\n"
     ]
    }
   ],
   "source": [
    "# Load the saved model  \n",
    "svm_loaded = joblib.load(\"svm_model.pkl\")  \n",
    "\n",
    "# Make a new prediction  \n",
    "new_pred = svm_loaded.predict(X_test[:15])  \n",
    "print(\"New Predictions:\", new_pred)  \n"
   ]
  },
  {
   "cell_type": "code",
   "execution_count": 67,
   "metadata": {
    "execution": {
     "iopub.execute_input": "2025-03-02T07:01:16.269059Z",
     "iopub.status.busy": "2025-03-02T07:01:16.268693Z",
     "iopub.status.idle": "2025-03-02T07:01:42.189303Z",
     "shell.execute_reply": "2025-03-02T07:01:42.188352Z",
     "shell.execute_reply.started": "2025-03-02T07:01:16.269021Z"
    },
    "trusted": true
   },
   "outputs": [
    {
     "name": "stdout",
     "output_type": "stream",
     "text": [
      "              precision    recall  f1-score   support\n",
      "\n",
      "           0       0.75      0.85      0.80      2000\n",
      "           1       0.90      0.80      0.85      2000\n",
      "           2       0.91      0.91      0.91      2000\n",
      "           3       0.87      0.89      0.88      2000\n",
      "           4       0.98      0.95      0.96      2000\n",
      "\n",
      "    accuracy                           0.88     10000\n",
      "   macro avg       0.88      0.88      0.88     10000\n",
      "weighted avg       0.88      0.88      0.88     10000\n",
      "\n"
     ]
    }
   ],
   "source": [
    "# Load the saved model\n",
    "svm_loaded = joblib.load(\"svm_model.pkl\")\n",
    "\n",
    "# Make predictions\n",
    "y_pred = svm_loaded.predict(X_test)\n",
    "\n",
    "# Evaluate the performance\n",
    "print(classification_report(y_test, y_pred))\n"
   ]
  },
  {
   "cell_type": "code",
   "execution_count": 68,
   "metadata": {
    "execution": {
     "iopub.execute_input": "2025-03-02T07:01:42.191555Z",
     "iopub.status.busy": "2025-03-02T07:01:42.190721Z",
     "iopub.status.idle": "2025-03-02T07:01:42.199037Z",
     "shell.execute_reply": "2025-03-02T07:01:42.197948Z",
     "shell.execute_reply.started": "2025-03-02T07:01:42.191510Z"
    },
    "trusted": true
   },
   "outputs": [
    {
     "name": "stdout",
     "output_type": "stream",
     "text": [
      "[0 1 2 3 4]\n"
     ]
    }
   ],
   "source": [
    "import numpy as np\n",
    "\n",
    "# Get unique class labels from y_train\n",
    "unique_labels = np.unique(y_train)\n",
    "\n",
    "# Print the unique class labels\n",
    "print(unique_labels)\n"
   ]
  },
  {
   "cell_type": "markdown",
   "metadata": {},
   "source": [
    "**Confusion matrix on test data**"
   ]
  },
  {
   "cell_type": "code",
   "execution_count": 69,
   "metadata": {
    "execution": {
     "iopub.execute_input": "2025-03-02T07:01:42.201345Z",
     "iopub.status.busy": "2025-03-02T07:01:42.200499Z",
     "iopub.status.idle": "2025-03-02T07:01:42.516379Z",
     "shell.execute_reply": "2025-03-02T07:01:42.515504Z",
     "shell.execute_reply.started": "2025-03-02T07:01:42.201303Z"
    },
    "trusted": true
   },
   "outputs": [
    {
     "data": {
      "image/png": "[encoded data removed]",
      "text/plain": [
       "<Figure size 640x480 with 2 Axes>"
      ]
     },
     "metadata": {},
     "output_type": "display_data"
    }
   ],
   "source": [
    "classes=['N', 'S', 'V', 'F', 'M']\n",
    "# Compute the confusion matrix\n",
    "cm = confusion_matrix(y_test, y_pred)\n",
    "\n",
    "# Plot the confusion matrix\n",
    "fig, ax = plt.subplots()\n",
    "im = ax.imshow(cm, interpolation='nearest', cmap=plt.cm.Greens)\n",
    "ax.figure.colorbar(im, ax=ax)\n",
    "ax.set(xticks=np.arange(cm.shape[1]),\n",
    "       yticks=np.arange(cm.shape[0]),\n",
    "       xticklabels=classes,\n",
    "       yticklabels=classes,\n",
    "       xlabel='Predicted label',\n",
    "       ylabel='True label',\n",
    "       aspect='equal',\n",
    "       )\n",
    "plt.xticks(np.arange(cm.shape[1]),  rotation=45, fontweight='bold', color='black',fontsize=10)\n",
    "plt.yticks(np.arange(cm.shape[0]),  fontweight='bold', color='black',fontsize=10)\n",
    "plt.ylabel('True label', fontweight='bold', color='black',fontsize=10)\n",
    "plt.xlabel('Predicted label', fontweight='bold', color='black',fontsize=10)\n",
    "plt.setp(ax.get_xticklabels(), rotation=45, ha=\"right\",rotation_mode=\"anchor\")\n",
    "\n",
    "for i in range(cm.shape[0]):\n",
    "    for j in range(cm.shape[1]):\n",
    "        ax.text(j, i, format(cm[i, j], 'd'),\n",
    "                ha=\"center\", va=\"center\", fontweight='bold',\n",
    "                color=\"white\" if cm[i, j] > cm.max() / 2. else \"black\")\n",
    "fig.tight_layout()\n",
    "plt.show()"
   ]
  },
  {
   "cell_type": "markdown",
   "metadata": {},
   "source": [
    "**Performance matrix on test data**"
   ]
  },
  {
   "cell_type": "code",
   "execution_count": 70,
   "metadata": {
    "execution": {
     "iopub.execute_input": "2025-03-02T07:01:42.517950Z",
     "iopub.status.busy": "2025-03-02T07:01:42.517708Z",
     "iopub.status.idle": "2025-03-02T07:01:42.535090Z",
     "shell.execute_reply": "2025-03-02T07:01:42.534163Z",
     "shell.execute_reply.started": "2025-03-02T07:01:42.517927Z"
    },
    "trusted": true
   },
   "outputs": [
    {
     "name": "stdout",
     "output_type": "stream",
     "text": [
      "Accuracy (Test): 87.8700\n",
      "Precision (Test): 88.3393\n",
      "Recall (Test): 87.8700\n",
      "F1 score (Test): 87.9711\n"
     ]
    }
   ],
   "source": [
    "accuracy_test = accuracy_score(y_test, y_pred)*100\n",
    "precision_test = precision_score(y_test, y_pred, average='macro')*100\n",
    "recall_test = recall_score(y_test, y_pred, average='macro')*100\n",
    "f1_test = f1_score(y_test, y_pred, average='macro')*100\n",
    "\n",
    "print(\"Accuracy (Test): {:.4f}\".format(accuracy_test))\n",
    "print(\"Precision (Test): {:.4f}\".format(precision_test))\n",
    "print(\"Recall (Test): {:.4f}\".format(recall_test))\n",
    "print(\"F1 score (Test): {:.4f}\".format(f1_test))"
   ]
  },
  {
   "cell_type": "code",
   "execution_count": 71,
   "metadata": {
    "execution": {
     "iopub.execute_input": "2025-03-02T07:01:42.537039Z",
     "iopub.status.busy": "2025-03-02T07:01:42.536458Z",
     "iopub.status.idle": "2025-03-02T07:06:01.038049Z",
     "shell.execute_reply": "2025-03-02T07:06:01.036921Z",
     "shell.execute_reply.started": "2025-03-02T07:01:42.537000Z"
    },
    "trusted": true
   },
   "outputs": [],
   "source": [
    "# make predictions on the test data\n",
    "y_pred = svm.predict(X_train)"
   ]
  },
  {
   "cell_type": "markdown",
   "metadata": {},
   "source": [
    "**Confusion matrix on train data**"
   ]
  },
  {
   "cell_type": "code",
   "execution_count": 72,
   "metadata": {
    "execution": {
     "iopub.execute_input": "2025-03-02T07:06:01.039905Z",
     "iopub.status.busy": "2025-03-02T07:06:01.039510Z",
     "iopub.status.idle": "2025-03-02T07:06:01.365165Z",
     "shell.execute_reply": "2025-03-02T07:06:01.364203Z",
     "shell.execute_reply.started": "2025-03-02T07:06:01.039865Z"
    },
    "trusted": true
   },
   "outputs": [
    {
     "data": {
      "image/png": "[encoded data removed]",
      "text/plain": [
       "<Figure size 640x480 with 2 Axes>"
      ]
     },
     "metadata": {},
     "output_type": "display_data"
    }
   ],
   "source": [
    "classes=['N', 'S', 'V', 'F', 'M']\n",
    "# Compute the confusion matrix\n",
    "cm = confusion_matrix(y_train, y_pred)\n",
    "\n",
    "# Plot the confusion matrix\n",
    "fig, ax = plt.subplots()\n",
    "im = ax.imshow(cm, interpolation='nearest', cmap=plt.cm.Greens)\n",
    "ax.figure.colorbar(im, ax=ax)\n",
    "ax.set(xticks=np.arange(cm.shape[1]),\n",
    "       yticks=np.arange(cm.shape[0]),\n",
    "       xticklabels=classes,\n",
    "       yticklabels=classes,\n",
    "       xlabel='Predicted label',\n",
    "       ylabel='True label',\n",
    "       aspect='equal',\n",
    "       )\n",
    "plt.xticks(np.arange(cm.shape[1]),  rotation=45, fontweight='bold', color='black',fontsize=10)\n",
    "plt.yticks(np.arange(cm.shape[0]),  fontweight='bold', color='black',fontsize=10)\n",
    "plt.ylabel('True label', fontweight='bold', color='black',fontsize=10)\n",
    "plt.xlabel('Predicted label', fontweight='bold', color='black',fontsize=10)\n",
    "plt.setp(ax.get_xticklabels(), rotation=45, ha=\"right\",rotation_mode=\"anchor\")\n",
    "\n",
    "for i in range(cm.shape[0]):\n",
    "    for j in range(cm.shape[1]):\n",
    "        ax.text(j, i, format(cm[i, j], 'd'),\n",
    "                ha=\"center\", va=\"center\", fontweight='bold',\n",
    "                color=\"white\" if cm[i, j] > cm.max() / 2. else \"black\")\n",
    "fig.tight_layout()\n",
    "plt.show()"
   ]
  },
  {
   "cell_type": "markdown",
   "metadata": {},
   "source": [
    "**Performance metrics on train data**"
   ]
  },
  {
   "cell_type": "code",
   "execution_count": 73,
   "metadata": {
    "execution": {
     "iopub.execute_input": "2025-03-02T07:06:01.366856Z",
     "iopub.status.busy": "2025-03-02T07:06:01.366577Z",
     "iopub.status.idle": "2025-03-02T07:06:01.440790Z",
     "shell.execute_reply": "2025-03-02T07:06:01.439881Z",
     "shell.execute_reply.started": "2025-03-02T07:06:01.366831Z"
    },
    "trusted": true
   },
   "outputs": [
    {
     "name": "stdout",
     "output_type": "stream",
     "text": [
      "Accuracy (Train): 89.6650\n",
      "Precision (Train): 90.0488\n",
      "Recall (Train): 89.6650\n",
      "F1 score (Train): 89.7650\n"
     ]
    }
   ],
   "source": [
    "accuracy_train = accuracy_score(y_train, y_pred)*100\n",
    "precision_train = precision_score(y_train, y_pred, average='macro')*100\n",
    "recall_train = recall_score(y_train, y_pred, average='macro')*100\n",
    "f1_train = f1_score(y_train, y_pred, average='macro')*100\n",
    "\n",
    "print(\"Accuracy (Train): {:.4f}\".format(accuracy_train))\n",
    "print(\"Precision (Train): {:.4f}\".format(precision_train))\n",
    "print(\"Recall (Train): {:.4f}\".format(recall_train))\n",
    "print(\"F1 score (Train): {:.4f}\".format(f1_train))"
   ]
  },
  {
   "cell_type": "code",
   "execution_count": 74,
   "metadata": {
    "execution": {
     "iopub.execute_input": "2025-03-02T07:06:01.442544Z",
     "iopub.status.busy": "2025-03-02T07:06:01.442042Z",
     "iopub.status.idle": "2025-03-02T07:06:01.447176Z",
     "shell.execute_reply": "2025-03-02T07:06:01.446165Z",
     "shell.execute_reply.started": "2025-03-02T07:06:01.442516Z"
    },
    "trusted": true
   },
   "outputs": [],
   "source": [
    "y_test = y_test.ravel()  # Converts (10000, 1) → (10000,)\n"
   ]
  },
  {
   "cell_type": "code",
   "execution_count": 75,
   "metadata": {
    "execution": {
     "iopub.execute_input": "2025-03-02T07:06:01.449345Z",
     "iopub.status.busy": "2025-03-02T07:06:01.448467Z",
     "iopub.status.idle": "2025-03-02T07:06:01.456440Z",
     "shell.execute_reply": "2025-03-02T07:06:01.455523Z",
     "shell.execute_reply.started": "2025-03-02T07:06:01.449289Z"
    },
    "trusted": true
   },
   "outputs": [
    {
     "name": "stdout",
     "output_type": "stream",
     "text": [
      "y_test shape: (10000,)\n",
      "y_pred shape: (100000,)\n"
     ]
    }
   ],
   "source": [
    "print(\"y_test shape:\", y_test.shape)  # Should be (10000,)\n",
    "print(\"y_pred shape:\", y_pred.shape)  # Should be (10000,)\n"
   ]
  },
  {
   "cell_type": "code",
   "execution_count": 76,
   "metadata": {
    "execution": {
     "iopub.execute_input": "2025-03-02T07:06:01.457914Z",
     "iopub.status.busy": "2025-03-02T07:06:01.457663Z",
     "iopub.status.idle": "2025-03-02T07:06:01.465114Z",
     "shell.execute_reply": "2025-03-02T07:06:01.463998Z",
     "shell.execute_reply.started": "2025-03-02T07:06:01.457882Z"
    },
    "trusted": true
   },
   "outputs": [],
   "source": [
    "y_test = y_test.astype(int)\n"
   ]
  },
  {
   "cell_type": "code",
   "execution_count": null,
   "metadata": {
    "trusted": true
   },
   "outputs": [],
   "source": []
  },
  {
   "cell_type": "code",
   "execution_count": 81,
   "metadata": {
    "execution": {
     "iopub.execute_input": "2025-03-02T07:13:25.420909Z",
     "iopub.status.busy": "2025-03-02T07:13:25.420034Z",
     "iopub.status.idle": "2025-03-02T07:13:25.425239Z",
     "shell.execute_reply": "2025-03-02T07:13:25.424167Z",
     "shell.execute_reply.started": "2025-03-02T07:13:25.420874Z"
    },
    "trusted": true
   },
   "outputs": [],
   "source": [
    "y_test = df_test.iloc[:, -1].values  # Extract the last column as labels"
   ]
  },
  {
   "cell_type": "code",
   "execution_count": 82,
   "metadata": {
    "execution": {
     "iopub.execute_input": "2025-03-02T07:13:30.122446Z",
     "iopub.status.busy": "2025-03-02T07:13:30.121539Z",
     "iopub.status.idle": "2025-03-02T07:13:56.244092Z",
     "shell.execute_reply": "2025-03-02T07:13:56.243305Z",
     "shell.execute_reply.started": "2025-03-02T07:13:30.122408Z"
    },
    "trusted": true
   },
   "outputs": [],
   "source": [
    "y_pred = svm.predict(X_test)\n"
   ]
  },
  {
   "cell_type": "code",
   "execution_count": 83,
   "metadata": {
    "execution": {
     "iopub.execute_input": "2025-03-02T07:14:07.047254Z",
     "iopub.status.busy": "2025-03-02T07:14:07.046874Z",
     "iopub.status.idle": "2025-03-02T07:14:07.052702Z",
     "shell.execute_reply": "2025-03-02T07:14:07.051528Z",
     "shell.execute_reply.started": "2025-03-02T07:14:07.047221Z"
    },
    "trusted": true
   },
   "outputs": [
    {
     "name": "stdout",
     "output_type": "stream",
     "text": [
      "y_pred shape: (10000,)\n",
      "y_test shape: (10000,)\n"
     ]
    }
   ],
   "source": [
    "print(\"y_pred shape:\", y_pred.shape)\n",
    "print(\"y_test shape:\", y_test.shape)\n"
   ]
  },
  {
   "cell_type": "markdown",
   "metadata": {},
   "source": [
    "**save the metrics on a csv file**"
   ]
  },
  {
   "cell_type": "code",
   "execution_count": 86,
   "metadata": {
    "execution": {
     "iopub.execute_input": "2025-03-02T07:14:38.102934Z",
     "iopub.status.busy": "2025-03-02T07:14:38.102242Z",
     "iopub.status.idle": "2025-03-02T07:14:38.112417Z",
     "shell.execute_reply": "2025-03-02T07:14:38.111041Z",
     "shell.execute_reply.started": "2025-03-02T07:14:38.102899Z"
    },
    "trusted": true
   },
   "outputs": [],
   "source": [
    "with open('svm.csv', 'w', newline='') as csvfile:\n",
    "    writer = csv.writer(csvfile)\n",
    "    writer.writerow(['Model','Accuracy (Train)', 'Precision (Train)', 'Recall (Train)', 'F1 Score (Train)','Accuracy (Test)', 'Precision (Test)', 'Recall (Test)', 'F1 Score (Test)'])\n",
    "    writer.writerow(['SVM',accuracy_train, precision_train, recall_train, f1_train, accuracy_test, precision_test, recall_test, f1_test])\n",
    "    \n",
    "result=pd.read_csv('svm.csv')"
   ]
  },
  {
   "cell_type": "code",
   "execution_count": 87,
   "metadata": {
    "execution": {
     "iopub.execute_input": "2025-03-02T07:15:24.634601Z",
     "iopub.status.busy": "2025-03-02T07:15:24.633635Z",
     "iopub.status.idle": "2025-03-02T07:15:24.647014Z",
     "shell.execute_reply": "2025-03-02T07:15:24.645847Z",
     "shell.execute_reply.started": "2025-03-02T07:15:24.634563Z"
    },
    "trusted": true
   },
   "outputs": [
    {
     "data": {
      "text/html": [
       "<div>\n",
       "<style scoped>\n",
       "    .dataframe tbody tr th:only-of-type {\n",
       "        vertical-align: middle;\n",
       "    }\n",
       "\n",
       "    .dataframe tbody tr th {\n",
       "        vertical-align: top;\n",
       "    }\n",
       "\n",
       "    .dataframe thead th {\n",
       "        text-align: right;\n",
       "    }\n",
       "</style>\n",
       "<table border=\"1\" class=\"dataframe\">\n",
       "  <thead>\n",
       "    <tr style=\"text-align: right;\">\n",
       "      <th></th>\n",
       "      <th>Model</th>\n",
       "      <th>Accuracy (Train)</th>\n",
       "      <th>Precision (Train)</th>\n",
       "      <th>Recall (Train)</th>\n",
       "      <th>F1 Score (Train)</th>\n",
       "      <th>Accuracy (Test)</th>\n",
       "      <th>Precision (Test)</th>\n",
       "      <th>Recall (Test)</th>\n",
       "      <th>F1 Score (Test)</th>\n",
       "    </tr>\n",
       "  </thead>\n",
       "  <tbody>\n",
       "    <tr>\n",
       "      <th>0</th>\n",
       "      <td>SVM</td>\n",
       "      <td>89.665</td>\n",
       "      <td>90.048795</td>\n",
       "      <td>89.665</td>\n",
       "      <td>89.765029</td>\n",
       "      <td>87.87</td>\n",
       "      <td>88.339278</td>\n",
       "      <td>87.87</td>\n",
       "      <td>87.971144</td>\n",
       "    </tr>\n",
       "  </tbody>\n",
       "</table>\n",
       "</div>"
      ],
      "text/plain": [
       "  Model  Accuracy (Train)  Precision (Train)  Recall (Train)  \\\n",
       "0   SVM            89.665          90.048795          89.665   \n",
       "\n",
       "   F1 Score (Train)  Accuracy (Test)  Precision (Test)  Recall (Test)  \\\n",
       "0         89.765029            87.87         88.339278          87.87   \n",
       "\n",
       "   F1 Score (Test)  \n",
       "0        87.971144  "
      ]
     },
     "execution_count": 87,
     "metadata": {},
     "output_type": "execute_result"
    }
   ],
   "source": [
    "result"
   ]
  },
  {
   "cell_type": "code",
   "execution_count": 88,
   "metadata": {
    "execution": {
     "iopub.execute_input": "2025-03-02T07:15:28.743856Z",
     "iopub.status.busy": "2025-03-02T07:15:28.743008Z",
     "iopub.status.idle": "2025-03-02T07:15:28.751831Z",
     "shell.execute_reply": "2025-03-02T07:15:28.750941Z",
     "shell.execute_reply.started": "2025-03-02T07:15:28.743819Z"
    },
    "trusted": true
   },
   "outputs": [],
   "source": [
    "model_name='SVM'\n",
    "all_model.loc[len(all_model)] = [model_name, accuracy_train, precision_train, recall_train, f1_train, accuracy_test, precision_test, recall_test, f1_test, training_time, testing_time, memory_usage]"
   ]
  },
  {
   "cell_type": "code",
   "execution_count": 89,
   "metadata": {
    "execution": {
     "iopub.execute_input": "2025-03-02T07:15:34.752648Z",
     "iopub.status.busy": "2025-03-02T07:15:34.752293Z",
     "iopub.status.idle": "2025-03-02T07:15:34.766990Z",
     "shell.execute_reply": "2025-03-02T07:15:34.765868Z",
     "shell.execute_reply.started": "2025-03-02T07:15:34.752618Z"
    },
    "trusted": true
   },
   "outputs": [
    {
     "data": {
      "text/html": [
       "<div>\n",
       "<style scoped>\n",
       "    .dataframe tbody tr th:only-of-type {\n",
       "        vertical-align: middle;\n",
       "    }\n",
       "\n",
       "    .dataframe tbody tr th {\n",
       "        vertical-align: top;\n",
       "    }\n",
       "\n",
       "    .dataframe thead th {\n",
       "        text-align: right;\n",
       "    }\n",
       "</style>\n",
       "<table border=\"1\" class=\"dataframe\">\n",
       "  <thead>\n",
       "    <tr style=\"text-align: right;\">\n",
       "      <th></th>\n",
       "      <th>Model</th>\n",
       "      <th>Accuracy (Train)</th>\n",
       "      <th>Precision (Train)</th>\n",
       "      <th>Recall (Train)</th>\n",
       "      <th>F1 Score (Train)</th>\n",
       "      <th>Accuracy (Test)</th>\n",
       "      <th>Precision (Test)</th>\n",
       "      <th>Recall (Test)</th>\n",
       "      <th>F1 Score (Test)</th>\n",
       "      <th>Training Time</th>\n",
       "      <th>Testing Time</th>\n",
       "      <th>Memory</th>\n",
       "    </tr>\n",
       "  </thead>\n",
       "  <tbody>\n",
       "    <tr>\n",
       "      <th>0</th>\n",
       "      <td>SVM</td>\n",
       "      <td>89.665</td>\n",
       "      <td>90.048795</td>\n",
       "      <td>89.665</td>\n",
       "      <td>89.765029</td>\n",
       "      <td>87.87</td>\n",
       "      <td>88.339278</td>\n",
       "      <td>87.87</td>\n",
       "      <td>87.971144</td>\n",
       "      <td>157.304041</td>\n",
       "      <td>25.733742</td>\n",
       "      <td>1270.792969</td>\n",
       "    </tr>\n",
       "  </tbody>\n",
       "</table>\n",
       "</div>"
      ],
      "text/plain": [
       "  Model  Accuracy (Train)  Precision (Train)  Recall (Train)  \\\n",
       "0   SVM            89.665          90.048795          89.665   \n",
       "\n",
       "   F1 Score (Train)  Accuracy (Test)  Precision (Test)  Recall (Test)  \\\n",
       "0         89.765029            87.87         88.339278          87.87   \n",
       "\n",
       "   F1 Score (Test)  Training Time  Testing Time       Memory  \n",
       "0        87.971144     157.304041     25.733742  1270.792969  "
      ]
     },
     "execution_count": 89,
     "metadata": {},
     "output_type": "execute_result"
    }
   ],
   "source": [
    "all_model"
   ]
  },
  {
   "cell_type": "markdown",
   "metadata": {},
   "source": [
    "**KNN**"
   ]
  },
  {
   "cell_type": "code",
   "execution_count": 90,
   "metadata": {
    "execution": {
     "iopub.execute_input": "2025-03-02T07:15:47.021317Z",
     "iopub.status.busy": "2025-03-02T07:15:47.020414Z",
     "iopub.status.idle": "2025-03-02T07:15:47.121253Z",
     "shell.execute_reply": "2025-03-02T07:15:47.120497Z",
     "shell.execute_reply.started": "2025-03-02T07:15:47.021274Z"
    },
    "trusted": true
   },
   "outputs": [],
   "source": [
    "from sklearn.neighbors import KNeighborsClassifier\n",
    "\n",
    "# define the KNN model\n",
    "knn = KNeighborsClassifier()\n",
    "\n",
    "# fit the model on the training data\n",
    "start_time = time.time()\n",
    "knn.fit(X_train, y_train)\n",
    "training_time = time.time() - start_time\n",
    "memory_usage = psutil.Process().memory_info().rss / 1024 / 1024"
   ]
  },
  {
   "cell_type": "code",
   "execution_count": null,
   "metadata": {
    "execution": {
     "iopub.status.busy": "2025-03-02T07:06:01.818316Z",
     "iopub.status.idle": "2025-03-02T07:06:01.818767Z",
     "shell.execute_reply": "2025-03-02T07:06:01.818547Z",
     "shell.execute_reply.started": "2025-03-02T07:06:01.818522Z"
    },
    "trusted": true
   },
   "outputs": [],
   "source": [
    "# make predictions on the test data\n",
    "start_time = time.time()\n",
    "y_pred = knn.predict(X_test)\n",
    "testing_time = time.time() - start_time"
   ]
  },
  {
   "cell_type": "code",
   "execution_count": null,
   "metadata": {
    "execution": {
     "iopub.status.busy": "2025-03-02T07:06:01.820007Z",
     "iopub.status.idle": "2025-03-02T07:06:01.820456Z",
     "shell.execute_reply": "2025-03-02T07:06:01.820248Z",
     "shell.execute_reply.started": "2025-03-02T07:06:01.820225Z"
    },
    "trusted": true
   },
   "outputs": [],
   "source": [
    "classes=['N', 'S', 'V', 'F', 'M']\n",
    "# Compute the confusion matrix\n",
    "cm = confusion_matrix(y_test, y_pred)\n",
    "\n",
    "# Plot the confusion matrix\n",
    "fig, ax = plt.subplots()\n",
    "im = ax.imshow(cm, interpolation='nearest', cmap=plt.cm.Greens)\n",
    "ax.figure.colorbar(im, ax=ax)\n",
    "ax.set(xticks=np.arange(cm.shape[1]),\n",
    "       yticks=np.arange(cm.shape[0]),\n",
    "       xticklabels=classes,\n",
    "       yticklabels=classes,\n",
    "       xlabel='Predicted label',\n",
    "       ylabel='True label',\n",
    "       aspect='equal',\n",
    "       )\n",
    "plt.xticks(np.arange(cm.shape[1]),  rotation=45, fontweight='bold', color='black',fontsize=10)\n",
    "plt.yticks(np.arange(cm.shape[0]),  fontweight='bold', color='black',fontsize=10)\n",
    "plt.ylabel('True label', fontweight='bold', color='black',fontsize=10)\n",
    "plt.xlabel('Predicted label', fontweight='bold', color='black',fontsize=10)\n",
    "plt.setp(ax.get_xticklabels(), rotation=45, ha=\"right\",rotation_mode=\"anchor\")\n",
    "\n",
    "for i in range(cm.shape[0]):\n",
    "    for j in range(cm.shape[1]):\n",
    "        ax.text(j, i, format(cm[i, j], 'd'),\n",
    "                ha=\"center\", va=\"center\", fontweight='bold',\n",
    "                color=\"white\" if cm[i, j] > cm.max() / 2. else \"black\")\n",
    "fig.tight_layout()\n",
    "plt.show()"
   ]
  },
  {
   "cell_type": "code",
   "execution_count": null,
   "metadata": {
    "execution": {
     "iopub.status.busy": "2025-03-02T07:06:01.821510Z",
     "iopub.status.idle": "2025-03-02T07:06:01.821958Z",
     "shell.execute_reply": "2025-03-02T07:06:01.821747Z",
     "shell.execute_reply.started": "2025-03-02T07:06:01.821715Z"
    },
    "trusted": true
   },
   "outputs": [],
   "source": [
    "accuracy_test = accuracy_score(y_test, y_pred)*100\n",
    "precision_test = precision_score(y_test, y_pred, average='macro')*100\n",
    "recall_test = recall_score(y_test, y_pred, average='macro')*100\n",
    "f1_test = f1_score(y_test, y_pred, average='macro')*100\n",
    "\n",
    "print(\"Accuracy (Test): {:.4f}\".format(accuracy_test))\n",
    "print(\"Precision (Test): {:.4f}\".format(precision_test))\n",
    "print(\"Recall (Test): {:.4f}\".format(recall_test))\n",
    "print(\"F1 score (Test): {:.4f}\".format(f1_test))"
   ]
  },
  {
   "cell_type": "code",
   "execution_count": null,
   "metadata": {
    "execution": {
     "iopub.status.busy": "2025-03-02T07:06:01.823941Z",
     "iopub.status.idle": "2025-03-02T07:06:01.824407Z",
     "shell.execute_reply": "2025-03-02T07:06:01.824194Z",
     "shell.execute_reply.started": "2025-03-02T07:06:01.824168Z"
    },
    "trusted": true
   },
   "outputs": [],
   "source": [
    "# make predictions on the test data\n",
    "y_pred = knn.predict(X_train)"
   ]
  },
  {
   "cell_type": "code",
   "execution_count": null,
   "metadata": {
    "execution": {
     "iopub.status.busy": "2025-03-02T07:06:01.825700Z",
     "iopub.status.idle": "2025-03-02T07:06:01.825988Z",
     "shell.execute_reply": "2025-03-02T07:06:01.825862Z",
     "shell.execute_reply.started": "2025-03-02T07:06:01.825847Z"
    },
    "trusted": true
   },
   "outputs": [],
   "source": [
    "classes=['N', 'S', 'V', 'F', 'M']\n",
    "# Compute the confusion matrix\n",
    "cm = confusion_matrix(y_train, y_pred)\n",
    "\n",
    "# Plot the confusion matrix\n",
    "fig, ax = plt.subplots()\n",
    "im = ax.imshow(cm, interpolation='nearest', cmap=plt.cm.Greens)\n",
    "ax.figure.colorbar(im, ax=ax)\n",
    "ax.set(xticks=np.arange(cm.shape[1]),\n",
    "       yticks=np.arange(cm.shape[0]),\n",
    "       xticklabels=classes,\n",
    "       yticklabels=classes,\n",
    "       xlabel='Predicted label',\n",
    "       ylabel='True label',\n",
    "       aspect='equal',\n",
    "       )\n",
    "plt.xticks(np.arange(cm.shape[1]),  rotation=45, fontweight='bold', color='black',fontsize=10)\n",
    "plt.yticks(np.arange(cm.shape[0]),  fontweight='bold', color='black',fontsize=10)\n",
    "plt.ylabel('True label', fontweight='bold', color='black',fontsize=10)\n",
    "plt.xlabel('Predicted label', fontweight='bold', color='black',fontsize=10)\n",
    "plt.setp(ax.get_xticklabels(), rotation=45, ha=\"right\",rotation_mode=\"anchor\")\n",
    "\n",
    "for i in range(cm.shape[0]):\n",
    "    for j in range(cm.shape[1]):\n",
    "        ax.text(j, i, format(cm[i, j], 'd'),\n",
    "                ha=\"center\", va=\"center\", fontweight='bold',\n",
    "                color=\"white\" if cm[i, j] > cm.max() / 2. else \"black\")\n",
    "fig.tight_layout()\n",
    "plt.show()"
   ]
  },
  {
   "cell_type": "code",
   "execution_count": null,
   "metadata": {
    "execution": {
     "iopub.status.busy": "2025-03-02T07:06:01.827111Z",
     "iopub.status.idle": "2025-03-02T07:06:01.827429Z",
     "shell.execute_reply": "2025-03-02T07:06:01.827301Z",
     "shell.execute_reply.started": "2025-03-02T07:06:01.827284Z"
    },
    "trusted": true
   },
   "outputs": [],
   "source": [
    "accuracy_train = accuracy_score(y_train, y_pred)*100\n",
    "precision_train = precision_score(y_train, y_pred, average='macro')*100\n",
    "recall_train = recall_score(y_train, y_pred, average='macro')*100\n",
    "f1_train = f1_score(y_train, y_pred, average='macro')*100\n",
    "\n",
    "print(\"Accuracy (Train): {:.4f}\".format(accuracy_train))\n",
    "print(\"Precision (Train): {:.4f}\".format(precision_train))\n",
    "print(\"Recall (Train): {:.4f}\".format(recall_train))\n",
    "print(\"F1 score (Train): {:.4f}\".format(f1_train))"
   ]
  },
  {
   "cell_type": "code",
   "execution_count": null,
   "metadata": {
    "execution": {
     "iopub.status.busy": "2025-03-02T07:06:01.829283Z",
     "iopub.status.idle": "2025-03-02T07:06:01.829607Z",
     "shell.execute_reply": "2025-03-02T07:06:01.829463Z",
     "shell.execute_reply.started": "2025-03-02T07:06:01.829446Z"
    },
    "trusted": true
   },
   "outputs": [],
   "source": [
    "with open('knn.csv', 'w', newline='') as csvfile:\n",
    "    writer = csv.writer(csvfile)\n",
    "    writer.writerow(['Model','Accuracy (Train)', 'Precision (Train)', 'Recall (Train)', 'F1 Score (Train)','Accuracy (Test)', 'Precision (Test)', 'Recall (Test)', 'F1 Score (Test)'])\n",
    "    writer.writerow(['KNN',accuracy_train, precision_train, recall_train, f1_train, accuracy_test, precision_test, recall_test, f1_test])\n",
    "    \n",
    "result=pd.read_csv('knn.csv')"
   ]
  },
  {
   "cell_type": "code",
   "execution_count": null,
   "metadata": {
    "execution": {
     "iopub.status.busy": "2025-03-02T07:06:01.830430Z",
     "iopub.status.idle": "2025-03-02T07:06:01.830717Z",
     "shell.execute_reply": "2025-03-02T07:06:01.830591Z",
     "shell.execute_reply.started": "2025-03-02T07:06:01.830576Z"
    },
    "trusted": true
   },
   "outputs": [],
   "source": [
    "result"
   ]
  },
  {
   "cell_type": "code",
   "execution_count": null,
   "metadata": {
    "execution": {
     "iopub.status.busy": "2025-03-02T07:06:01.831878Z",
     "iopub.status.idle": "2025-03-02T07:06:01.832310Z",
     "shell.execute_reply": "2025-03-02T07:06:01.832127Z",
     "shell.execute_reply.started": "2025-03-02T07:06:01.832093Z"
    },
    "trusted": true
   },
   "outputs": [],
   "source": [
    "model_name='KNN'\n",
    "all_model.loc[len(all_model)] = [model_name, accuracy_train, precision_train, recall_train, f1_train, accuracy_test, precision_test, recall_test, f1_test, training_time, testing_time, memory_usage]"
   ]
  },
  {
   "cell_type": "code",
   "execution_count": null,
   "metadata": {
    "execution": {
     "iopub.status.busy": "2025-03-02T07:06:01.833900Z",
     "iopub.status.idle": "2025-03-02T07:06:01.834366Z",
     "shell.execute_reply": "2025-03-02T07:06:01.834133Z",
     "shell.execute_reply.started": "2025-03-02T07:06:01.834111Z"
    },
    "trusted": true
   },
   "outputs": [],
   "source": [
    "all_model"
   ]
  },
  {
   "cell_type": "markdown",
   "metadata": {},
   "source": [
    "**Logistic Regression**"
   ]
  },
  {
   "cell_type": "code",
   "execution_count": null,
   "metadata": {
    "execution": {
     "iopub.status.busy": "2025-03-02T07:06:01.838506Z",
     "iopub.status.idle": "2025-03-02T07:06:01.839047Z",
     "shell.execute_reply": "2025-03-02T07:06:01.838821Z",
     "shell.execute_reply.started": "2025-03-02T07:06:01.838795Z"
    },
    "trusted": true
   },
   "outputs": [],
   "source": [
    "from sklearn.linear_model import LogisticRegression\n",
    "\n",
    "# define the LR model\n",
    "lr = LogisticRegression(solver='liblinear')\n",
    "\n",
    "# fit the model on the training data\n",
    "start_time = time.time()\n",
    "lr.fit(X_train, y_train)\n",
    "training_time = time.time() - start_time\n",
    "memory_usage = psutil.Process().memory_info().rss / 1024 / 1024"
   ]
  },
  {
   "cell_type": "code",
   "execution_count": null,
   "metadata": {
    "execution": {
     "iopub.status.busy": "2025-03-02T07:06:01.840309Z",
     "iopub.status.idle": "2025-03-02T07:06:01.840616Z",
     "shell.execute_reply": "2025-03-02T07:06:01.840468Z",
     "shell.execute_reply.started": "2025-03-02T07:06:01.840453Z"
    },
    "trusted": true
   },
   "outputs": [],
   "source": [
    "# make predictions on the test data\n",
    "start_time = time.time()\n",
    "y_pred = lr.predict(X_test)\n",
    "testing_time = time.time() - start_time"
   ]
  },
  {
   "cell_type": "code",
   "execution_count": null,
   "metadata": {
    "execution": {
     "iopub.status.busy": "2025-03-02T07:06:01.842009Z",
     "iopub.status.idle": "2025-03-02T07:06:01.842342Z",
     "shell.execute_reply": "2025-03-02T07:06:01.842205Z",
     "shell.execute_reply.started": "2025-03-02T07:06:01.842187Z"
    },
    "trusted": true
   },
   "outputs": [],
   "source": [
    "classes=['N', 'S', 'V', 'F', 'M']\n",
    "# Compute the confusion matrix\n",
    "cm = confusion_matrix(y_test, y_pred)\n",
    "\n",
    "# Plot the confusion matrix\n",
    "fig, ax = plt.subplots()\n",
    "im = ax.imshow(cm, interpolation='nearest', cmap=plt.cm.Greens)\n",
    "ax.figure.colorbar(im, ax=ax)\n",
    "ax.set(xticks=np.arange(cm.shape[1]),\n",
    "       yticks=np.arange(cm.shape[0]),\n",
    "       xticklabels=classes,\n",
    "       yticklabels=classes,\n",
    "       xlabel='Predicted label',\n",
    "       ylabel='True label',\n",
    "       aspect='equal',\n",
    "       )\n",
    "plt.xticks(np.arange(cm.shape[1]),  rotation=45, fontweight='bold', color='black',fontsize=10)\n",
    "plt.yticks(np.arange(cm.shape[0]),  fontweight='bold', color='black',fontsize=10)\n",
    "plt.ylabel('True label', fontweight='bold', color='black',fontsize=10)\n",
    "plt.xlabel('Predicted label', fontweight='bold', color='black',fontsize=10)\n",
    "plt.setp(ax.get_xticklabels(), rotation=45, ha=\"right\",rotation_mode=\"anchor\")\n",
    "\n",
    "for i in range(cm.shape[0]):\n",
    "    for j in range(cm.shape[1]):\n",
    "        ax.text(j, i, format(cm[i, j], 'd'),\n",
    "                ha=\"center\", va=\"center\", fontweight='bold',\n",
    "                color=\"white\" if cm[i, j] > cm.max() / 2. else \"black\")\n",
    "fig.tight_layout()\n",
    "plt.show()"
   ]
  },
  {
   "cell_type": "code",
   "execution_count": null,
   "metadata": {
    "execution": {
     "iopub.status.busy": "2025-03-02T07:06:01.843252Z",
     "iopub.status.idle": "2025-03-02T07:06:01.843538Z",
     "shell.execute_reply": "2025-03-02T07:06:01.843405Z",
     "shell.execute_reply.started": "2025-03-02T07:06:01.843391Z"
    },
    "trusted": true
   },
   "outputs": [],
   "source": [
    "accuracy_test = accuracy_score(y_test, y_pred)*100\n",
    "precision_test = precision_score(y_test, y_pred, average='macro')*100\n",
    "recall_test = recall_score(y_test, y_pred, average='macro')*100\n",
    "f1_test = f1_score(y_test, y_pred, average='macro')*100\n",
    "\n",
    "print(\"Accuracy (Test): {:.4f}\".format(accuracy_test))\n",
    "print(\"Precision (Test): {:.4f}\".format(precision_test))\n",
    "print(\"Recall (Test): {:.4f}\".format(recall_test))\n",
    "print(\"F1 score (Test): {:.4f}\".format(f1_test))"
   ]
  },
  {
   "cell_type": "code",
   "execution_count": null,
   "metadata": {
    "execution": {
     "iopub.status.busy": "2025-03-02T07:06:01.844563Z",
     "iopub.status.idle": "2025-03-02T07:06:01.844875Z",
     "shell.execute_reply": "2025-03-02T07:06:01.844740Z",
     "shell.execute_reply.started": "2025-03-02T07:06:01.844718Z"
    },
    "trusted": true
   },
   "outputs": [],
   "source": [
    "# make predictions on the train data\n",
    "y_pred = lr.predict(X_train)"
   ]
  },
  {
   "cell_type": "code",
   "execution_count": null,
   "metadata": {
    "execution": {
     "iopub.status.busy": "2025-03-02T07:06:01.846699Z",
     "iopub.status.idle": "2025-03-02T07:06:01.846991Z",
     "shell.execute_reply": "2025-03-02T07:06:01.846865Z",
     "shell.execute_reply.started": "2025-03-02T07:06:01.846850Z"
    },
    "trusted": true
   },
   "outputs": [],
   "source": [
    "classes=['N', 'S', 'V', 'F', 'M']\n",
    "# Compute the confusion matrix\n",
    "cm = confusion_matrix(y_train, y_pred)\n",
    "\n",
    "# Plot the confusion matrix\n",
    "fig, ax = plt.subplots()\n",
    "im = ax.imshow(cm, interpolation='nearest', cmap=plt.cm.Greens)\n",
    "ax.figure.colorbar(im, ax=ax)\n",
    "ax.set(xticks=np.arange(cm.shape[1]),\n",
    "       yticks=np.arange(cm.shape[0]),\n",
    "       xticklabels=classes,\n",
    "       yticklabels=classes,\n",
    "       xlabel='Predicted label',\n",
    "       ylabel='True label',\n",
    "       aspect='equal',\n",
    "       )\n",
    "plt.xticks(np.arange(cm.shape[1]),  rotation=45, fontweight='bold', color='black',fontsize=10)\n",
    "plt.yticks(np.arange(cm.shape[0]),  fontweight='bold', color='black',fontsize=10)\n",
    "plt.ylabel('True label', fontweight='bold', color='black',fontsize=10)\n",
    "plt.xlabel('Predicted label', fontweight='bold', color='black',fontsize=10)\n",
    "plt.setp(ax.get_xticklabels(), rotation=45, ha=\"right\",rotation_mode=\"anchor\")\n",
    "\n",
    "for i in range(cm.shape[0]):\n",
    "    for j in range(cm.shape[1]):\n",
    "        ax.text(j, i, format(cm[i, j], 'd'),\n",
    "                ha=\"center\", va=\"center\", fontweight='bold',\n",
    "                color=\"white\" if cm[i, j] > cm.max() / 2. else \"black\")\n",
    "fig.tight_layout()\n",
    "plt.show()"
   ]
  },
  {
   "cell_type": "code",
   "execution_count": null,
   "metadata": {
    "execution": {
     "iopub.status.busy": "2025-03-02T07:06:01.848105Z",
     "iopub.status.idle": "2025-03-02T07:06:01.848421Z",
     "shell.execute_reply": "2025-03-02T07:06:01.848290Z",
     "shell.execute_reply.started": "2025-03-02T07:06:01.848274Z"
    },
    "trusted": true
   },
   "outputs": [],
   "source": [
    "accuracy_train = accuracy_score(y_train, y_pred)*100\n",
    "precision_train = precision_score(y_train, y_pred, average='macro')*100\n",
    "recall_train = recall_score(y_train, y_pred, average='macro')*100\n",
    "f1_train = f1_score(y_train, y_pred, average='macro')*100\n",
    "\n",
    "print(\"Accuracy (Train): {:.4f}\".format(accuracy_train))\n",
    "print(\"Precision (Train): {:.4f}\".format(precision_train))\n",
    "print(\"Recall (Train): {:.4f}\".format(recall_train))\n",
    "print(\"F1 score (Train): {:.4f}\".format(f1_train))"
   ]
  },
  {
   "cell_type": "code",
   "execution_count": null,
   "metadata": {
    "execution": {
     "iopub.status.busy": "2025-03-02T07:06:01.849767Z",
     "iopub.status.idle": "2025-03-02T07:06:01.850072Z",
     "shell.execute_reply": "2025-03-02T07:06:01.849936Z",
     "shell.execute_reply.started": "2025-03-02T07:06:01.849920Z"
    },
    "trusted": true
   },
   "outputs": [],
   "source": [
    "with open('lr.csv', 'w', newline='') as csvfile:\n",
    "    writer = csv.writer(csvfile)\n",
    "    writer.writerow(['Model','Accuracy (Train)', 'Precision (Train)', 'Recall (Train)', 'F1 Score (Train)','Accuracy (Test)', 'Precision (Test)', 'Recall (Test)', 'F1 Score (Test)'])\n",
    "    writer.writerow(['Logistic Regression',accuracy_train, precision_train, recall_train, f1_train, accuracy_test, precision_test, recall_test, f1_test])\n",
    "\n",
    "result=pd.read_csv('lr.csv')"
   ]
  },
  {
   "cell_type": "code",
   "execution_count": null,
   "metadata": {
    "execution": {
     "iopub.status.busy": "2025-03-02T07:06:01.851242Z",
     "iopub.status.idle": "2025-03-02T07:06:01.851522Z",
     "shell.execute_reply": "2025-03-02T07:06:01.851397Z",
     "shell.execute_reply.started": "2025-03-02T07:06:01.851382Z"
    },
    "trusted": true
   },
   "outputs": [],
   "source": [
    "result"
   ]
  },
  {
   "cell_type": "code",
   "execution_count": null,
   "metadata": {
    "execution": {
     "iopub.status.busy": "2025-03-02T07:06:01.852809Z",
     "iopub.status.idle": "2025-03-02T07:06:01.853086Z",
     "shell.execute_reply": "2025-03-02T07:06:01.852963Z",
     "shell.execute_reply.started": "2025-03-02T07:06:01.852949Z"
    },
    "trusted": true
   },
   "outputs": [],
   "source": [
    "model_name='Logistic Regression'\n",
    "all_model.loc[len(all_model)] = [model_name, accuracy_train, precision_train, recall_train, f1_train, accuracy_test, precision_test, recall_test, f1_test, training_time, testing_time, memory_usage]"
   ]
  },
  {
   "cell_type": "code",
   "execution_count": null,
   "metadata": {
    "execution": {
     "iopub.status.busy": "2025-03-02T07:06:01.854464Z",
     "iopub.status.idle": "2025-03-02T07:06:01.854768Z",
     "shell.execute_reply": "2025-03-02T07:06:01.854637Z",
     "shell.execute_reply.started": "2025-03-02T07:06:01.854622Z"
    },
    "trusted": true
   },
   "outputs": [],
   "source": [
    "all_model"
   ]
  },
  {
   "cell_type": "markdown",
   "metadata": {},
   "source": [
    "**Gaussian Naive Bayes**"
   ]
  },
  {
   "cell_type": "code",
   "execution_count": null,
   "metadata": {
    "execution": {
     "iopub.status.busy": "2025-03-02T07:06:01.855642Z",
     "iopub.status.idle": "2025-03-02T07:06:01.855955Z",
     "shell.execute_reply": "2025-03-02T07:06:01.855821Z",
     "shell.execute_reply.started": "2025-03-02T07:06:01.855804Z"
    },
    "trusted": true
   },
   "outputs": [],
   "source": [
    "from sklearn.naive_bayes import GaussianNB\n",
    "\n",
    "# define the GNB model\n",
    "gnb = GaussianNB()\n",
    "\n",
    "# fit the model on the training data\n",
    "start_time = time.time()\n",
    "gnb.fit(X_train, y_train)\n",
    "training_time = time.time() - start_time\n",
    "memory_usage = psutil.Process().memory_info().rss / 1024 / 1024"
   ]
  },
  {
   "cell_type": "code",
   "execution_count": null,
   "metadata": {
    "execution": {
     "iopub.status.busy": "2025-03-02T07:06:01.857290Z",
     "iopub.status.idle": "2025-03-02T07:06:01.857743Z",
     "shell.execute_reply": "2025-03-02T07:06:01.857531Z",
     "shell.execute_reply.started": "2025-03-02T07:06:01.857507Z"
    },
    "trusted": true
   },
   "outputs": [],
   "source": [
    "# make predictions on the test data\n",
    "start_time = time.time()\n",
    "y_pred = gnb.predict(X_test)\n",
    "testing_time = time.time() - start_time"
   ]
  },
  {
   "cell_type": "code",
   "execution_count": null,
   "metadata": {
    "execution": {
     "iopub.status.busy": "2025-03-02T07:06:01.859226Z",
     "iopub.status.idle": "2025-03-02T07:06:01.859553Z",
     "shell.execute_reply": "2025-03-02T07:06:01.859411Z",
     "shell.execute_reply.started": "2025-03-02T07:06:01.859395Z"
    },
    "trusted": true
   },
   "outputs": [],
   "source": [
    "classes=['N', 'S', 'V', 'F', 'M']\n",
    "# Compute the confusion matrix\n",
    "cm = confusion_matrix(y_test, y_pred)\n",
    "\n",
    "# Plot the confusion matrix\n",
    "fig, ax = plt.subplots()\n",
    "im = ax.imshow(cm, interpolation='nearest', cmap=plt.cm.Greens)\n",
    "ax.figure.colorbar(im, ax=ax)\n",
    "ax.set(xticks=np.arange(cm.shape[1]),\n",
    "       yticks=np.arange(cm.shape[0]),\n",
    "       xticklabels=classes,\n",
    "       yticklabels=classes,\n",
    "       xlabel='Predicted label',\n",
    "       ylabel='True label',\n",
    "       aspect='equal',\n",
    "       )\n",
    "plt.xticks(np.arange(cm.shape[1]),  rotation=45, fontweight='bold', color='black',fontsize=10)\n",
    "plt.yticks(np.arange(cm.shape[0]),  fontweight='bold', color='black',fontsize=10)\n",
    "plt.ylabel('True label', fontweight='bold', color='black',fontsize=10)\n",
    "plt.xlabel('Predicted label', fontweight='bold', color='black',fontsize=10)\n",
    "plt.setp(ax.get_xticklabels(), rotation=45, ha=\"right\",rotation_mode=\"anchor\")\n",
    "\n",
    "for i in range(cm.shape[0]):\n",
    "    for j in range(cm.shape[1]):\n",
    "        ax.text(j, i, format(cm[i, j], 'd'),\n",
    "                ha=\"center\", va=\"center\", fontweight='bold',\n",
    "                color=\"white\" if cm[i, j] > cm.max() / 2. else \"black\")\n",
    "fig.tight_layout()\n",
    "plt.show()"
   ]
  },
  {
   "cell_type": "code",
   "execution_count": null,
   "metadata": {
    "execution": {
     "iopub.status.busy": "2025-03-02T07:06:01.860882Z",
     "iopub.status.idle": "2025-03-02T07:06:01.861193Z",
     "shell.execute_reply": "2025-03-02T07:06:01.861037Z",
     "shell.execute_reply.started": "2025-03-02T07:06:01.861022Z"
    },
    "trusted": true
   },
   "outputs": [],
   "source": [
    "accuracy_test = accuracy_score(y_test, y_pred)*100\n",
    "precision_test = precision_score(y_test, y_pred, average='macro')*100\n",
    "recall_test = recall_score(y_test, y_pred, average='macro')*100\n",
    "f1_test = f1_score(y_test, y_pred, average='macro')*100\n",
    "\n",
    "print(\"Accuracy (Test): {:.4f}\".format(accuracy_test))\n",
    "print(\"Precision (Test): {:.4f}\".format(precision_test))\n",
    "print(\"Recall (Test): {:.4f}\".format(recall_test))\n",
    "print(\"F1 score (Test): {:.4f}\".format(f1_test))"
   ]
  },
  {
   "cell_type": "code",
   "execution_count": null,
   "metadata": {
    "execution": {
     "iopub.status.busy": "2025-03-02T07:06:01.862088Z",
     "iopub.status.idle": "2025-03-02T07:06:01.862406Z",
     "shell.execute_reply": "2025-03-02T07:06:01.862276Z",
     "shell.execute_reply.started": "2025-03-02T07:06:01.862260Z"
    },
    "trusted": true
   },
   "outputs": [],
   "source": [
    "# make predictions on the train data\n",
    "y_pred = gnb.predict(X_train)"
   ]
  },
  {
   "cell_type": "code",
   "execution_count": null,
   "metadata": {
    "execution": {
     "iopub.status.busy": "2025-03-02T07:06:01.864460Z",
     "iopub.status.idle": "2025-03-02T07:06:01.864922Z",
     "shell.execute_reply": "2025-03-02T07:06:01.864704Z",
     "shell.execute_reply.started": "2025-03-02T07:06:01.864681Z"
    },
    "trusted": true
   },
   "outputs": [],
   "source": [
    "classes=['N', 'S', 'V', 'F', 'M']\n",
    "# Compute the confusion matrix\n",
    "cm = confusion_matrix(y_train, y_pred)\n",
    "\n",
    "# Plot the confusion matrix\n",
    "fig, ax = plt.subplots()\n",
    "im = ax.imshow(cm, interpolation='nearest', cmap=plt.cm.Greens)\n",
    "ax.figure.colorbar(im, ax=ax)\n",
    "ax.set(xticks=np.arange(cm.shape[1]),\n",
    "       yticks=np.arange(cm.shape[0]),\n",
    "       xticklabels=classes,\n",
    "       yticklabels=classes,\n",
    "       xlabel='Predicted label',\n",
    "       ylabel='True label',\n",
    "       aspect='equal',\n",
    "       )\n",
    "plt.xticks(np.arange(cm.shape[1]),  rotation=45, fontweight='bold', color='black',fontsize=10)\n",
    "plt.yticks(np.arange(cm.shape[0]),  fontweight='bold', color='black',fontsize=10)\n",
    "plt.ylabel('True label', fontweight='bold', color='black',fontsize=10)\n",
    "plt.xlabel('Predicted label', fontweight='bold', color='black',fontsize=10)\n",
    "plt.setp(ax.get_xticklabels(), rotation=45, ha=\"right\",rotation_mode=\"anchor\")\n",
    "\n",
    "for i in range(cm.shape[0]):\n",
    "    for j in range(cm.shape[1]):\n",
    "        ax.text(j, i, format(cm[i, j], 'd'),\n",
    "                ha=\"center\", va=\"center\", fontweight='bold',\n",
    "                color=\"white\" if cm[i, j] > cm.max() / 2. else \"black\")\n",
    "fig.tight_layout()\n",
    "plt.show()"
   ]
  },
  {
   "cell_type": "code",
   "execution_count": null,
   "metadata": {
    "execution": {
     "iopub.status.busy": "2025-03-02T07:06:01.865887Z",
     "iopub.status.idle": "2025-03-02T07:06:01.866336Z",
     "shell.execute_reply": "2025-03-02T07:06:01.866109Z",
     "shell.execute_reply.started": "2025-03-02T07:06:01.866086Z"
    },
    "trusted": true
   },
   "outputs": [],
   "source": [
    "accuracy_train = accuracy_score(y_train, y_pred)*100\n",
    "precision_train = precision_score(y_train, y_pred, average='macro')*100\n",
    "recall_train = recall_score(y_train, y_pred, average='macro')*100\n",
    "f1_train = f1_score(y_train, y_pred, average='macro')*100\n",
    "\n",
    "print(\"Accuracy (Train): {:.4f}\".format(accuracy_train))\n",
    "print(\"Precision (Train): {:.4f}\".format(precision_train))\n",
    "print(\"Recall (Train): {:.4f}\".format(recall_train))\n",
    "print(\"F1 score (Train): {:.4f}\".format(f1_train))"
   ]
  },
  {
   "cell_type": "code",
   "execution_count": null,
   "metadata": {
    "execution": {
     "iopub.status.busy": "2025-03-02T07:06:01.867713Z",
     "iopub.status.idle": "2025-03-02T07:06:01.868167Z",
     "shell.execute_reply": "2025-03-02T07:06:01.867938Z",
     "shell.execute_reply.started": "2025-03-02T07:06:01.867916Z"
    },
    "trusted": true
   },
   "outputs": [],
   "source": [
    "with open('gnb.csv', 'w', newline='') as csvfile:\n",
    "    writer = csv.writer(csvfile)\n",
    "    writer.writerow(['Model','Accuracy (Train)', 'Precision (Train)', 'Recall (Train)', 'F1 Score (Train)','Accuracy (Test)', 'Precision (Test)', 'Recall (Test)', 'F1 Score (Test)'])\n",
    "    writer.writerow(['Gaussian Naive Bayes',accuracy_train, precision_train, recall_train, f1_train, accuracy_test, precision_test, recall_test, f1_test])\n",
    "    \n",
    "result=pd.read_csv('gnb.csv')"
   ]
  },
  {
   "cell_type": "code",
   "execution_count": null,
   "metadata": {
    "execution": {
     "iopub.status.busy": "2025-03-02T07:06:01.870170Z",
     "iopub.status.idle": "2025-03-02T07:06:01.870489Z",
     "shell.execute_reply": "2025-03-02T07:06:01.870351Z",
     "shell.execute_reply.started": "2025-03-02T07:06:01.870334Z"
    },
    "trusted": true
   },
   "outputs": [],
   "source": [
    "result"
   ]
  },
  {
   "cell_type": "code",
   "execution_count": null,
   "metadata": {
    "execution": {
     "iopub.status.busy": "2025-03-02T07:06:01.871316Z",
     "iopub.status.idle": "2025-03-02T07:06:01.871637Z",
     "shell.execute_reply": "2025-03-02T07:06:01.871498Z",
     "shell.execute_reply.started": "2025-03-02T07:06:01.871481Z"
    },
    "trusted": true
   },
   "outputs": [],
   "source": [
    "model_name='Gaussian Naive Bayes'\n",
    "all_model.loc[len(all_model)] = [model_name, accuracy_train, precision_train, recall_train, f1_train, accuracy_test, precision_test, recall_test, f1_test, training_time, testing_time, memory_usage]"
   ]
  },
  {
   "cell_type": "markdown",
   "metadata": {},
   "source": [
    "**Decision Tree**"
   ]
  },
  {
   "cell_type": "code",
   "execution_count": null,
   "metadata": {
    "execution": {
     "iopub.status.busy": "2025-03-02T07:06:01.872810Z",
     "iopub.status.idle": "2025-03-02T07:06:01.873123Z",
     "shell.execute_reply": "2025-03-02T07:06:01.872988Z",
     "shell.execute_reply.started": "2025-03-02T07:06:01.872972Z"
    },
    "trusted": true
   },
   "outputs": [],
   "source": [
    "from sklearn.tree import DecisionTreeClassifier\n",
    "\n",
    "# define the DT model\n",
    "dt = DecisionTreeClassifier()\n",
    "\n",
    "# fit the model on the training data\n",
    "start_time = time.time()\n",
    "dt.fit(X_train, y_train)\n",
    "training_time = time.time() - start_time\n",
    "memory_usage = psutil.Process().memory_info().rss / 1024 / 1024"
   ]
  },
  {
   "cell_type": "code",
   "execution_count": null,
   "metadata": {
    "execution": {
     "iopub.status.busy": "2025-03-02T07:06:01.874442Z",
     "iopub.status.idle": "2025-03-02T07:06:01.874766Z",
     "shell.execute_reply": "2025-03-02T07:06:01.874624Z",
     "shell.execute_reply.started": "2025-03-02T07:06:01.874607Z"
    },
    "trusted": true
   },
   "outputs": [],
   "source": [
    "# make predictions on the test data\n",
    "start_time = time.time()\n",
    "y_pred = dt.predict(X_test)\n",
    "testing_time = time.time() - start_time"
   ]
  },
  {
   "cell_type": "code",
   "execution_count": null,
   "metadata": {
    "execution": {
     "iopub.status.busy": "2025-03-02T07:06:01.876691Z",
     "iopub.status.idle": "2025-03-02T07:06:01.876988Z",
     "shell.execute_reply": "2025-03-02T07:06:01.876861Z",
     "shell.execute_reply.started": "2025-03-02T07:06:01.876846Z"
    },
    "trusted": true
   },
   "outputs": [],
   "source": [
    "classes=['N', 'S', 'V', 'F', 'M']\n",
    "# Compute the confusion matrix\n",
    "cm = confusion_matrix(y_test, y_pred)\n",
    "\n",
    "# Plot the confusion matrix\n",
    "fig, ax = plt.subplots()\n",
    "im = ax.imshow(cm, interpolation='nearest', cmap=plt.cm.Greens)\n",
    "ax.figure.colorbar(im, ax=ax)\n",
    "ax.set(xticks=np.arange(cm.shape[1]),\n",
    "       yticks=np.arange(cm.shape[0]),\n",
    "       xticklabels=classes,\n",
    "       yticklabels=classes,\n",
    "       xlabel='Predicted label',\n",
    "       ylabel='True label',\n",
    "       aspect='equal',\n",
    "       )\n",
    "plt.xticks(np.arange(cm.shape[1]),  rotation=45, fontweight='bold', color='black',fontsize=10)\n",
    "plt.yticks(np.arange(cm.shape[0]),  fontweight='bold', color='black',fontsize=10)\n",
    "plt.ylabel('True label', fontweight='bold', color='black',fontsize=10)\n",
    "plt.xlabel('Predicted label', fontweight='bold', color='black',fontsize=10)\n",
    "plt.setp(ax.get_xticklabels(), rotation=45, ha=\"right\",rotation_mode=\"anchor\")\n",
    "\n",
    "for i in range(cm.shape[0]):\n",
    "    for j in range(cm.shape[1]):\n",
    "        ax.text(j, i, format(cm[i, j], 'd'),\n",
    "                ha=\"center\", va=\"center\", fontweight='bold',\n",
    "                color=\"white\" if cm[i, j] > cm.max() / 2. else \"black\")\n",
    "fig.tight_layout()\n",
    "plt.show()"
   ]
  },
  {
   "cell_type": "code",
   "execution_count": null,
   "metadata": {
    "execution": {
     "iopub.status.busy": "2025-03-02T07:06:01.878083Z",
     "iopub.status.idle": "2025-03-02T07:06:01.878406Z",
     "shell.execute_reply": "2025-03-02T07:06:01.878273Z",
     "shell.execute_reply.started": "2025-03-02T07:06:01.878257Z"
    },
    "trusted": true
   },
   "outputs": [],
   "source": [
    "accuracy_test = accuracy_score(y_test, y_pred)*100\n",
    "precision_test = precision_score(y_test, y_pred, average='macro')*100\n",
    "recall_test = recall_score(y_test, y_pred, average='macro')*100\n",
    "f1_test = f1_score(y_test, y_pred, average='macro')*100\n",
    "\n",
    "print(\"Accuracy (Test): {:.4f}\".format(accuracy_test))\n",
    "print(\"Precision (Test): {:.4f}\".format(precision_test))\n",
    "print(\"Recall (Test): {:.4f}\".format(recall_test))\n",
    "print(\"F1 score (Test): {:.4f}\".format(f1_test))"
   ]
  },
  {
   "cell_type": "code",
   "execution_count": null,
   "metadata": {
    "execution": {
     "iopub.status.busy": "2025-03-02T07:06:01.879601Z",
     "iopub.status.idle": "2025-03-02T07:06:01.879886Z",
     "shell.execute_reply": "2025-03-02T07:06:01.879757Z",
     "shell.execute_reply.started": "2025-03-02T07:06:01.879742Z"
    },
    "trusted": true
   },
   "outputs": [],
   "source": [
    "# make predictions on the train data\n",
    "y_pred = dt.predict(X_train)"
   ]
  },
  {
   "cell_type": "code",
   "execution_count": null,
   "metadata": {
    "execution": {
     "iopub.status.busy": "2025-03-02T07:06:01.881327Z",
     "iopub.status.idle": "2025-03-02T07:06:01.881909Z",
     "shell.execute_reply": "2025-03-02T07:06:01.881634Z",
     "shell.execute_reply.started": "2025-03-02T07:06:01.881609Z"
    },
    "trusted": true
   },
   "outputs": [],
   "source": [
    "classes=['N', 'S', 'V', 'F', 'M']\n",
    "# Compute the confusion matrix\n",
    "cm = confusion_matrix(y_train, y_pred)\n",
    "\n",
    "# Plot the confusion matrix\n",
    "fig, ax = plt.subplots()\n",
    "im = ax.imshow(cm, interpolation='nearest', cmap=plt.cm.Greens)\n",
    "ax.figure.colorbar(im, ax=ax)\n",
    "ax.set(xticks=np.arange(cm.shape[1]),\n",
    "       yticks=np.arange(cm.shape[0]),\n",
    "       xticklabels=classes,\n",
    "       yticklabels=classes,\n",
    "       xlabel='Predicted label',\n",
    "       ylabel='True label',\n",
    "       aspect='equal',\n",
    "       )\n",
    "plt.xticks(np.arange(cm.shape[1]),  rotation=45, fontweight='bold', color='black',fontsize=10)\n",
    "plt.yticks(np.arange(cm.shape[0]),  fontweight='bold', color='black',fontsize=10)\n",
    "plt.ylabel('True label', fontweight='bold', color='black',fontsize=10)\n",
    "plt.xlabel('Predicted label', fontweight='bold', color='black',fontsize=10)\n",
    "plt.setp(ax.get_xticklabels(), rotation=45, ha=\"right\",rotation_mode=\"anchor\")\n",
    "\n",
    "for i in range(cm.shape[0]):\n",
    "    for j in range(cm.shape[1]):\n",
    "        ax.text(j, i, format(cm[i, j], 'd'),\n",
    "                ha=\"center\", va=\"center\", fontweight='bold',\n",
    "                color=\"white\" if cm[i, j] > cm.max() / 2. else \"black\")\n",
    "fig.tight_layout()\n",
    "plt.show()"
   ]
  },
  {
   "cell_type": "code",
   "execution_count": null,
   "metadata": {
    "execution": {
     "iopub.status.busy": "2025-03-02T07:06:01.883595Z",
     "iopub.status.idle": "2025-03-02T07:06:01.883954Z",
     "shell.execute_reply": "2025-03-02T07:06:01.883820Z",
     "shell.execute_reply.started": "2025-03-02T07:06:01.883802Z"
    },
    "trusted": true
   },
   "outputs": [],
   "source": [
    "accuracy_train = accuracy_score(y_train, y_pred)*100\n",
    "precision_train = precision_score(y_train, y_pred, average='macro')*100\n",
    "recall_train = recall_score(y_train, y_pred, average='macro')*100\n",
    "f1_train = f1_score(y_train, y_pred, average='macro')*100\n",
    "\n",
    "print(\"Accuracy (Train): {:.4f}\".format(accuracy_train))\n",
    "print(\"Precision (Train): {:.4f}\".format(precision_train))\n",
    "print(\"Recall (Train): {:.4f}\".format(recall_train))\n",
    "print(\"F1 score (Train): {:.4f}\".format(f1_train))"
   ]
  },
  {
   "cell_type": "code",
   "execution_count": null,
   "metadata": {
    "execution": {
     "iopub.status.busy": "2025-03-02T07:06:01.884801Z",
     "iopub.status.idle": "2025-03-02T07:06:01.885095Z",
     "shell.execute_reply": "2025-03-02T07:06:01.884958Z",
     "shell.execute_reply.started": "2025-03-02T07:06:01.884943Z"
    },
    "trusted": true
   },
   "outputs": [],
   "source": [
    "with open('dt.csv', 'w', newline='') as csvfile:\n",
    "    writer = csv.writer(csvfile)\n",
    "    writer.writerow(['Model','Accuracy (Train)', 'Precision (Train)', 'Recall (Train)', 'F1 Score (Train)','Accuracy (Test)', 'Precision (Test)', 'Recall (Test)', 'F1 Score (Test)'])\n",
    "    writer.writerow(['Decision Tree',accuracy_train, precision_train, recall_train, f1_train, accuracy_test, precision_test, recall_test, f1_test])\n",
    "    \n",
    "result=pd.read_csv('dt.csv')"
   ]
  },
  {
   "cell_type": "code",
   "execution_count": null,
   "metadata": {
    "execution": {
     "iopub.status.busy": "2025-03-02T07:06:01.886758Z",
     "iopub.status.idle": "2025-03-02T07:06:01.887224Z",
     "shell.execute_reply": "2025-03-02T07:06:01.886991Z",
     "shell.execute_reply.started": "2025-03-02T07:06:01.886969Z"
    },
    "trusted": true
   },
   "outputs": [],
   "source": [
    "result"
   ]
  },
  {
   "cell_type": "code",
   "execution_count": null,
   "metadata": {
    "execution": {
     "iopub.status.busy": "2025-03-02T07:06:01.888208Z",
     "iopub.status.idle": "2025-03-02T07:06:01.888491Z",
     "shell.execute_reply": "2025-03-02T07:06:01.888362Z",
     "shell.execute_reply.started": "2025-03-02T07:06:01.888348Z"
    },
    "trusted": true
   },
   "outputs": [],
   "source": [
    "model_name='Decision Tree'\n",
    "all_model.loc[len(all_model)] = [model_name, accuracy_train, precision_train, recall_train, f1_train, accuracy_test, precision_test, recall_test, f1_test, training_time, testing_time, memory_usage]"
   ]
  },
  {
   "cell_type": "code",
   "execution_count": null,
   "metadata": {
    "execution": {
     "iopub.status.busy": "2025-03-02T07:06:01.890471Z",
     "iopub.status.idle": "2025-03-02T07:06:01.890765Z",
     "shell.execute_reply": "2025-03-02T07:06:01.890633Z",
     "shell.execute_reply.started": "2025-03-02T07:06:01.890618Z"
    },
    "trusted": true
   },
   "outputs": [],
   "source": [
    "all_model"
   ]
  },
  {
   "cell_type": "markdown",
   "metadata": {},
   "source": [
    "**Random Forest**"
   ]
  },
  {
   "cell_type": "code",
   "execution_count": null,
   "metadata": {
    "execution": {
     "iopub.status.busy": "2025-03-02T07:06:01.891852Z",
     "iopub.status.idle": "2025-03-02T07:06:01.892133Z",
     "shell.execute_reply": "2025-03-02T07:06:01.892006Z",
     "shell.execute_reply.started": "2025-03-02T07:06:01.891992Z"
    },
    "trusted": true
   },
   "outputs": [],
   "source": [
    "from sklearn.ensemble import RandomForestClassifier\n",
    "\n",
    "# define the RF model\n",
    "rf = RandomForestClassifier()\n",
    "\n",
    "# fit the model on the training data\n",
    "start_time = time.time()\n",
    "rf.fit(X_train, y_train)\n",
    "training_time = time.time() - start_time\n",
    "memory_usage = psutil.Process().memory_info().rss / 1024 / 1024"
   ]
  },
  {
   "cell_type": "code",
   "execution_count": null,
   "metadata": {
    "execution": {
     "iopub.status.busy": "2025-03-02T07:06:01.893293Z",
     "iopub.status.idle": "2025-03-02T07:06:01.893621Z",
     "shell.execute_reply": "2025-03-02T07:06:01.893473Z",
     "shell.execute_reply.started": "2025-03-02T07:06:01.893456Z"
    },
    "trusted": true
   },
   "outputs": [],
   "source": [
    "# make predictions on the test data\n",
    "start_time = time.time()\n",
    "y_pred = rf.predict(X_test)\n",
    "testing_time = time.time() - start_time"
   ]
  },
  {
   "cell_type": "code",
   "execution_count": null,
   "metadata": {
    "execution": {
     "iopub.status.busy": "2025-03-02T07:06:01.895143Z",
     "iopub.status.idle": "2025-03-02T07:06:01.895519Z",
     "shell.execute_reply": "2025-03-02T07:06:01.895376Z",
     "shell.execute_reply.started": "2025-03-02T07:06:01.895358Z"
    },
    "trusted": true
   },
   "outputs": [],
   "source": [
    "classes=['N', 'S', 'V', 'F', 'M']\n",
    "# Compute the confusion matrix\n",
    "cm = confusion_matrix(y_test, y_pred)\n",
    "\n",
    "# Plot the confusion matrix\n",
    "fig, ax = plt.subplots()\n",
    "im = ax.imshow(cm, interpolation='nearest', cmap=plt.cm.Greens)\n",
    "ax.figure.colorbar(im, ax=ax)\n",
    "ax.set(xticks=np.arange(cm.shape[1]),\n",
    "       yticks=np.arange(cm.shape[0]),\n",
    "       xticklabels=classes,\n",
    "       yticklabels=classes,\n",
    "       xlabel='Predicted label',\n",
    "       ylabel='True label',\n",
    "       aspect='equal',\n",
    "       )\n",
    "plt.xticks(np.arange(cm.shape[1]),  rotation=45, fontweight='bold', color='black',fontsize=10)\n",
    "plt.yticks(np.arange(cm.shape[0]),  fontweight='bold', color='black',fontsize=10)\n",
    "plt.ylabel('True label', fontweight='bold', color='black',fontsize=10)\n",
    "plt.xlabel('Predicted label', fontweight='bold', color='black',fontsize=10)\n",
    "plt.setp(ax.get_xticklabels(), rotation=45, ha=\"right\",rotation_mode=\"anchor\")\n",
    "\n",
    "for i in range(cm.shape[0]):\n",
    "    for j in range(cm.shape[1]):\n",
    "        ax.text(j, i, format(cm[i, j], 'd'),\n",
    "                ha=\"center\", va=\"center\", fontweight='bold',\n",
    "                color=\"white\" if cm[i, j] > cm.max() / 2. else \"black\")\n",
    "fig.tight_layout()\n",
    "plt.show()"
   ]
  },
  {
   "cell_type": "code",
   "execution_count": null,
   "metadata": {
    "execution": {
     "iopub.status.busy": "2025-03-02T07:06:01.896747Z",
     "iopub.status.idle": "2025-03-02T07:06:01.897027Z",
     "shell.execute_reply": "2025-03-02T07:06:01.896902Z",
     "shell.execute_reply.started": "2025-03-02T07:06:01.896887Z"
    },
    "trusted": true
   },
   "outputs": [],
   "source": [
    "accuracy_test = accuracy_score(y_test, y_pred)*100\n",
    "precision_test = precision_score(y_test, y_pred, average='macro')*100\n",
    "recall_test = recall_score(y_test, y_pred, average='macro')*100\n",
    "f1_test = f1_score(y_test, y_pred, average='macro')*100\n",
    "\n",
    "print(\"Accuracy (Test): {:.4f}\".format(accuracy_test))\n",
    "print(\"Precision (Test): {:.4f}\".format(precision_test))\n",
    "print(\"Recall (Test): {:.4f}\".format(recall_test))\n",
    "print(\"F1 score (Test): {:.4f}\".format(f1_test))"
   ]
  },
  {
   "cell_type": "code",
   "execution_count": null,
   "metadata": {
    "execution": {
     "iopub.status.busy": "2025-03-02T07:06:01.898416Z",
     "iopub.status.idle": "2025-03-02T07:06:01.898732Z",
     "shell.execute_reply": "2025-03-02T07:06:01.898598Z",
     "shell.execute_reply.started": "2025-03-02T07:06:01.898581Z"
    },
    "trusted": true
   },
   "outputs": [],
   "source": [
    "# make predictions on the train data\n",
    "y_pred = rf.predict(X_train)"
   ]
  },
  {
   "cell_type": "code",
   "execution_count": null,
   "metadata": {
    "execution": {
     "iopub.status.busy": "2025-03-02T07:06:01.900223Z",
     "iopub.status.idle": "2025-03-02T07:06:01.900509Z",
     "shell.execute_reply": "2025-03-02T07:06:01.900380Z",
     "shell.execute_reply.started": "2025-03-02T07:06:01.900365Z"
    },
    "trusted": true
   },
   "outputs": [],
   "source": [
    "classes=['N', 'S', 'V', 'F', 'M']\n",
    "# Compute the confusion matrix\n",
    "cm = confusion_matrix(y_train, y_pred)\n",
    "\n",
    "# Plot the confusion matrix\n",
    "fig, ax = plt.subplots()\n",
    "im = ax.imshow(cm, interpolation='nearest', cmap=plt.cm.Greens)\n",
    "ax.figure.colorbar(im, ax=ax)\n",
    "ax.set(xticks=np.arange(cm.shape[1]),\n",
    "       yticks=np.arange(cm.shape[0]),\n",
    "       xticklabels=classes,\n",
    "       yticklabels=classes,\n",
    "       xlabel='Predicted label',\n",
    "       ylabel='True label',\n",
    "       aspect='equal',\n",
    "       )\n",
    "plt.xticks(np.arange(cm.shape[1]),  rotation=45, fontweight='bold', color='black',fontsize=10)\n",
    "plt.yticks(np.arange(cm.shape[0]),  fontweight='bold', color='black',fontsize=10)\n",
    "plt.ylabel('True label', fontweight='bold', color='black',fontsize=10)\n",
    "plt.xlabel('Predicted label', fontweight='bold', color='black',fontsize=10)\n",
    "plt.setp(ax.get_xticklabels(), rotation=45, ha=\"right\",rotation_mode=\"anchor\")\n",
    "\n",
    "for i in range(cm.shape[0]):\n",
    "    for j in range(cm.shape[1]):\n",
    "        ax.text(j, i, format(cm[i, j], 'd'),\n",
    "                ha=\"center\", va=\"center\", fontweight='bold',\n",
    "                color=\"white\" if cm[i, j] > cm.max() / 2. else \"black\")\n",
    "fig.tight_layout()\n",
    "plt.show()"
   ]
  },
  {
   "cell_type": "code",
   "execution_count": null,
   "metadata": {
    "execution": {
     "iopub.status.busy": "2025-03-02T07:06:01.901783Z",
     "iopub.status.idle": "2025-03-02T07:06:01.902091Z",
     "shell.execute_reply": "2025-03-02T07:06:01.901959Z",
     "shell.execute_reply.started": "2025-03-02T07:06:01.901943Z"
    },
    "trusted": true
   },
   "outputs": [],
   "source": [
    "accuracy_train = accuracy_score(y_train, y_pred)*100\n",
    "precision_train = precision_score(y_train, y_pred, average='macro')*100\n",
    "recall_train = recall_score(y_train, y_pred, average='macro')*100\n",
    "f1_train = f1_score(y_train, y_pred, average='macro')*100\n",
    "\n",
    "print(\"Accuracy (Train): {:.4f}\".format(accuracy_train))\n",
    "print(\"Precision (Train): {:.4f}\".format(precision_train))\n",
    "print(\"Recall (Train): {:.4f}\".format(recall_train))\n",
    "print(\"F1 score (Train): {:.4f}\".format(f1_train))"
   ]
  },
  {
   "cell_type": "code",
   "execution_count": null,
   "metadata": {
    "execution": {
     "iopub.status.busy": "2025-03-02T07:06:01.903234Z",
     "iopub.status.idle": "2025-03-02T07:06:01.903541Z",
     "shell.execute_reply": "2025-03-02T07:06:01.903406Z",
     "shell.execute_reply.started": "2025-03-02T07:06:01.903390Z"
    },
    "trusted": true
   },
   "outputs": [],
   "source": [
    "with open('rf.csv', 'w', newline='') as csvfile:\n",
    "    writer = csv.writer(csvfile)\n",
    "    writer.writerow(['Model','Accuracy (Train)', 'Precision (Train)', 'Recall (Train)', 'F1 Score (Train)','Accuracy (Test)', 'Precision (Test)', 'Recall (Test)', 'F1 Score (Test)'])\n",
    "    writer.writerow(['Random Forest',accuracy_train, precision_train, recall_train, f1_train, accuracy_test, precision_test, recall_test, f1_test])\n",
    "    \n",
    "result=pd.read_csv('rf.csv')"
   ]
  },
  {
   "cell_type": "code",
   "execution_count": null,
   "metadata": {
    "execution": {
     "iopub.status.busy": "2025-03-02T07:06:01.904620Z",
     "iopub.status.idle": "2025-03-02T07:06:01.904930Z",
     "shell.execute_reply": "2025-03-02T07:06:01.904797Z",
     "shell.execute_reply.started": "2025-03-02T07:06:01.904780Z"
    },
    "trusted": true
   },
   "outputs": [],
   "source": [
    "result"
   ]
  },
  {
   "cell_type": "code",
   "execution_count": null,
   "metadata": {
    "execution": {
     "iopub.status.busy": "2025-03-02T07:06:01.905802Z",
     "iopub.status.idle": "2025-03-02T07:06:01.906106Z",
     "shell.execute_reply": "2025-03-02T07:06:01.905975Z",
     "shell.execute_reply.started": "2025-03-02T07:06:01.905959Z"
    },
    "trusted": true
   },
   "outputs": [],
   "source": [
    "model_name='Random Forest'\n",
    "all_model.loc[len(all_model)] = [model_name, accuracy_train, precision_train, recall_train, f1_train, accuracy_test, precision_test, recall_test, f1_test, training_time, testing_time, memory_usage]"
   ]
  },
  {
   "cell_type": "markdown",
   "metadata": {},
   "source": [
    "**Adaboost**"
   ]
  },
  {
   "cell_type": "code",
   "execution_count": null,
   "metadata": {
    "execution": {
     "iopub.status.busy": "2025-03-02T07:06:01.906889Z",
     "iopub.status.idle": "2025-03-02T07:06:01.907195Z",
     "shell.execute_reply": "2025-03-02T07:06:01.907039Z",
     "shell.execute_reply.started": "2025-03-02T07:06:01.907025Z"
    },
    "trusted": true
   },
   "outputs": [],
   "source": [
    "from sklearn.ensemble import AdaBoostClassifier\n",
    "\n",
    "# define the AB model\n",
    "ab = AdaBoostClassifier()\n",
    "\n",
    "# fit the model on the training data\n",
    "start_time = time.time()\n",
    "ab.fit(X_train, y_train)\n",
    "training_time = time.time() - start_time\n",
    "memory_usage = psutil.Process().memory_info().rss / 1024 / 1024"
   ]
  },
  {
   "cell_type": "code",
   "execution_count": null,
   "metadata": {
    "execution": {
     "iopub.status.busy": "2025-03-02T07:06:01.908366Z",
     "iopub.status.idle": "2025-03-02T07:06:01.908647Z",
     "shell.execute_reply": "2025-03-02T07:06:01.908523Z",
     "shell.execute_reply.started": "2025-03-02T07:06:01.908509Z"
    },
    "trusted": true
   },
   "outputs": [],
   "source": [
    "# make predictions on the test data\n",
    "start_time = time.time()\n",
    "y_pred = ab.predict(X_test)\n",
    "testing_time = time.time() - start_time"
   ]
  },
  {
   "cell_type": "code",
   "execution_count": null,
   "metadata": {
    "execution": {
     "iopub.status.busy": "2025-03-02T07:06:01.910222Z",
     "iopub.status.idle": "2025-03-02T07:06:01.910541Z",
     "shell.execute_reply": "2025-03-02T07:06:01.910399Z",
     "shell.execute_reply.started": "2025-03-02T07:06:01.910383Z"
    },
    "trusted": true
   },
   "outputs": [],
   "source": [
    "classes=['N', 'S', 'V', 'F', 'M']\n",
    "# Compute the confusion matrix\n",
    "cm = confusion_matrix(y_test, y_pred)\n",
    "\n",
    "# Plot the confusion matrix\n",
    "fig, ax = plt.subplots()\n",
    "im = ax.imshow(cm, interpolation='nearest', cmap=plt.cm.Greens)\n",
    "ax.figure.colorbar(im, ax=ax)\n",
    "ax.set(xticks=np.arange(cm.shape[1]),\n",
    "       yticks=np.arange(cm.shape[0]),\n",
    "       xticklabels=classes,\n",
    "       yticklabels=classes,\n",
    "       xlabel='Predicted label',\n",
    "       ylabel='True label',\n",
    "       aspect='equal',\n",
    "       )\n",
    "plt.xticks(np.arange(cm.shape[1]),  rotation=45, fontweight='bold', color='black',fontsize=10)\n",
    "plt.yticks(np.arange(cm.shape[0]),  fontweight='bold', color='black',fontsize=10)\n",
    "plt.ylabel('True label', fontweight='bold', color='black',fontsize=10)\n",
    "plt.xlabel('Predicted label', fontweight='bold', color='black',fontsize=10)\n",
    "plt.setp(ax.get_xticklabels(), rotation=45, ha=\"right\",rotation_mode=\"anchor\")\n",
    "\n",
    "for i in range(cm.shape[0]):\n",
    "    for j in range(cm.shape[1]):\n",
    "        ax.text(j, i, format(cm[i, j], 'd'),\n",
    "                ha=\"center\", va=\"center\", fontweight='bold',\n",
    "                color=\"white\" if cm[i, j] > cm.max() / 2. else \"black\")\n",
    "fig.tight_layout()\n",
    "plt.show()"
   ]
  },
  {
   "cell_type": "code",
   "execution_count": null,
   "metadata": {
    "execution": {
     "iopub.status.busy": "2025-03-02T07:06:01.911969Z",
     "iopub.status.idle": "2025-03-02T07:06:01.912310Z",
     "shell.execute_reply": "2025-03-02T07:06:01.912145Z",
     "shell.execute_reply.started": "2025-03-02T07:06:01.912129Z"
    },
    "trusted": true
   },
   "outputs": [],
   "source": [
    "accuracy_test = accuracy_score(y_test, y_pred)*100\n",
    "precision_test = precision_score(y_test, y_pred, average='macro')*100\n",
    "recall_test = recall_score(y_test, y_pred, average='macro')*100\n",
    "f1_test = f1_score(y_test, y_pred, average='macro')*100\n",
    "\n",
    "print(\"Accuracy (Test): {:.4f}\".format(accuracy_test))\n",
    "print(\"Precision (Test): {:.4f}\".format(precision_test))\n",
    "print(\"Recall (Test): {:.4f}\".format(recall_test))\n",
    "print(\"F1 score (Test): {:.4f}\".format(f1_test))"
   ]
  },
  {
   "cell_type": "code",
   "execution_count": null,
   "metadata": {
    "execution": {
     "iopub.status.busy": "2025-03-02T07:06:01.913878Z",
     "iopub.status.idle": "2025-03-02T07:06:01.914183Z",
     "shell.execute_reply": "2025-03-02T07:06:01.914033Z",
     "shell.execute_reply.started": "2025-03-02T07:06:01.914018Z"
    },
    "trusted": true
   },
   "outputs": [],
   "source": [
    "# make predictions on the train data\n",
    "y_pred = ab.predict(X_train)"
   ]
  },
  {
   "cell_type": "code",
   "execution_count": null,
   "metadata": {
    "execution": {
     "iopub.status.busy": "2025-03-02T07:06:01.915209Z",
     "iopub.status.idle": "2025-03-02T07:06:01.915524Z",
     "shell.execute_reply": "2025-03-02T07:06:01.915383Z",
     "shell.execute_reply.started": "2025-03-02T07:06:01.915367Z"
    },
    "trusted": true
   },
   "outputs": [],
   "source": [
    "classes=['N', 'S', 'V', 'F', 'M']\n",
    "# Compute the confusion matrix\n",
    "cm = confusion_matrix(y_train, y_pred)\n",
    "\n",
    "# Plot the confusion matrix\n",
    "fig, ax = plt.subplots()\n",
    "im = ax.imshow(cm, interpolation='nearest', cmap=plt.cm.Greens)\n",
    "ax.figure.colorbar(im, ax=ax)\n",
    "ax.set(xticks=np.arange(cm.shape[1]),\n",
    "       yticks=np.arange(cm.shape[0]),\n",
    "       xticklabels=classes,\n",
    "       yticklabels=classes,\n",
    "       xlabel='Predicted label',\n",
    "       ylabel='True label',\n",
    "       aspect='equal',\n",
    "       )\n",
    "plt.xticks(np.arange(cm.shape[1]),  rotation=45, fontweight='bold', color='black',fontsize=10)\n",
    "plt.yticks(np.arange(cm.shape[0]),  fontweight='bold', color='black',fontsize=10)\n",
    "plt.ylabel('True label', fontweight='bold', color='black',fontsize=10)\n",
    "plt.xlabel('Predicted label', fontweight='bold', color='black',fontsize=10)\n",
    "plt.setp(ax.get_xticklabels(), rotation=45, ha=\"right\",rotation_mode=\"anchor\")\n",
    "\n",
    "for i in range(cm.shape[0]):\n",
    "    for j in range(cm.shape[1]):\n",
    "        ax.text(j, i, format(cm[i, j], 'd'),\n",
    "                ha=\"center\", va=\"center\", fontweight='bold',\n",
    "                color=\"white\" if cm[i, j] > cm.max() / 2. else \"black\")\n",
    "fig.tight_layout()\n",
    "plt.show()"
   ]
  },
  {
   "cell_type": "code",
   "execution_count": null,
   "metadata": {
    "execution": {
     "iopub.status.busy": "2025-03-02T07:06:01.916881Z",
     "iopub.status.idle": "2025-03-02T07:06:01.917230Z",
     "shell.execute_reply": "2025-03-02T07:06:01.917055Z",
     "shell.execute_reply.started": "2025-03-02T07:06:01.917039Z"
    },
    "trusted": true
   },
   "outputs": [],
   "source": [
    "accuracy_train = accuracy_score(y_train, y_pred)*100\n",
    "precision_train = precision_score(y_train, y_pred, average='macro')*100\n",
    "recall_train = recall_score(y_train, y_pred, average='macro')*100\n",
    "f1_train = f1_score(y_train, y_pred, average='macro')*100\n",
    "\n",
    "print(\"Accuracy (Train): {:.4f}\".format(accuracy_train))\n",
    "print(\"Precision (Train): {:.4f}\".format(precision_train))\n",
    "print(\"Recall (Train): {:.4f}\".format(recall_train))\n",
    "print(\"F1 score (Train): {:.4f}\".format(f1_train))"
   ]
  },
  {
   "cell_type": "code",
   "execution_count": null,
   "metadata": {
    "execution": {
     "iopub.status.busy": "2025-03-02T07:06:01.918648Z",
     "iopub.status.idle": "2025-03-02T07:06:01.919075Z",
     "shell.execute_reply": "2025-03-02T07:06:01.918869Z",
     "shell.execute_reply.started": "2025-03-02T07:06:01.918845Z"
    },
    "trusted": true
   },
   "outputs": [],
   "source": [
    "with open('ab.csv', 'w', newline='') as csvfile:\n",
    "    writer = csv.writer(csvfile)\n",
    "    writer.writerow(['Model','Accuracy (Train)', 'Precision (Train)', 'Recall (Train)', 'F1 Score (Train)','Accuracy (Test)', 'Precision (Test)', 'Recall (Test)', 'F1 Score (Test)'])\n",
    "    writer.writerow(['Adaboost',accuracy_train, precision_train, recall_train, f1_train, accuracy_test, precision_test, recall_test, f1_test])\n",
    "    \n",
    "result=pd.read_csv('ab.csv')"
   ]
  },
  {
   "cell_type": "code",
   "execution_count": null,
   "metadata": {
    "execution": {
     "iopub.status.busy": "2025-03-02T07:06:01.920637Z",
     "iopub.status.idle": "2025-03-02T07:06:01.921076Z",
     "shell.execute_reply": "2025-03-02T07:06:01.920867Z",
     "shell.execute_reply.started": "2025-03-02T07:06:01.920843Z"
    },
    "trusted": true
   },
   "outputs": [],
   "source": [
    "result"
   ]
  },
  {
   "cell_type": "code",
   "execution_count": null,
   "metadata": {
    "execution": {
     "iopub.status.busy": "2025-03-02T07:06:01.922589Z",
     "iopub.status.idle": "2025-03-02T07:06:01.923029Z",
     "shell.execute_reply": "2025-03-02T07:06:01.922819Z",
     "shell.execute_reply.started": "2025-03-02T07:06:01.922795Z"
    },
    "trusted": true
   },
   "outputs": [],
   "source": [
    "model_name='Adaboost'\n",
    "all_model.loc[len(all_model)] = [model_name, accuracy_train, precision_train, recall_train, f1_train, accuracy_test, precision_test, recall_test, f1_test, training_time, testing_time, memory_usage]"
   ]
  },
  {
   "cell_type": "code",
   "execution_count": null,
   "metadata": {
    "execution": {
     "iopub.status.busy": "2025-03-02T07:06:01.924175Z",
     "iopub.status.idle": "2025-03-02T07:06:01.924529Z",
     "shell.execute_reply": "2025-03-02T07:06:01.924380Z",
     "shell.execute_reply.started": "2025-03-02T07:06:01.924346Z"
    },
    "trusted": true
   },
   "outputs": [],
   "source": [
    "all_model"
   ]
  },
  {
   "cell_type": "markdown",
   "metadata": {},
   "source": [
    "**Gradient Boosting**"
   ]
  },
  {
   "cell_type": "code",
   "execution_count": null,
   "metadata": {
    "execution": {
     "iopub.status.busy": "2025-03-02T07:06:01.925910Z",
     "iopub.status.idle": "2025-03-02T07:06:01.926252Z",
     "shell.execute_reply": "2025-03-02T07:06:01.926083Z",
     "shell.execute_reply.started": "2025-03-02T07:06:01.926067Z"
    },
    "trusted": true
   },
   "outputs": [],
   "source": [
    "from sklearn.ensemble import GradientBoostingClassifier\n",
    "\n",
    "# define the GB model\n",
    "gb = GradientBoostingClassifier()\n",
    "\n",
    "# fit the model on the training data\n",
    "start_time = time.time()\n",
    "gb.fit(X_train, y_train)\n",
    "training_time = time.time() - start_time\n",
    "memory_usage = psutil.Process().memory_info().rss / 1024 / 1024"
   ]
  },
  {
   "cell_type": "code",
   "execution_count": null,
   "metadata": {
    "execution": {
     "iopub.status.busy": "2025-03-02T07:06:01.927887Z",
     "iopub.status.idle": "2025-03-02T07:06:01.928234Z",
     "shell.execute_reply": "2025-03-02T07:06:01.928063Z",
     "shell.execute_reply.started": "2025-03-02T07:06:01.928046Z"
    },
    "trusted": true
   },
   "outputs": [],
   "source": [
    "# make predictions on the test data\n",
    "start_time = time.time()\n",
    "y_pred = gb.predict(X_test)\n",
    "testing_time = time.time() - start_time"
   ]
  },
  {
   "cell_type": "code",
   "execution_count": null,
   "metadata": {
    "execution": {
     "iopub.status.busy": "2025-03-02T07:06:01.929601Z",
     "iopub.status.idle": "2025-03-02T07:06:01.929911Z",
     "shell.execute_reply": "2025-03-02T07:06:01.929777Z",
     "shell.execute_reply.started": "2025-03-02T07:06:01.929761Z"
    },
    "trusted": true
   },
   "outputs": [],
   "source": [
    "classes=['N', 'S', 'V', 'F', 'M']\n",
    "# Compute the confusion matrix\n",
    "cm = confusion_matrix(y_test, y_pred)\n",
    "\n",
    "# Plot the confusion matrix\n",
    "fig, ax = plt.subplots()\n",
    "im = ax.imshow(cm, interpolation='nearest', cmap=plt.cm.Greens)\n",
    "ax.figure.colorbar(im, ax=ax)\n",
    "ax.set(xticks=np.arange(cm.shape[1]),\n",
    "       yticks=np.arange(cm.shape[0]),\n",
    "       xticklabels=classes,\n",
    "       yticklabels=classes,\n",
    "       xlabel='Predicted label',\n",
    "       ylabel='True label',\n",
    "       aspect='equal',\n",
    "       )\n",
    "plt.xticks(np.arange(cm.shape[1]),  rotation=45, fontweight='bold', color='black',fontsize=10)\n",
    "plt.yticks(np.arange(cm.shape[0]),  fontweight='bold', color='black',fontsize=10)\n",
    "plt.ylabel('True label', fontweight='bold', color='black',fontsize=10)\n",
    "plt.xlabel('Predicted label', fontweight='bold', color='black',fontsize=10)\n",
    "plt.setp(ax.get_xticklabels(), rotation=45, ha=\"right\",rotation_mode=\"anchor\")\n",
    "\n",
    "for i in range(cm.shape[0]):\n",
    "    for j in range(cm.shape[1]):\n",
    "        ax.text(j, i, format(cm[i, j], 'd'),\n",
    "                ha=\"center\", va=\"center\", fontweight='bold',\n",
    "                color=\"white\" if cm[i, j] > cm.max() / 2. else \"black\")\n",
    "fig.tight_layout()\n",
    "plt.show()"
   ]
  },
  {
   "cell_type": "code",
   "execution_count": null,
   "metadata": {
    "execution": {
     "iopub.status.busy": "2025-03-02T07:06:01.931019Z",
     "iopub.status.idle": "2025-03-02T07:06:01.931342Z",
     "shell.execute_reply": "2025-03-02T07:06:01.931205Z",
     "shell.execute_reply.started": "2025-03-02T07:06:01.931188Z"
    },
    "trusted": true
   },
   "outputs": [],
   "source": [
    "accuracy_test = accuracy_score(y_test, y_pred)*100\n",
    "precision_test = precision_score(y_test, y_pred, average='macro')*100\n",
    "recall_test = recall_score(y_test, y_pred, average='macro')*100\n",
    "f1_test = f1_score(y_test, y_pred, average='macro')*100\n",
    "\n",
    "print(\"Accuracy (Test): {:.4f}\".format(accuracy_test))\n",
    "print(\"Precision (Test): {:.4f}\".format(precision_test))\n",
    "print(\"Recall (Test): {:.4f}\".format(recall_test))\n",
    "print(\"F1 score (Test): {:.4f}\".format(f1_test))"
   ]
  },
  {
   "cell_type": "code",
   "execution_count": null,
   "metadata": {
    "execution": {
     "iopub.status.busy": "2025-03-02T07:06:01.932452Z",
     "iopub.status.idle": "2025-03-02T07:06:01.932762Z",
     "shell.execute_reply": "2025-03-02T07:06:01.932623Z",
     "shell.execute_reply.started": "2025-03-02T07:06:01.932607Z"
    },
    "trusted": true
   },
   "outputs": [],
   "source": [
    "# make predictions on the train data\n",
    "y_pred = gb.predict(X_train)"
   ]
  },
  {
   "cell_type": "code",
   "execution_count": null,
   "metadata": {
    "execution": {
     "iopub.status.busy": "2025-03-02T07:06:01.933925Z",
     "iopub.status.idle": "2025-03-02T07:06:01.934237Z",
     "shell.execute_reply": "2025-03-02T07:06:01.934081Z",
     "shell.execute_reply.started": "2025-03-02T07:06:01.934067Z"
    },
    "trusted": true
   },
   "outputs": [],
   "source": [
    "classes=['N', 'S', 'V', 'F', 'M']\n",
    "# Compute the confusion matrix\n",
    "cm = confusion_matrix(y_train, y_pred)\n",
    "\n",
    "# Plot the confusion matrix\n",
    "fig, ax = plt.subplots()\n",
    "im = ax.imshow(cm, interpolation='nearest', cmap=plt.cm.Greens)\n",
    "ax.figure.colorbar(im, ax=ax)\n",
    "ax.set(xticks=np.arange(cm.shape[1]),\n",
    "       yticks=np.arange(cm.shape[0]),\n",
    "       xticklabels=classes,\n",
    "       yticklabels=classes,\n",
    "       xlabel='Predicted label',\n",
    "       ylabel='True label',\n",
    "       aspect='equal',\n",
    "       )\n",
    "plt.xticks(np.arange(cm.shape[1]),  rotation=45, fontweight='bold', color='black',fontsize=10)\n",
    "plt.yticks(np.arange(cm.shape[0]),  fontweight='bold', color='black',fontsize=10)\n",
    "plt.ylabel('True label', fontweight='bold', color='black',fontsize=10)\n",
    "plt.xlabel('Predicted label', fontweight='bold', color='black',fontsize=10)\n",
    "plt.setp(ax.get_xticklabels(), rotation=45, ha=\"right\",rotation_mode=\"anchor\")\n",
    "\n",
    "for i in range(cm.shape[0]):\n",
    "    for j in range(cm.shape[1]):\n",
    "        ax.text(j, i, format(cm[i, j], 'd'),\n",
    "                ha=\"center\", va=\"center\", fontweight='bold',\n",
    "                color=\"white\" if cm[i, j] > cm.max() / 2. else \"black\")\n",
    "fig.tight_layout()\n",
    "plt.show()"
   ]
  },
  {
   "cell_type": "code",
   "execution_count": null,
   "metadata": {
    "execution": {
     "iopub.status.busy": "2025-03-02T07:06:01.935579Z",
     "iopub.status.idle": "2025-03-02T07:06:01.935869Z",
     "shell.execute_reply": "2025-03-02T07:06:01.935743Z",
     "shell.execute_reply.started": "2025-03-02T07:06:01.935723Z"
    },
    "trusted": true
   },
   "outputs": [],
   "source": [
    "accuracy_train = accuracy_score(y_train, y_pred)*100\n",
    "precision_train = precision_score(y_train, y_pred, average='macro')*100\n",
    "recall_train = recall_score(y_train, y_pred, average='macro')*100\n",
    "f1_train = f1_score(y_train, y_pred, average='macro')*100\n",
    "\n",
    "print(\"Accuracy (Train): {:.4f}\".format(accuracy_train))\n",
    "print(\"Precision (Train): {:.4f}\".format(precision_train))\n",
    "print(\"Recall (Train): {:.4f}\".format(recall_train))\n",
    "print(\"F1 score (Train): {:.4f}\".format(f1_train))"
   ]
  },
  {
   "cell_type": "code",
   "execution_count": null,
   "metadata": {
    "execution": {
     "iopub.status.busy": "2025-03-02T07:06:01.936823Z",
     "iopub.status.idle": "2025-03-02T07:06:01.937095Z",
     "shell.execute_reply": "2025-03-02T07:06:01.936971Z",
     "shell.execute_reply.started": "2025-03-02T07:06:01.936957Z"
    },
    "trusted": true
   },
   "outputs": [],
   "source": [
    "with open('gb.csv', 'w', newline='') as csvfile:\n",
    "    writer = csv.writer(csvfile)\n",
    "    writer.writerow(['Model','Accuracy (Train)', 'Precision (Train)', 'Recall (Train)', 'F1 Score (Train)','Accuracy (Test)', 'Precision (Test)', 'Recall (Test)', 'F1 Score (Test)'])\n",
    "    writer.writerow(['Gradient Boosting',accuracy_train, precision_train, recall_train, f1_train, accuracy_test, precision_test, recall_test, f1_test])\n",
    "    \n",
    "result=pd.read_csv('gb.csv')"
   ]
  },
  {
   "cell_type": "code",
   "execution_count": null,
   "metadata": {
    "execution": {
     "iopub.status.busy": "2025-03-02T07:06:01.938256Z",
     "iopub.status.idle": "2025-03-02T07:06:01.938564Z",
     "shell.execute_reply": "2025-03-02T07:06:01.938429Z",
     "shell.execute_reply.started": "2025-03-02T07:06:01.938413Z"
    },
    "trusted": true
   },
   "outputs": [],
   "source": [
    "result"
   ]
  },
  {
   "cell_type": "code",
   "execution_count": null,
   "metadata": {
    "execution": {
     "iopub.status.busy": "2025-03-02T07:06:01.939952Z",
     "iopub.status.idle": "2025-03-02T07:06:01.940296Z",
     "shell.execute_reply": "2025-03-02T07:06:01.940128Z",
     "shell.execute_reply.started": "2025-03-02T07:06:01.940111Z"
    },
    "trusted": true
   },
   "outputs": [],
   "source": [
    "model_name='Gradient Boosting'\n",
    "all_model.loc[len(all_model)] = [model_name, accuracy_train, precision_train, recall_train, f1_train, accuracy_test, precision_test, recall_test, f1_test, training_time, testing_time, memory_usage]"
   ]
  },
  {
   "cell_type": "code",
   "execution_count": null,
   "metadata": {
    "execution": {
     "iopub.status.busy": "2025-03-02T07:06:01.941663Z",
     "iopub.status.idle": "2025-03-02T07:06:01.941957Z",
     "shell.execute_reply": "2025-03-02T07:06:01.941823Z",
     "shell.execute_reply.started": "2025-03-02T07:06:01.941808Z"
    },
    "trusted": true
   },
   "outputs": [],
   "source": [
    "all_model"
   ]
  },
  {
   "cell_type": "markdown",
   "metadata": {},
   "source": [
    "**XGBoost**"
   ]
  },
  {
   "cell_type": "code",
   "execution_count": null,
   "metadata": {
    "execution": {
     "iopub.status.busy": "2025-03-02T07:06:01.943056Z",
     "iopub.status.idle": "2025-03-02T07:06:01.943531Z",
     "shell.execute_reply": "2025-03-02T07:06:01.943300Z",
     "shell.execute_reply.started": "2025-03-02T07:06:01.943277Z"
    },
    "trusted": true
   },
   "outputs": [],
   "source": [
    "from xgboost import XGBClassifier\n",
    "\n",
    "# define the XGB model\n",
    "xgb = XGBClassifier()\n",
    "\n",
    "# fit the model on the training data\n",
    "start_time = time.time()\n",
    "xgb.fit(X_train, y_train)\n",
    "training_time = time.time() - start_time\n",
    "memory_usage = psutil.Process().memory_info().rss / 1024 / 1024"
   ]
  },
  {
   "cell_type": "code",
   "execution_count": null,
   "metadata": {
    "execution": {
     "iopub.status.busy": "2025-03-02T07:06:01.945117Z",
     "iopub.status.idle": "2025-03-02T07:06:01.945580Z",
     "shell.execute_reply": "2025-03-02T07:06:01.945364Z",
     "shell.execute_reply.started": "2025-03-02T07:06:01.945341Z"
    },
    "trusted": true
   },
   "outputs": [],
   "source": [
    "# make predictions on the test data\n",
    "start_time = time.time()\n",
    "y_pred = xgb.predict(X_test)\n",
    "testing_time = time.time() - start_time"
   ]
  },
  {
   "cell_type": "code",
   "execution_count": null,
   "metadata": {
    "execution": {
     "iopub.status.busy": "2025-03-02T07:06:01.947096Z",
     "iopub.status.idle": "2025-03-02T07:06:01.947571Z",
     "shell.execute_reply": "2025-03-02T07:06:01.947349Z",
     "shell.execute_reply.started": "2025-03-02T07:06:01.947326Z"
    },
    "trusted": true
   },
   "outputs": [],
   "source": [
    "classes=['N', 'S', 'V', 'F', 'M']\n",
    "# Compute the confusion matrix\n",
    "cm = confusion_matrix(y_test, y_pred)\n",
    "\n",
    "# Plot the confusion matrix\n",
    "fig, ax = plt.subplots()\n",
    "im = ax.imshow(cm, interpolation='nearest', cmap=plt.cm.Greens)\n",
    "ax.figure.colorbar(im, ax=ax)\n",
    "ax.set(xticks=np.arange(cm.shape[1]),\n",
    "       yticks=np.arange(cm.shape[0]),\n",
    "       xticklabels=classes,\n",
    "       yticklabels=classes,\n",
    "       xlabel='Predicted label',\n",
    "       ylabel='True label',\n",
    "       aspect='equal',\n",
    "       )\n",
    "plt.xticks(np.arange(cm.shape[1]),  rotation=45, fontweight='bold', color='black',fontsize=10)\n",
    "plt.yticks(np.arange(cm.shape[0]),  fontweight='bold', color='black',fontsize=10)\n",
    "plt.ylabel('True label', fontweight='bold', color='black',fontsize=10)\n",
    "plt.xlabel('Predicted label', fontweight='bold', color='black',fontsize=10)\n",
    "plt.setp(ax.get_xticklabels(), rotation=45, ha=\"right\",rotation_mode=\"anchor\")\n",
    "\n",
    "for i in range(cm.shape[0]):\n",
    "    for j in range(cm.shape[1]):\n",
    "        ax.text(j, i, format(cm[i, j], 'd'),\n",
    "                ha=\"center\", va=\"center\", fontweight='bold',\n",
    "                color=\"white\" if cm[i, j] > cm.max() / 2. else \"black\")\n",
    "fig.tight_layout()\n",
    "plt.show()"
   ]
  },
  {
   "cell_type": "code",
   "execution_count": null,
   "metadata": {
    "execution": {
     "iopub.status.busy": "2025-03-02T07:06:01.948542Z",
     "iopub.status.idle": "2025-03-02T07:06:01.948973Z",
     "shell.execute_reply": "2025-03-02T07:06:01.948763Z",
     "shell.execute_reply.started": "2025-03-02T07:06:01.948740Z"
    },
    "trusted": true
   },
   "outputs": [],
   "source": [
    "accuracy_test = accuracy_score(y_test, y_pred)*100\n",
    "precision_test = precision_score(y_test, y_pred, average='macro')*100\n",
    "recall_test = recall_score(y_test, y_pred, average='macro')*100\n",
    "f1_test = f1_score(y_test, y_pred, average='macro')*100\n",
    "\n",
    "print(\"Accuracy (Test): {:.4f}\".format(accuracy_test))\n",
    "print(\"Precision (Test): {:.4f}\".format(precision_test))\n",
    "print(\"Recall (Test): {:.4f}\".format(recall_test))\n",
    "print(\"F1 score (Test): {:.4f}\".format(f1_test))"
   ]
  },
  {
   "cell_type": "code",
   "execution_count": null,
   "metadata": {
    "execution": {
     "iopub.status.busy": "2025-03-02T07:06:01.950822Z",
     "iopub.status.idle": "2025-03-02T07:06:01.951281Z",
     "shell.execute_reply": "2025-03-02T07:06:01.951054Z",
     "shell.execute_reply.started": "2025-03-02T07:06:01.951031Z"
    },
    "trusted": true
   },
   "outputs": [],
   "source": [
    "# make predictions on the train data\n",
    "y_pred = xgb.predict(X_train)"
   ]
  },
  {
   "cell_type": "code",
   "execution_count": null,
   "metadata": {
    "execution": {
     "iopub.status.busy": "2025-03-02T07:06:01.952957Z",
     "iopub.status.idle": "2025-03-02T07:06:01.953286Z",
     "shell.execute_reply": "2025-03-02T07:06:01.953118Z",
     "shell.execute_reply.started": "2025-03-02T07:06:01.953103Z"
    },
    "trusted": true
   },
   "outputs": [],
   "source": [
    "classes=['N', 'S', 'V', 'F', 'M']\n",
    "# Compute the confusion matrix\n",
    "cm = confusion_matrix(y_train, y_pred)\n",
    "\n",
    "# Plot the confusion matrix\n",
    "fig, ax = plt.subplots()\n",
    "im = ax.imshow(cm, interpolation='nearest', cmap=plt.cm.Greens)\n",
    "ax.figure.colorbar(im, ax=ax)\n",
    "ax.set(xticks=np.arange(cm.shape[1]),\n",
    "       yticks=np.arange(cm.shape[0]),\n",
    "       xticklabels=classes,\n",
    "       yticklabels=classes,\n",
    "       xlabel='Predicted label',\n",
    "       ylabel='True label',\n",
    "       aspect='equal',\n",
    "       )\n",
    "plt.xticks(np.arange(cm.shape[1]),  rotation=45, fontweight='bold', color='black',fontsize=10)\n",
    "plt.yticks(np.arange(cm.shape[0]),  fontweight='bold', color='black',fontsize=10)\n",
    "plt.ylabel('True label', fontweight='bold', color='black',fontsize=10)\n",
    "plt.xlabel('Predicted label', fontweight='bold', color='black',fontsize=10)\n",
    "plt.setp(ax.get_xticklabels(), rotation=45, ha=\"right\",rotation_mode=\"anchor\")\n",
    "\n",
    "for i in range(cm.shape[0]):\n",
    "    for j in range(cm.shape[1]):\n",
    "        ax.text(j, i, format(cm[i, j], 'd'),\n",
    "                ha=\"center\", va=\"center\", fontweight='bold',\n",
    "                color=\"white\" if cm[i, j] > cm.max() / 2. else \"black\")\n",
    "fig.tight_layout()\n",
    "plt.show()"
   ]
  },
  {
   "cell_type": "code",
   "execution_count": null,
   "metadata": {
    "execution": {
     "iopub.status.busy": "2025-03-02T07:06:01.954571Z",
     "iopub.status.idle": "2025-03-02T07:06:01.954909Z",
     "shell.execute_reply": "2025-03-02T07:06:01.954764Z",
     "shell.execute_reply.started": "2025-03-02T07:06:01.954747Z"
    },
    "trusted": true
   },
   "outputs": [],
   "source": [
    "accuracy_train = accuracy_score(y_train, y_pred)*100\n",
    "precision_train = precision_score(y_train, y_pred, average='macro')*100\n",
    "recall_train = recall_score(y_train, y_pred, average='macro')*100\n",
    "f1_train = f1_score(y_train, y_pred, average='macro')*100\n",
    "\n",
    "print(\"Accuracy (Train): {:.4f}\".format(accuracy_train))\n",
    "print(\"Precision (Train): {:.4f}\".format(precision_train))\n",
    "print(\"Recall (Train): {:.4f}\".format(recall_train))\n",
    "print(\"F1 score (Train): {:.4f}\".format(f1_train))"
   ]
  },
  {
   "cell_type": "code",
   "execution_count": null,
   "metadata": {
    "execution": {
     "iopub.status.busy": "2025-03-02T07:06:01.955963Z",
     "iopub.status.idle": "2025-03-02T07:06:01.956280Z",
     "shell.execute_reply": "2025-03-02T07:06:01.956113Z",
     "shell.execute_reply.started": "2025-03-02T07:06:01.956098Z"
    },
    "trusted": true
   },
   "outputs": [],
   "source": [
    "with open('xgb.csv', 'w', newline='') as csvfile:\n",
    "    writer = csv.writer(csvfile)\n",
    "    writer.writerow(['Model','Accuracy (Train)', 'Precision (Train)', 'Recall (Train)', 'F1 Score (Train)','Accuracy (Test)', 'Precision (Test)', 'Recall (Test)', 'F1 Score (Test)'])\n",
    "    writer.writerow(['XGBoost',accuracy_train, precision_train, recall_train, f1_train, accuracy_test, precision_test, recall_test, f1_test])\n",
    "    \n",
    "result=pd.read_csv('xgb.csv')"
   ]
  },
  {
   "cell_type": "code",
   "execution_count": null,
   "metadata": {
    "execution": {
     "iopub.status.busy": "2025-03-02T07:06:01.957363Z",
     "iopub.status.idle": "2025-03-02T07:06:01.957699Z",
     "shell.execute_reply": "2025-03-02T07:06:01.957559Z",
     "shell.execute_reply.started": "2025-03-02T07:06:01.957542Z"
    },
    "trusted": true
   },
   "outputs": [],
   "source": [
    "result"
   ]
  },
  {
   "cell_type": "code",
   "execution_count": null,
   "metadata": {
    "execution": {
     "iopub.status.busy": "2025-03-02T07:06:01.959230Z",
     "iopub.status.idle": "2025-03-02T07:06:01.959525Z",
     "shell.execute_reply": "2025-03-02T07:06:01.959393Z",
     "shell.execute_reply.started": "2025-03-02T07:06:01.959378Z"
    },
    "trusted": true
   },
   "outputs": [],
   "source": [
    "model_name='XGBoost'\n",
    "all_model.loc[len(all_model)] = [model_name, accuracy_train, precision_train, recall_train, f1_train, accuracy_test, precision_test, recall_test, f1_test, training_time, testing_time, memory_usage]"
   ]
  },
  {
   "cell_type": "code",
   "execution_count": null,
   "metadata": {
    "execution": {
     "iopub.status.busy": "2025-03-02T07:06:01.960943Z",
     "iopub.status.idle": "2025-03-02T07:06:01.961264Z",
     "shell.execute_reply": "2025-03-02T07:06:01.961101Z",
     "shell.execute_reply.started": "2025-03-02T07:06:01.961086Z"
    },
    "trusted": true
   },
   "outputs": [],
   "source": [
    "all_model"
   ]
  },
  {
   "cell_type": "markdown",
   "metadata": {},
   "source": [
    "**Catboost**"
   ]
  },
  {
   "cell_type": "code",
   "execution_count": null,
   "metadata": {
    "execution": {
     "iopub.status.busy": "2025-03-02T07:06:01.962421Z",
     "iopub.status.idle": "2025-03-02T07:06:01.962734Z",
     "shell.execute_reply": "2025-03-02T07:06:01.962598Z",
     "shell.execute_reply.started": "2025-03-02T07:06:01.962582Z"
    },
    "trusted": true
   },
   "outputs": [],
   "source": [
    "!pip install catboost"
   ]
  },
  {
   "cell_type": "code",
   "execution_count": null,
   "metadata": {
    "execution": {
     "iopub.status.busy": "2025-03-02T07:06:01.964108Z",
     "iopub.status.idle": "2025-03-02T07:06:01.964566Z",
     "shell.execute_reply": "2025-03-02T07:06:01.964349Z",
     "shell.execute_reply.started": "2025-03-02T07:06:01.964325Z"
    },
    "trusted": true
   },
   "outputs": [],
   "source": [
    "from catboost import CatBoostClassifier\n",
    "\n",
    "# define the CB model\n",
    "cb = CatBoostClassifier()\n",
    "\n",
    "# fit the model on the training data\n",
    "start_time = time.time()\n",
    "cb.fit(X_train, y_train)\n",
    "training_time = time.time() - start_time\n",
    "memory_usage = psutil.Process().memory_info().rss / 1024 / 1024"
   ]
  },
  {
   "cell_type": "code",
   "execution_count": null,
   "metadata": {
    "execution": {
     "iopub.status.busy": "2025-03-02T07:06:01.966097Z",
     "iopub.status.idle": "2025-03-02T07:06:01.966585Z",
     "shell.execute_reply": "2025-03-02T07:06:01.966350Z",
     "shell.execute_reply.started": "2025-03-02T07:06:01.966324Z"
    },
    "trusted": true
   },
   "outputs": [],
   "source": [
    "# make predictions on the test data\n",
    "start_time = time.time()\n",
    "y_pred = cb.predict(X_test)\n",
    "testing_time = time.time() - start_time"
   ]
  },
  {
   "cell_type": "code",
   "execution_count": null,
   "metadata": {
    "execution": {
     "iopub.status.busy": "2025-03-02T07:06:01.967644Z",
     "iopub.status.idle": "2025-03-02T07:06:01.968129Z",
     "shell.execute_reply": "2025-03-02T07:06:01.967910Z",
     "shell.execute_reply.started": "2025-03-02T07:06:01.967886Z"
    },
    "trusted": true
   },
   "outputs": [],
   "source": [
    "classes=['N', 'S', 'V', 'F', 'M']\n",
    "# Compute the confusion matrix\n",
    "cm = confusion_matrix(y_test, y_pred)\n",
    "\n",
    "# Plot the confusion matrix\n",
    "fig, ax = plt.subplots()\n",
    "im = ax.imshow(cm, interpolation='nearest', cmap=plt.cm.Greens)\n",
    "ax.figure.colorbar(im, ax=ax)\n",
    "ax.set(xticks=np.arange(cm.shape[1]),\n",
    "       yticks=np.arange(cm.shape[0]),\n",
    "       xticklabels=classes,\n",
    "       yticklabels=classes,\n",
    "       xlabel='Predicted label',\n",
    "       ylabel='True label',\n",
    "       aspect='equal',\n",
    "       )\n",
    "plt.xticks(np.arange(cm.shape[1]),  rotation=45, fontweight='bold', color='black',fontsize=10)\n",
    "plt.yticks(np.arange(cm.shape[0]),  fontweight='bold', color='black',fontsize=10)\n",
    "plt.ylabel('True label', fontweight='bold', color='black',fontsize=10)\n",
    "plt.xlabel('Predicted label', fontweight='bold', color='black',fontsize=10)\n",
    "plt.setp(ax.get_xticklabels(), rotation=45, ha=\"right\",rotation_mode=\"anchor\")\n",
    "\n",
    "for i in range(cm.shape[0]):\n",
    "    for j in range(cm.shape[1]):\n",
    "        ax.text(j, i, format(cm[i, j], 'd'),\n",
    "                ha=\"center\", va=\"center\", fontweight='bold',\n",
    "                color=\"white\" if cm[i, j] > cm.max() / 2. else \"black\")\n",
    "fig.tight_layout()\n",
    "plt.show()"
   ]
  },
  {
   "cell_type": "code",
   "execution_count": null,
   "metadata": {
    "execution": {
     "iopub.status.busy": "2025-03-02T07:06:01.969312Z",
     "iopub.status.idle": "2025-03-02T07:06:01.969625Z",
     "shell.execute_reply": "2025-03-02T07:06:01.969490Z",
     "shell.execute_reply.started": "2025-03-02T07:06:01.969472Z"
    },
    "trusted": true
   },
   "outputs": [],
   "source": [
    "accuracy_test = accuracy_score(y_test, y_pred)*100\n",
    "precision_test = precision_score(y_test, y_pred, average='macro')*100\n",
    "recall_test = recall_score(y_test, y_pred, average='macro')*100\n",
    "f1_test = f1_score(y_test, y_pred, average='macro')*100\n",
    "\n",
    "print(\"Accuracy (Test): {:.4f}\".format(accuracy_test))\n",
    "print(\"Precision (Test): {:.4f}\".format(precision_test))\n",
    "print(\"Recall (Test): {:.4f}\".format(recall_test))\n",
    "print(\"F1 score (Test): {:.4f}\".format(f1_test))"
   ]
  },
  {
   "cell_type": "code",
   "execution_count": null,
   "metadata": {
    "execution": {
     "iopub.status.busy": "2025-03-02T07:06:01.971114Z",
     "iopub.status.idle": "2025-03-02T07:06:01.971450Z",
     "shell.execute_reply": "2025-03-02T07:06:01.971304Z",
     "shell.execute_reply.started": "2025-03-02T07:06:01.971288Z"
    },
    "trusted": true
   },
   "outputs": [],
   "source": [
    "# make predictions on the train data\n",
    "y_pred = cb.predict(X_train)"
   ]
  },
  {
   "cell_type": "code",
   "execution_count": null,
   "metadata": {
    "execution": {
     "iopub.status.busy": "2025-03-02T07:06:01.972770Z",
     "iopub.status.idle": "2025-03-02T07:06:01.973098Z",
     "shell.execute_reply": "2025-03-02T07:06:01.972958Z",
     "shell.execute_reply.started": "2025-03-02T07:06:01.972940Z"
    },
    "trusted": true
   },
   "outputs": [],
   "source": [
    "classes=['N', 'S', 'V', 'F', 'M']\n",
    "# Compute the confusion matrix\n",
    "cm = confusion_matrix(y_train, y_pred)\n",
    "\n",
    "# Plot the confusion matrix\n",
    "fig, ax = plt.subplots()\n",
    "im = ax.imshow(cm, interpolation='nearest', cmap=plt.cm.Greens)\n",
    "ax.figure.colorbar(im, ax=ax)\n",
    "ax.set(xticks=np.arange(cm.shape[1]),\n",
    "       yticks=np.arange(cm.shape[0]),\n",
    "       xticklabels=classes,\n",
    "       yticklabels=classes,\n",
    "       xlabel='Predicted label',\n",
    "       ylabel='True label',\n",
    "       aspect='equal',\n",
    "       )\n",
    "plt.xticks(np.arange(cm.shape[1]),  rotation=45, fontweight='bold', color='black',fontsize=10)\n",
    "plt.yticks(np.arange(cm.shape[0]),  fontweight='bold', color='black',fontsize=10)\n",
    "plt.ylabel('True label', fontweight='bold', color='black',fontsize=10)\n",
    "plt.xlabel('Predicted label', fontweight='bold', color='black',fontsize=10)\n",
    "plt.setp(ax.get_xticklabels(), rotation=45, ha=\"right\",rotation_mode=\"anchor\")\n",
    "\n",
    "for i in range(cm.shape[0]):\n",
    "    for j in range(cm.shape[1]):\n",
    "        ax.text(j, i, format(cm[i, j], 'd'),\n",
    "                ha=\"center\", va=\"center\", fontweight='bold',\n",
    "                color=\"white\" if cm[i, j] > cm.max() / 2. else \"black\")\n",
    "fig.tight_layout()\n",
    "plt.show()"
   ]
  },
  {
   "cell_type": "code",
   "execution_count": null,
   "metadata": {
    "execution": {
     "iopub.status.busy": "2025-03-02T07:06:01.974381Z",
     "iopub.status.idle": "2025-03-02T07:06:01.974862Z",
     "shell.execute_reply": "2025-03-02T07:06:01.974636Z",
     "shell.execute_reply.started": "2025-03-02T07:06:01.974610Z"
    },
    "trusted": true
   },
   "outputs": [],
   "source": [
    "accuracy_train = accuracy_score(y_train, y_pred)*100\n",
    "precision_train = precision_score(y_train, y_pred, average='macro')*100\n",
    "recall_train = recall_score(y_train, y_pred, average='macro')*100\n",
    "f1_train = f1_score(y_train, y_pred, average='macro')*100\n",
    "\n",
    "print(\"Accuracy (Train): {:.4f}\".format(accuracy_train))\n",
    "print(\"Precision (Train): {:.4f}\".format(precision_train))\n",
    "print(\"Recall (Train): {:.4f}\".format(recall_train))\n",
    "print(\"F1 score (Train): {:.4f}\".format(f1_train))"
   ]
  },
  {
   "cell_type": "code",
   "execution_count": null,
   "metadata": {
    "execution": {
     "iopub.status.busy": "2025-03-02T07:06:01.975965Z",
     "iopub.status.idle": "2025-03-02T07:06:01.976452Z",
     "shell.execute_reply": "2025-03-02T07:06:01.976224Z",
     "shell.execute_reply.started": "2025-03-02T07:06:01.976199Z"
    },
    "trusted": true
   },
   "outputs": [],
   "source": [
    "with open('cb.csv', 'w', newline='') as csvfile:\n",
    "    writer = csv.writer(csvfile)\n",
    "    writer.writerow(['Model','Accuracy (Train)', 'Precision (Train)', 'Recall (Train)', 'F1 Score (Train)','Accuracy (Test)', 'Precision (Test)', 'Recall (Test)', 'F1 Score (Test)'])\n",
    "    writer.writerow(['CatBoost',accuracy_train, precision_train, recall_train, f1_train, accuracy_test, precision_test, recall_test, f1_test])\n",
    "    \n",
    "result=pd.read_csv('cb.csv')"
   ]
  },
  {
   "cell_type": "code",
   "execution_count": null,
   "metadata": {
    "execution": {
     "iopub.status.busy": "2025-03-02T07:06:01.978184Z",
     "iopub.status.idle": "2025-03-02T07:06:01.978657Z",
     "shell.execute_reply": "2025-03-02T07:06:01.978424Z",
     "shell.execute_reply.started": "2025-03-02T07:06:01.978400Z"
    },
    "trusted": true
   },
   "outputs": [],
   "source": [
    "result"
   ]
  },
  {
   "cell_type": "code",
   "execution_count": null,
   "metadata": {
    "execution": {
     "iopub.status.busy": "2025-03-02T07:06:01.980292Z",
     "iopub.status.idle": "2025-03-02T07:06:01.980781Z",
     "shell.execute_reply": "2025-03-02T07:06:01.980553Z",
     "shell.execute_reply.started": "2025-03-02T07:06:01.980528Z"
    },
    "trusted": true
   },
   "outputs": [],
   "source": [
    "model_name='Catboost'\n",
    "all_model.loc[len(all_model)] = [model_name, accuracy_train, precision_train, recall_train, f1_train, accuracy_test, precision_test, recall_test, f1_test, training_time, testing_time, memory_usage]"
   ]
  },
  {
   "cell_type": "code",
   "execution_count": null,
   "metadata": {
    "execution": {
     "iopub.status.busy": "2025-03-02T07:06:01.981905Z",
     "iopub.status.idle": "2025-03-02T07:06:01.982282Z",
     "shell.execute_reply": "2025-03-02T07:06:01.982095Z",
     "shell.execute_reply.started": "2025-03-02T07:06:01.982077Z"
    },
    "trusted": true
   },
   "outputs": [],
   "source": [
    "all_model"
   ]
  }
 ],
 "metadata": {
  "kaggle": {
   "accelerator": "nvidiaTeslaT4",
   "dataSources": [
    {
     "datasetId": 3101414,
     "sourceId": 5340870,
     "sourceType": "datasetVersion"
    }
   ],
   "dockerImageVersionId": 30461,
   "isGpuEnabled": true,
   "isInternetEnabled": true,
   "language": "python",
   "sourceType": "notebook"
  },
  "kernelspec": {
   "display_name": "Python 3",
   "language": "python",
   "name": "python3"
  },
  "language_info": {
   "codemirror_mode": {
    "name": "ipython",
    "version": 3
   },
   "file_extension": ".py",
   "mimetype": "text/x-python",
   "name": "python",
   "nbconvert_exporter": "python",
   "pygments_lexer": "ipython3",
   "version": "3.7.12"
  }
 },
 "nbformat": 4,
 "nbformat_minor": 4
}
